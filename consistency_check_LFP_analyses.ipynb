{
  "cells": [
    {
      "cell_type": "markdown",
      "metadata": {
        "id": "view-in-github",
        "colab_type": "text"
      },
      "source": [
        "<a href=\"https://colab.research.google.com/github/lfernandof/lfp_signals_analysis/blob/main/consistency_check_LFP_analyses.ipynb\" target=\"_parent\"><img src=\"https://colab.research.google.com/assets/colab-badge.svg\" alt=\"Open In Colab\"/></a>"
      ]
    },
    {
      "cell_type": "markdown",
      "metadata": {
        "id": "ALG90fcwpEv8"
      },
      "source": [
        "# Imports and installs"
      ]
    },
    {
      "cell_type": "code",
      "execution_count": 1,
      "metadata": {
        "colab": {
          "base_uri": "https://localhost:8080/"
        },
        "id": "2B1Jioc0nlWW",
        "outputId": "c61722e4-1b51-44a1-946e-13181d3d7731"
      },
      "outputs": [
        {
          "output_type": "stream",
          "name": "stdout",
          "text": [
            "Drive already mounted at /content/drive; to attempt to forcibly remount, call drive.mount(\"/content/drive\", force_remount=True).\n"
          ]
        }
      ],
      "source": [
        "# IMPORTS AND INSTALLS\n",
        "import pandas as pd\n",
        "import numpy as np\n",
        "import matplotlib.pyplot as plt\n",
        "import scipy.io as sio\n",
        "import os\n",
        "import json\n",
        "import scipy\n",
        "import pickle\n",
        "import seaborn as sns\n",
        "\n",
        "\n",
        "# ACCESS TO DATA\n",
        "from google.colab import drive\n",
        "drive.mount('/content/drive')"
      ]
    },
    {
      "cell_type": "markdown",
      "metadata": {
        "id": "qC1Uxz0Ro7uW"
      },
      "source": [
        "# Convert data from .mat into .csv and .npy files"
      ]
    },
    {
      "cell_type": "code",
      "execution_count": null,
      "metadata": {
        "id": "-gahb-slpAZj"
      },
      "outputs": [],
      "source": [
        "#should run at 'all_channels' folder\n",
        "\n",
        "def data_from_mat(rat_id,day_id):\n",
        "\n",
        "    animal_label = f'rat{rat_id}_day{day_id}_LFP_all'\n",
        "    data = sio.loadmat('./data/'+animal_label+'_regions.mat')\n",
        "\n",
        "    lfp = data[animal_label]['data'][0][0].T #using the transpose so its shape is (num_channels,num_points)\n",
        "    timestamps = data[animal_label]['timestamps'][0][0]\n",
        "    regions_listing = data[animal_label]['regions'][0][0][0]\n",
        "\n",
        "    regions = {}\n",
        "    metadata = {}\n",
        "    metadata['total_duration'] = data[animal_label]['duration'][0][0][0][0]\n",
        "    metadata['interval'] = data[animal_label]['interval'][0][0][0]\n",
        "    metadata['sampling_rate'] = data[animal_label]['samplingRate'][0][0][0][0]\n",
        "\n",
        "    #create a folder to store the data\n",
        "    os.chdir('./data/separated_channels')\n",
        "    os.makedirs(animal_label)\n",
        "\n",
        "    #go inside this folder\n",
        "    os.chdir(animal_label)\n",
        "\n",
        "    #loop through the dataset\n",
        "    for i in range(np.shape(lfp)[0]):\n",
        "        label = f'ch{i}_{regions_listing[i][0]}'  #chX_region, channel in [0,31]\n",
        "        #and region being either \"PFC\" or \"STR\"\n",
        "\n",
        "        regions[label.split('_')[0]] = label.split('_')[1]\n",
        "\n",
        "        #save each channel's activity as a .npy file\n",
        "        np.save(file=label,arr=lfp[i,:])\n",
        "\n",
        "    #save the timestamps to a .npy file\n",
        "    np.save(file='timestamps',arr=timestamps)\n",
        "\n",
        "    #save the channel-region correspondence into a file\n",
        "    import json\n",
        "    with open(\"channel_region\", \"w\") as regions_file:\n",
        "        json.dump(obj=regions,fp=regions_file)\n",
        "\n",
        "#    with open('channel_region.txt','w') as regions_file:\n",
        "#        regions_file.write(str(regions))\n",
        "\n",
        "    #save the metadata to a text file\n",
        "    with open('metadata.json','w') as metadata_file:\n",
        "        metadata_file.write(str(metadata))\n",
        "\n",
        "    #return to the former directory\n",
        "    os.chdir('../../..')\n",
        "    #and confirm whether it really is where one started\n",
        "    print(os.getcwd())"
      ]
    },
    {
      "cell_type": "code",
      "execution_count": null,
      "metadata": {
        "colab": {
          "base_uri": "https://localhost:8080/",
          "height": 305
        },
        "id": "wDu_5-xUpDrt",
        "outputId": "d1545c51-720e-4c68-8dff-3edcce9b3d31"
      },
      "outputs": [
        {
          "output_type": "error",
          "ename": "KeyboardInterrupt",
          "evalue": "",
          "traceback": [
            "\u001b[0;31m---------------------------------------------------------------------------\u001b[0m",
            "\u001b[0;31mKeyboardInterrupt\u001b[0m                         Traceback (most recent call last)",
            "\u001b[0;32m<ipython-input-3-66806973697b>\u001b[0m in \u001b[0;36m<cell line: 7>\u001b[0;34m()\u001b[0m\n\u001b[1;32m      5\u001b[0m \u001b[0;34m\u001b[0m\u001b[0m\n\u001b[1;32m      6\u001b[0m \u001b[0;31m#load auxiliary session data (trial segmenting times for all animals)\u001b[0m\u001b[0;34m\u001b[0m\u001b[0;34m\u001b[0m\u001b[0m\n\u001b[0;32m----> 7\u001b[0;31m \u001b[0msession_data\u001b[0m \u001b[0;34m=\u001b[0m \u001b[0mpd\u001b[0m\u001b[0;34m.\u001b[0m\u001b[0mread_csv\u001b[0m\u001b[0;34m(\u001b[0m\u001b[0;34m'./data/session_data-spikes.csv'\u001b[0m\u001b[0;34m)\u001b[0m\u001b[0;34m.\u001b[0m\u001b[0mcopy\u001b[0m\u001b[0;34m(\u001b[0m\u001b[0;34m)\u001b[0m\u001b[0;34m\u001b[0m\u001b[0;34m\u001b[0m\u001b[0m\n\u001b[0m\u001b[1;32m      8\u001b[0m \u001b[0;34m\u001b[0m\u001b[0m\n\u001b[1;32m      9\u001b[0m \u001b[0mdata_from_mat\u001b[0m\u001b[0;34m(\u001b[0m\u001b[0mrat_id\u001b[0m\u001b[0;34m=\u001b[0m\u001b[0;36m6\u001b[0m\u001b[0;34m,\u001b[0m\u001b[0mday_id\u001b[0m\u001b[0;34m=\u001b[0m\u001b[0;36m2\u001b[0m\u001b[0;34m)\u001b[0m\u001b[0;34m\u001b[0m\u001b[0;34m\u001b[0m\u001b[0m\n",
            "\u001b[0;32m/usr/local/lib/python3.10/dist-packages/pandas/util/_decorators.py\u001b[0m in \u001b[0;36mwrapper\u001b[0;34m(*args, **kwargs)\u001b[0m\n\u001b[1;32m    209\u001b[0m                 \u001b[0;32melse\u001b[0m\u001b[0;34m:\u001b[0m\u001b[0;34m\u001b[0m\u001b[0;34m\u001b[0m\u001b[0m\n\u001b[1;32m    210\u001b[0m                     \u001b[0mkwargs\u001b[0m\u001b[0;34m[\u001b[0m\u001b[0mnew_arg_name\u001b[0m\u001b[0;34m]\u001b[0m \u001b[0;34m=\u001b[0m \u001b[0mnew_arg_value\u001b[0m\u001b[0;34m\u001b[0m\u001b[0;34m\u001b[0m\u001b[0m\n\u001b[0;32m--> 211\u001b[0;31m             \u001b[0;32mreturn\u001b[0m \u001b[0mfunc\u001b[0m\u001b[0;34m(\u001b[0m\u001b[0;34m*\u001b[0m\u001b[0margs\u001b[0m\u001b[0;34m,\u001b[0m \u001b[0;34m**\u001b[0m\u001b[0mkwargs\u001b[0m\u001b[0;34m)\u001b[0m\u001b[0;34m\u001b[0m\u001b[0;34m\u001b[0m\u001b[0m\n\u001b[0m\u001b[1;32m    212\u001b[0m \u001b[0;34m\u001b[0m\u001b[0m\n\u001b[1;32m    213\u001b[0m         \u001b[0;32mreturn\u001b[0m \u001b[0mcast\u001b[0m\u001b[0;34m(\u001b[0m\u001b[0mF\u001b[0m\u001b[0;34m,\u001b[0m \u001b[0mwrapper\u001b[0m\u001b[0;34m)\u001b[0m\u001b[0;34m\u001b[0m\u001b[0;34m\u001b[0m\u001b[0m\n",
            "\u001b[0;32m/usr/local/lib/python3.10/dist-packages/pandas/util/_decorators.py\u001b[0m in \u001b[0;36mwrapper\u001b[0;34m(*args, **kwargs)\u001b[0m\n\u001b[1;32m    329\u001b[0m                     \u001b[0mstacklevel\u001b[0m\u001b[0;34m=\u001b[0m\u001b[0mfind_stack_level\u001b[0m\u001b[0;34m(\u001b[0m\u001b[0;34m)\u001b[0m\u001b[0;34m,\u001b[0m\u001b[0;34m\u001b[0m\u001b[0;34m\u001b[0m\u001b[0m\n\u001b[1;32m    330\u001b[0m                 )\n\u001b[0;32m--> 331\u001b[0;31m             \u001b[0;32mreturn\u001b[0m \u001b[0mfunc\u001b[0m\u001b[0;34m(\u001b[0m\u001b[0;34m*\u001b[0m\u001b[0margs\u001b[0m\u001b[0;34m,\u001b[0m \u001b[0;34m**\u001b[0m\u001b[0mkwargs\u001b[0m\u001b[0;34m)\u001b[0m\u001b[0;34m\u001b[0m\u001b[0;34m\u001b[0m\u001b[0m\n\u001b[0m\u001b[1;32m    332\u001b[0m \u001b[0;34m\u001b[0m\u001b[0m\n\u001b[1;32m    333\u001b[0m         \u001b[0;31m# error: \"Callable[[VarArg(Any), KwArg(Any)], Any]\" has no\u001b[0m\u001b[0;34m\u001b[0m\u001b[0;34m\u001b[0m\u001b[0m\n",
            "\u001b[0;32m/usr/local/lib/python3.10/dist-packages/pandas/io/parsers/readers.py\u001b[0m in \u001b[0;36mread_csv\u001b[0;34m(filepath_or_buffer, sep, delimiter, header, names, index_col, usecols, squeeze, prefix, mangle_dupe_cols, dtype, engine, converters, true_values, false_values, skipinitialspace, skiprows, skipfooter, nrows, na_values, keep_default_na, na_filter, verbose, skip_blank_lines, parse_dates, infer_datetime_format, keep_date_col, date_parser, dayfirst, cache_dates, iterator, chunksize, compression, thousands, decimal, lineterminator, quotechar, quoting, doublequote, escapechar, comment, encoding, encoding_errors, dialect, error_bad_lines, warn_bad_lines, on_bad_lines, delim_whitespace, low_memory, memory_map, float_precision, storage_options)\u001b[0m\n\u001b[1;32m    948\u001b[0m     \u001b[0mkwds\u001b[0m\u001b[0;34m.\u001b[0m\u001b[0mupdate\u001b[0m\u001b[0;34m(\u001b[0m\u001b[0mkwds_defaults\u001b[0m\u001b[0;34m)\u001b[0m\u001b[0;34m\u001b[0m\u001b[0;34m\u001b[0m\u001b[0m\n\u001b[1;32m    949\u001b[0m \u001b[0;34m\u001b[0m\u001b[0m\n\u001b[0;32m--> 950\u001b[0;31m     \u001b[0;32mreturn\u001b[0m \u001b[0m_read\u001b[0m\u001b[0;34m(\u001b[0m\u001b[0mfilepath_or_buffer\u001b[0m\u001b[0;34m,\u001b[0m \u001b[0mkwds\u001b[0m\u001b[0;34m)\u001b[0m\u001b[0;34m\u001b[0m\u001b[0;34m\u001b[0m\u001b[0m\n\u001b[0m\u001b[1;32m    951\u001b[0m \u001b[0;34m\u001b[0m\u001b[0m\n\u001b[1;32m    952\u001b[0m \u001b[0;34m\u001b[0m\u001b[0m\n",
            "\u001b[0;32m/usr/local/lib/python3.10/dist-packages/pandas/io/parsers/readers.py\u001b[0m in \u001b[0;36m_read\u001b[0;34m(filepath_or_buffer, kwds)\u001b[0m\n\u001b[1;32m    603\u001b[0m \u001b[0;34m\u001b[0m\u001b[0m\n\u001b[1;32m    604\u001b[0m     \u001b[0;31m# Create the parser.\u001b[0m\u001b[0;34m\u001b[0m\u001b[0;34m\u001b[0m\u001b[0m\n\u001b[0;32m--> 605\u001b[0;31m     \u001b[0mparser\u001b[0m \u001b[0;34m=\u001b[0m \u001b[0mTextFileReader\u001b[0m\u001b[0;34m(\u001b[0m\u001b[0mfilepath_or_buffer\u001b[0m\u001b[0;34m,\u001b[0m \u001b[0;34m**\u001b[0m\u001b[0mkwds\u001b[0m\u001b[0;34m)\u001b[0m\u001b[0;34m\u001b[0m\u001b[0;34m\u001b[0m\u001b[0m\n\u001b[0m\u001b[1;32m    606\u001b[0m \u001b[0;34m\u001b[0m\u001b[0m\n\u001b[1;32m    607\u001b[0m     \u001b[0;32mif\u001b[0m \u001b[0mchunksize\u001b[0m \u001b[0;32mor\u001b[0m \u001b[0miterator\u001b[0m\u001b[0;34m:\u001b[0m\u001b[0;34m\u001b[0m\u001b[0;34m\u001b[0m\u001b[0m\n",
            "\u001b[0;32m/usr/local/lib/python3.10/dist-packages/pandas/io/parsers/readers.py\u001b[0m in \u001b[0;36m__init__\u001b[0;34m(self, f, engine, **kwds)\u001b[0m\n\u001b[1;32m   1440\u001b[0m \u001b[0;34m\u001b[0m\u001b[0m\n\u001b[1;32m   1441\u001b[0m         \u001b[0mself\u001b[0m\u001b[0;34m.\u001b[0m\u001b[0mhandles\u001b[0m\u001b[0;34m:\u001b[0m \u001b[0mIOHandles\u001b[0m \u001b[0;34m|\u001b[0m \u001b[0;32mNone\u001b[0m \u001b[0;34m=\u001b[0m \u001b[0;32mNone\u001b[0m\u001b[0;34m\u001b[0m\u001b[0;34m\u001b[0m\u001b[0m\n\u001b[0;32m-> 1442\u001b[0;31m         \u001b[0mself\u001b[0m\u001b[0;34m.\u001b[0m\u001b[0m_engine\u001b[0m \u001b[0;34m=\u001b[0m \u001b[0mself\u001b[0m\u001b[0;34m.\u001b[0m\u001b[0m_make_engine\u001b[0m\u001b[0;34m(\u001b[0m\u001b[0mf\u001b[0m\u001b[0;34m,\u001b[0m \u001b[0mself\u001b[0m\u001b[0;34m.\u001b[0m\u001b[0mengine\u001b[0m\u001b[0;34m)\u001b[0m\u001b[0;34m\u001b[0m\u001b[0;34m\u001b[0m\u001b[0m\n\u001b[0m\u001b[1;32m   1443\u001b[0m \u001b[0;34m\u001b[0m\u001b[0m\n\u001b[1;32m   1444\u001b[0m     \u001b[0;32mdef\u001b[0m \u001b[0mclose\u001b[0m\u001b[0;34m(\u001b[0m\u001b[0mself\u001b[0m\u001b[0;34m)\u001b[0m \u001b[0;34m->\u001b[0m \u001b[0;32mNone\u001b[0m\u001b[0;34m:\u001b[0m\u001b[0;34m\u001b[0m\u001b[0;34m\u001b[0m\u001b[0m\n",
            "\u001b[0;32m/usr/local/lib/python3.10/dist-packages/pandas/io/parsers/readers.py\u001b[0m in \u001b[0;36m_make_engine\u001b[0;34m(self, f, engine)\u001b[0m\n\u001b[1;32m   1733\u001b[0m                 \u001b[0;32mif\u001b[0m \u001b[0;34m\"b\"\u001b[0m \u001b[0;32mnot\u001b[0m \u001b[0;32min\u001b[0m \u001b[0mmode\u001b[0m\u001b[0;34m:\u001b[0m\u001b[0;34m\u001b[0m\u001b[0;34m\u001b[0m\u001b[0m\n\u001b[1;32m   1734\u001b[0m                     \u001b[0mmode\u001b[0m \u001b[0;34m+=\u001b[0m \u001b[0;34m\"b\"\u001b[0m\u001b[0;34m\u001b[0m\u001b[0;34m\u001b[0m\u001b[0m\n\u001b[0;32m-> 1735\u001b[0;31m             self.handles = get_handle(\n\u001b[0m\u001b[1;32m   1736\u001b[0m                 \u001b[0mf\u001b[0m\u001b[0;34m,\u001b[0m\u001b[0;34m\u001b[0m\u001b[0;34m\u001b[0m\u001b[0m\n\u001b[1;32m   1737\u001b[0m                 \u001b[0mmode\u001b[0m\u001b[0;34m,\u001b[0m\u001b[0;34m\u001b[0m\u001b[0;34m\u001b[0m\u001b[0m\n",
            "\u001b[0;32m/usr/local/lib/python3.10/dist-packages/pandas/io/common.py\u001b[0m in \u001b[0;36mget_handle\u001b[0;34m(path_or_buf, mode, encoding, compression, memory_map, is_text, errors, storage_options)\u001b[0m\n\u001b[1;32m    702\u001b[0m \u001b[0;34m\u001b[0m\u001b[0m\n\u001b[1;32m    703\u001b[0m     \u001b[0;31m# read_csv does not know whether the buffer is opened in binary/text mode\u001b[0m\u001b[0;34m\u001b[0m\u001b[0;34m\u001b[0m\u001b[0m\n\u001b[0;32m--> 704\u001b[0;31m     \u001b[0;32mif\u001b[0m \u001b[0m_is_binary_mode\u001b[0m\u001b[0;34m(\u001b[0m\u001b[0mpath_or_buf\u001b[0m\u001b[0;34m,\u001b[0m \u001b[0mmode\u001b[0m\u001b[0;34m)\u001b[0m \u001b[0;32mand\u001b[0m \u001b[0;34m\"b\"\u001b[0m \u001b[0;32mnot\u001b[0m \u001b[0;32min\u001b[0m \u001b[0mmode\u001b[0m\u001b[0;34m:\u001b[0m\u001b[0;34m\u001b[0m\u001b[0;34m\u001b[0m\u001b[0m\n\u001b[0m\u001b[1;32m    705\u001b[0m         \u001b[0mmode\u001b[0m \u001b[0;34m+=\u001b[0m \u001b[0;34m\"b\"\u001b[0m\u001b[0;34m\u001b[0m\u001b[0;34m\u001b[0m\u001b[0m\n\u001b[1;32m    706\u001b[0m \u001b[0;34m\u001b[0m\u001b[0m\n",
            "\u001b[0;32m/usr/local/lib/python3.10/dist-packages/pandas/io/common.py\u001b[0m in \u001b[0;36m_is_binary_mode\u001b[0;34m(handle, mode)\u001b[0m\n\u001b[1;32m   1161\u001b[0m         \u001b[0;32mreturn\u001b[0m \u001b[0;32mFalse\u001b[0m\u001b[0;34m\u001b[0m\u001b[0;34m\u001b[0m\u001b[0m\n\u001b[1;32m   1162\u001b[0m \u001b[0;34m\u001b[0m\u001b[0m\n\u001b[0;32m-> 1163\u001b[0;31m     return isinstance(handle, _get_binary_io_classes()) or \"b\" in getattr(\n\u001b[0m\u001b[1;32m   1164\u001b[0m         \u001b[0mhandle\u001b[0m\u001b[0;34m,\u001b[0m \u001b[0;34m\"mode\"\u001b[0m\u001b[0;34m,\u001b[0m \u001b[0mmode\u001b[0m\u001b[0;34m\u001b[0m\u001b[0;34m\u001b[0m\u001b[0m\n\u001b[1;32m   1165\u001b[0m     )\n",
            "\u001b[0;32m/usr/local/lib/python3.10/dist-packages/pandas/io/common.py\u001b[0m in \u001b[0;36m_get_binary_io_classes\u001b[0;34m()\u001b[0m\n\u001b[1;32m   1176\u001b[0m     \u001b[0;31m# so we have to get it from a `zstd.ZstdDecompressor` instance.\u001b[0m\u001b[0;34m\u001b[0m\u001b[0;34m\u001b[0m\u001b[0m\n\u001b[1;32m   1177\u001b[0m     \u001b[0;31m# See also https://github.com/indygreg/python-zstandard/pull/165.\u001b[0m\u001b[0;34m\u001b[0m\u001b[0;34m\u001b[0m\u001b[0m\n\u001b[0;32m-> 1178\u001b[0;31m     \u001b[0mzstd\u001b[0m \u001b[0;34m=\u001b[0m \u001b[0mimport_optional_dependency\u001b[0m\u001b[0;34m(\u001b[0m\u001b[0;34m\"zstandard\"\u001b[0m\u001b[0;34m,\u001b[0m \u001b[0merrors\u001b[0m\u001b[0;34m=\u001b[0m\u001b[0;34m\"ignore\"\u001b[0m\u001b[0;34m)\u001b[0m\u001b[0;34m\u001b[0m\u001b[0;34m\u001b[0m\u001b[0m\n\u001b[0m\u001b[1;32m   1179\u001b[0m     \u001b[0;32mif\u001b[0m \u001b[0mzstd\u001b[0m \u001b[0;32mis\u001b[0m \u001b[0;32mnot\u001b[0m \u001b[0;32mNone\u001b[0m\u001b[0;34m:\u001b[0m\u001b[0;34m\u001b[0m\u001b[0;34m\u001b[0m\u001b[0m\n\u001b[1;32m   1180\u001b[0m         \u001b[0;32mwith\u001b[0m \u001b[0mzstd\u001b[0m\u001b[0;34m.\u001b[0m\u001b[0mZstdDecompressor\u001b[0m\u001b[0;34m(\u001b[0m\u001b[0;34m)\u001b[0m\u001b[0;34m.\u001b[0m\u001b[0mstream_reader\u001b[0m\u001b[0;34m(\u001b[0m\u001b[0;34mb\"\"\u001b[0m\u001b[0;34m)\u001b[0m \u001b[0;32mas\u001b[0m \u001b[0mreader\u001b[0m\u001b[0;34m:\u001b[0m\u001b[0;34m\u001b[0m\u001b[0;34m\u001b[0m\u001b[0m\n",
            "\u001b[0;32m/usr/local/lib/python3.10/dist-packages/pandas/compat/_optional.py\u001b[0m in \u001b[0;36mimport_optional_dependency\u001b[0;34m(name, extra, errors, min_version)\u001b[0m\n\u001b[1;32m    139\u001b[0m     )\n\u001b[1;32m    140\u001b[0m     \u001b[0;32mtry\u001b[0m\u001b[0;34m:\u001b[0m\u001b[0;34m\u001b[0m\u001b[0;34m\u001b[0m\u001b[0m\n\u001b[0;32m--> 141\u001b[0;31m         \u001b[0mmodule\u001b[0m \u001b[0;34m=\u001b[0m \u001b[0mimportlib\u001b[0m\u001b[0;34m.\u001b[0m\u001b[0mimport_module\u001b[0m\u001b[0;34m(\u001b[0m\u001b[0mname\u001b[0m\u001b[0;34m)\u001b[0m\u001b[0;34m\u001b[0m\u001b[0;34m\u001b[0m\u001b[0m\n\u001b[0m\u001b[1;32m    142\u001b[0m     \u001b[0;32mexcept\u001b[0m \u001b[0mImportError\u001b[0m\u001b[0;34m:\u001b[0m\u001b[0;34m\u001b[0m\u001b[0;34m\u001b[0m\u001b[0m\n\u001b[1;32m    143\u001b[0m         \u001b[0;32mif\u001b[0m \u001b[0merrors\u001b[0m \u001b[0;34m==\u001b[0m \u001b[0;34m\"raise\"\u001b[0m\u001b[0;34m:\u001b[0m\u001b[0;34m\u001b[0m\u001b[0;34m\u001b[0m\u001b[0m\n",
            "\u001b[0;32m/usr/lib/python3.10/importlib/__init__.py\u001b[0m in \u001b[0;36mimport_module\u001b[0;34m(name, package)\u001b[0m\n\u001b[1;32m    124\u001b[0m                 \u001b[0;32mbreak\u001b[0m\u001b[0;34m\u001b[0m\u001b[0;34m\u001b[0m\u001b[0m\n\u001b[1;32m    125\u001b[0m             \u001b[0mlevel\u001b[0m \u001b[0;34m+=\u001b[0m \u001b[0;36m1\u001b[0m\u001b[0;34m\u001b[0m\u001b[0;34m\u001b[0m\u001b[0m\n\u001b[0;32m--> 126\u001b[0;31m     \u001b[0;32mreturn\u001b[0m \u001b[0m_bootstrap\u001b[0m\u001b[0;34m.\u001b[0m\u001b[0m_gcd_import\u001b[0m\u001b[0;34m(\u001b[0m\u001b[0mname\u001b[0m\u001b[0;34m[\u001b[0m\u001b[0mlevel\u001b[0m\u001b[0;34m:\u001b[0m\u001b[0;34m]\u001b[0m\u001b[0;34m,\u001b[0m \u001b[0mpackage\u001b[0m\u001b[0;34m,\u001b[0m \u001b[0mlevel\u001b[0m\u001b[0;34m)\u001b[0m\u001b[0;34m\u001b[0m\u001b[0;34m\u001b[0m\u001b[0m\n\u001b[0m\u001b[1;32m    127\u001b[0m \u001b[0;34m\u001b[0m\u001b[0m\n\u001b[1;32m    128\u001b[0m \u001b[0;34m\u001b[0m\u001b[0m\n",
            "\u001b[0;32m/usr/lib/python3.10/importlib/_bootstrap.py\u001b[0m in \u001b[0;36m_gcd_import\u001b[0;34m(name, package, level)\u001b[0m\n",
            "\u001b[0;32m/usr/lib/python3.10/importlib/_bootstrap.py\u001b[0m in \u001b[0;36m_find_and_load\u001b[0;34m(name, import_)\u001b[0m\n",
            "\u001b[0;32m/usr/lib/python3.10/importlib/_bootstrap.py\u001b[0m in \u001b[0;36m_find_and_load_unlocked\u001b[0;34m(name, import_)\u001b[0m\n",
            "\u001b[0;32m/usr/lib/python3.10/importlib/_bootstrap.py\u001b[0m in \u001b[0;36m_find_spec\u001b[0;34m(name, path, target)\u001b[0m\n",
            "\u001b[0;32m/usr/lib/python3.10/importlib/_bootstrap_external.py\u001b[0m in \u001b[0;36mfind_spec\u001b[0;34m(cls, fullname, path, target)\u001b[0m\n",
            "\u001b[0;32m/usr/lib/python3.10/importlib/_bootstrap_external.py\u001b[0m in \u001b[0;36m_get_spec\u001b[0;34m(cls, fullname, path, target)\u001b[0m\n",
            "\u001b[0;32m/usr/lib/python3.10/importlib/_bootstrap_external.py\u001b[0m in \u001b[0;36mfind_spec\u001b[0;34m(self, fullname, target)\u001b[0m\n",
            "\u001b[0;32m/usr/lib/python3.10/importlib/_bootstrap_external.py\u001b[0m in \u001b[0;36m_fill_cache\u001b[0;34m(self)\u001b[0m\n",
            "\u001b[0;31mKeyboardInterrupt\u001b[0m: "
          ]
        }
      ],
      "source": [
        "######## USE THIS ONE\n",
        "\n",
        "data_path = '/content/drive/MyDrive/backup-mac/ufabc/entire-backup/lfp/all_channels/'\n",
        "os.chdir(data_path)\n",
        "\n",
        "#load auxiliary session data (trial segmenting times for all animals)\n",
        "session_data = pd.read_csv('./data/session_data-spikes.csv').copy()\n",
        "\n",
        "data_from_mat(rat_id=6,day_id=2)"
      ]
    },
    {
      "cell_type": "markdown",
      "metadata": {
        "id": "2AemC3kmpHzP"
      },
      "source": [
        "# Utilitary functions"
      ]
    },
    {
      "cell_type": "code",
      "execution_count": 2,
      "metadata": {
        "id": "lDcckvAspOar"
      },
      "outputs": [],
      "source": [
        "#this should be run in the 'separated_channels' folder\n",
        "def load_lfp(rat_id,day_id,channel_id):\n",
        "    #file_path = f'./rat{rat_id}_day{day_id}_LFP_all'\n",
        "    import json\n",
        "    with open(\"./channel_region\", \"r\") as fp:\n",
        "        regions_listing = json.load(fp) #load the JSON with channel-region pairings\n",
        "    region = regions_listing[f'ch{channel_id}'] #from it fetch the region for the current channel\n",
        "\n",
        "    timestamps_data = np.squeeze(np.load('./timestamps.npy'))\n",
        "    lfp_data = np.squeeze(np.load(f'./ch{channel_id}_'+region+'.npy'))\n",
        "\n",
        "    df = pd.DataFrame.from_dict({'timestamps':timestamps_data,'lfp':lfp_data})\n",
        "    return df,channel_id,region\n",
        "\n",
        "#this should be run inside all_channels/data/separated_channels/______ (session)\n",
        "def comodulogram_gif(trials_dict,ind_band=[1,20],dep_band=[30,200],ind_step=0.25,dep_step=2,ind_bandwidth=0.25,dep_bandwidth=2,\n",
        "                     nbins=50,sampling_rate=1250):\n",
        "#  lfp,ind_band=[1,20],dep_band=[20,200],ind_step=0.25,dep_step=2,\n",
        "#                  ind_bandwidth=0.25,dep_bandwidth=2,num_bins=50,sampling_rate=1250\n",
        "    os.mkdir('./comodulogram_gif')\n",
        "    #generate each trial's comodulogram and save it to a .png file\n",
        "    for trial_index in trials_dict.keys():\n",
        "        current_lfp = trials_dict[trial_index].lfp.values\n",
        "        comod, ind_freqs, dep_freqs = comodulogram2(current_lfp,ind_band=[1,20],dep_band=[25,200],ind_step=2,\n",
        "                                                dep_step=5,ind_bandwidth=5,dep_bandwidth=10,\n",
        "                                                num_bins=18,sampling_rate=1250)\n",
        "        plot_comodulogram(comod,ind_freqs,dep_freqs,trial_index) #WRITE THIS FUNCTION HERE\n",
        "        plt.savefig('./comodulogram_gif/'+trial_index+'.png',format='png')\n",
        "        plt.close()\n",
        "\n",
        "    #make a gif out of these images\n",
        "    filenames = ['./comodulogram_gif/'+trial_index+'.png' for trial_index in trials_dict.keys()]\n",
        "    import imageio as iio\n",
        "    images = list()\n",
        "\n",
        "    for file in filenames:\n",
        "        images.append(iio.imread(file))\n",
        "\n",
        "    iio.mimsave('./session_cfc.gif',images,format='GIF',duration=0.4)\n",
        "\n",
        "##################################################################################\n",
        "\n",
        "def compute_erp(trials_dict,norm_by_mean = True):\n",
        "    #I should use the number of points in the shortest trial in the dictionary\n",
        "    #for now, I will choose a random trial from the dictionary because all should have the same length\n",
        "    from numpy import random\n",
        "    series_length = len(trials_dict[random.choice(list(trials_dict.keys()))])\n",
        "\n",
        "    num_trials = len(trials_dict)\n",
        "    recipient = np.ndarray([num_trials,series_length])\n",
        "    counter = 0\n",
        "    for trial in trials_dict.keys():\n",
        "        buffer_lfp = trials_dict[trial]['lfp']\n",
        "        if norm_by_mean:\n",
        "            buffer_lfp = buffer_lfp - np.mean(buffer_lfp)\n",
        "        recipient[counter,:] = buffer_lfp\n",
        "        counter+=1\n",
        "\n",
        "    #the \"ERP\" is the mean along all trials\n",
        "    erp = np.mean(recipient,axis=0)\n",
        "    return erp,recipient\n",
        "\n",
        "def erp_comodulogram(erp_signal,erp_label):\n",
        "    comod,ind_freqs,dep_freqs = comodulogram2(erp_signal,ind_band=[1,20],dep_band=[20,200],ind_step=2,dep_step=5,\n",
        "                                ind_bandwidth=4,dep_bandwidth=10,num_bins=18,sampling_rate=1250)\n",
        "    plot_comodulogram(comod,ind_freqs,dep_freqs,trial_index='')\n",
        "    plt.savefig('./erp_comodulogram/'+erp_label+'.png',format='png')\n",
        "\n",
        "    plt.close()"
      ]
    },
    {
      "cell_type": "code",
      "execution_count": 3,
      "metadata": {
        "id": "zVe-lYnv6dGf"
      },
      "outputs": [],
      "source": [
        "# This should be run inside all_channels/data/separated_channels/______ (session)\n",
        "def comodulogram_per_trial(trials_dict,ind_band=[1,20],dep_band=[20,200],ind_step=0.25,dep_step=2,\n",
        "                  ind_bandwidth=0.25,dep_bandwidth=2,num_bins=50,sampling_rate=1250):\n",
        "    '''\n",
        "    Estimate the comodulogram using data from each trial. Save the plots separately indicating which trial it belongs to and the comodulograms themselves in a dictionary.\n",
        "    '''\n",
        "\n",
        "    os.mkdir('./individual_trial_comodulograms')\n",
        "\n",
        "    comodulograms_dict = {}\n",
        "\n",
        "    # Generate each trial's comodulogram and save it to a .png file\n",
        "    for trial_index in trials_dict.keys():\n",
        "        print(trial_index)\n",
        "        current_lfp = trials_dict[trial_index].lfp.values\n",
        "        comod, ind_freqs, dep_freqs = comodulogram2(current_lfp,ind_band,dep_band,ind_step,\n",
        "                                                dep_step,ind_bandwidth,dep_bandwidth,\n",
        "                                                num_bins,sampling_rate)\n",
        "\n",
        "        #plot_comodulogram(comod,ind_freqs,dep_freqs,trial_index) #WRITE THIS FUNCTION HERE\n",
        "        #plt.savefig('./individual_trial_comodulograms/'+trial_index+'.png',format='png')\n",
        "        #plt.close()\n",
        "\n",
        "        # Save all comodulograms into a dictionary\n",
        "        comodulograms_dict[trial_index] = comod\n",
        "\n",
        "    # Also save the independent and dependent frequencies for later use (e.g. plotting one of them again)\n",
        "    comodulograms_dict['ind_freqs'] = ind_freqs\n",
        "    comodulograms_dict['dep_freqs'] = dep_freqs\n",
        "\n",
        "    with open('./individual_trial_comodulograms/comodulograms_dict.pkl', 'wb') as f:\n",
        "      pickle.dump(comodulograms_dict, f)\n",
        "\n",
        "def compute_erp(trials_dict,norm_by_mean = True):\n",
        "    #I should use the number of points in the shortest trial in the dictionary\n",
        "    #for now, I will choose a random trial from the dictionary because all should have the same length\n",
        "    from numpy import random\n",
        "    series_length = len(trials_dict[random.choice(list(trials_dict.keys()))])\n",
        "\n",
        "    num_trials = len(trials_dict)\n",
        "    recipient = np.ndarray([num_trials,series_length])\n",
        "    counter = 0\n",
        "    for trial in trials_dict.keys():\n",
        "        buffer_lfp = trials_dict[trial]['lfp']\n",
        "        if norm_by_mean:\n",
        "            buffer_lfp = buffer_lfp - np.mean(buffer_lfp)\n",
        "        recipient[counter,:] = buffer_lfp\n",
        "        counter+=1\n",
        "\n",
        "    #the \"ERP\" is the mean along all trials\n",
        "    erp = np.mean(recipient,axis=0)\n",
        "    return erp,recipient\n",
        "\n",
        "def erp_comodulogram(erp_signal,erp_label):\n",
        "    comod,ind_freqs,dep_freqs = comodulogram2(erp_signal,ind_band=[1,20],dep_band=[20,200],ind_step=2,dep_step=5,\n",
        "                                ind_bandwidth=4,dep_bandwidth=10,num_bins=18,sampling_rate=1250)\n",
        "    plot_comodulogram(comod,ind_freqs,dep_freqs,trial_index='')\n",
        "    plt.savefig('./erp_comodulogram/'+erp_label+'.png',format='png')\n",
        "\n",
        "    plt.close()"
      ]
    },
    {
      "cell_type": "code",
      "execution_count": 4,
      "metadata": {
        "id": "u8TIUwbppP6P"
      },
      "outputs": [],
      "source": [
        "def split_lfp_trials(session_df,lfp_df,rat_id,day_id,region_id,min_duration=0.8,sampling_rate=1250,\n",
        "                      slicing='first',peri_trial_inclusion = 0,per_slice=1500):\n",
        "    elegible_trials = session_df.query(f\"rat == {rat_id} & day == {day_id} &\\\n",
        "    region == '{region_id}' & duration >= {min_duration}\")\n",
        "    elegible_trials = elegible_trials.sort_values('trial').copy()\n",
        "\n",
        "    #separate the lfp df into a dictionary of trials, whose keys are trial identifiers and\n",
        "    #values are dfs corresponding to excerpts of the whole lfp signal that fall between\n",
        "    #each trials' time boundaries [trial begin, trial end]\n",
        "\n",
        "    trials_dict = {}\n",
        "    for trial in elegible_trials.trial.unique():\n",
        "        '''upon profiling this function to probe its performance I have concluded it is very slow\n",
        "        the pieces of code that were taking too long were these queries below, so I'll comment them out and implement another querying method (expression matching on Series.values)\n",
        "        nonetheless, I will leave them for the sake of comprehension of what is going on in the following expression, which yields the same but in a fraction of the elapsed time\n",
        "        '''\n",
        "\n",
        "        #select the current trial in the behavioral/spikes dataframe\n",
        "        #current_trial = elegible_trials.query(f\"trial == {int(trial)}\")\n",
        "        current_trial = elegible_trials[elegible_trials.trial.values == int(trial)]\n",
        "\n",
        "        #extract the timestamps for the beginning and end of trial using the 1st\n",
        "        #spike (begin) and total duration (end)\n",
        "        begin = current_trial.iloc[0].timestamp - current_trial.iloc[0].time\n",
        "        end = begin + current_trial.iloc[0].duration\n",
        "\n",
        "        #fetch the lfp data within these two timepoints and add to the dict as our trial\n",
        "        #current_lfp = lfp_df.query(f\"timestamps >= {begin-peri_trial_inclusion} & timestamps <= {end}\")\n",
        "        current_lfp = lfp_df[(lfp_df.timestamps.values >= (begin-peri_trial_inclusion)) & (lfp_df.timestamps.values <= end)]\n",
        "\n",
        "        if slicing == 'first':\n",
        "                trials_dict[f'trial_{int(trial)}'] = current_lfp.head(per_slice)\n",
        "        elif slicing == 'last':\n",
        "            trials_dict[f'trial_{int(trial)}'] = current_lfp.tail(per_slice)\n",
        "        elif slicing == 'none':\n",
        "            trials_dict[f'trial_{int(trial)}'] = current_lfp\n",
        "    print('done parsing the LFP into trials')\n",
        "\n",
        "    return trials_dict\n",
        "\n",
        "#new version: soon i'll simply delete the other implementation of these two above\n",
        "\n",
        "def comodulogram2(lfp,ind_band=[1,20],dep_band=[20,200],ind_step=0.25,dep_step=2,\n",
        "                  ind_bandwidth=0.25,dep_bandwidth=2,num_bins=50,sampling_rate=1250,verbosity=False):\n",
        "  '''\n",
        "  estimate the modulation index for pairs of frequencies {modulating,modulated}, each spanning a range of values\n",
        "  '''\n",
        "\n",
        "  freqs_for_amps = np.arange(dep_band[0],dep_band[1]+dep_step,dep_step)\n",
        "  freqs_for_phases = np.arange(ind_band[0],ind_band[1]+ind_step,ind_step)\n",
        "\n",
        "  filtered_phases = np.empty([len(freqs_for_phases) - 1,len(lfp)])\n",
        "\n",
        "  from scipy.signal import hilbert\n",
        "\n",
        "  for phase_index,phase in enumerate(freqs_for_phases[0:-1]):\n",
        "    filtered_phases[phase_index,:] = np.angle(hilbert(band_extraction(lfp,cutoff_low=freqs_for_phases[phase_index],cutoff_high=freqs_for_phases[phase_index+1],\n",
        "                                              sampling_rate=sampling_rate)))\n",
        "\n",
        "  comod = np.zeros([len(freqs_for_amps) - 1, len(freqs_for_phases)])\n",
        "\n",
        "  phasebins = np.linspace(-np.pi,np.pi,num_bins+1)\n",
        "  phasecenters = phasebins[0:-1] + (phasebins[1] - phasebins[0])\n",
        "\n",
        "  #iterate over signals filtered at higher frequencies (each band for which we extract the amplitude envelope)\n",
        "  for amp_index,current_amp in enumerate(freqs_for_amps[:-1]):\n",
        "    if verbosity:\n",
        "      print(f'Progress: [{amp_index+1}/{len(freqs_for_amps)-1}]')\n",
        "\n",
        "    amp_envelope = abs(hilbert(band_extraction(lfp,cutoff_low=freqs_for_amps[amp_index],cutoff_high=freqs_for_amps[amp_index+1],\n",
        "                                                      sampling_rate=sampling_rate)))\n",
        "\n",
        "    '''\n",
        "    to exploit the storage vs. processing conundrum, I have already filtered the signal in each low-frequency band of interest\n",
        "    and put each band's signal in a vector (filtered_phases, 76 bands in total).\n",
        "    once again I have opted for such an approach and below I create a vector called bins_freq,\n",
        "    that will store each frequency bin's (from [-pi,pi]) mean amplitude in a single modulated band (from which we extract the amplitude envelope)\n",
        "    '''\n",
        "\n",
        "    bins_freq = np.empty((num_bins,len(filtered_phases)))\n",
        "\n",
        "    for phase_bin_id in range(len(phasebins)-1):\n",
        "      #print(phase_bin_id)\n",
        "      #print(phasebins[phase_bin_id],phasebins[phase_bin_id+1])\n",
        "\n",
        "      for band_id,band_signal in enumerate(filtered_phases):\n",
        "        phasepoints_in_frequency_bin = np.where((band_signal > phasebins[phase_bin_id]) & (band_signal < phasebins[phase_bin_id+1]))[0]\n",
        "        mean_amplitude_in_frequency_bin = np.mean(amp_envelope[phasepoints_in_frequency_bin])\n",
        "        #print(mean_amplitude_in_frequency_bin)\n",
        "        bins_freq[phase_bin_id,band_id] = mean_amplitude_in_frequency_bin\n",
        "\n",
        "      #print(f'estimated mean amplitude in bin {phase_bin_id} [{phasebins[phase_bin_id]} Hz, {phasebins[phase_bin_id+1]} Hz] in all modulating bands!')\n",
        "      #print(sum(bins_freq[:,band_id]))\n",
        "    if verbosity:\n",
        "      print(f'finished all frequency bins for all modulating bands in this modulated band: [{freqs_for_amps[amp_index]} Hz,{freqs_for_amps[amp_index+1]} Hz]')\n",
        "    #normalize over each phase bin, yielding what is dubbed p\n",
        "    p = [bins_freq[:,band_id]/sum(bins_freq[:,band_id]) for band_id in range(len(filtered_phases))]\n",
        "\n",
        "    #estimate MI\n",
        "    from scipy.stats import entropy\n",
        "    uniform_dist = np.ones(num_bins)/num_bins\n",
        "\n",
        "    #iterating over all low-frequency filtered bands:\n",
        "    for low_freq_band_index in range(np.shape(p)[0]):\n",
        "      MI = entropy(p[low_freq_band_index],uniform_dist)/np.log(num_bins)\n",
        "      comod[amp_index,low_freq_band_index] = MI\n",
        "\n",
        "  return comod,freqs_for_phases,freqs_for_amps\n",
        "\n",
        "def plot_comodulogram(comod,ind_freqs,dep_freqs,trial_index=''):\n",
        "    #make a grid to accommodate the data\n",
        "    x,y = np.meshgrid(ind_freqs,dep_freqs[:-1])\n",
        "\n",
        "    plt.contourf(x, y, comod, 30, cmap=plt.cm.viridis)\n",
        "    plt.title(f'Trial: {trial_index}')\n",
        "    plt.xlabel('Independent \\n frequency (Hz)',size=13)\n",
        "    plt.ylabel('Dependent \\n frequency (Hz)',size=13)\n",
        "    plt.colorbar(label=\"Modulation Index (MI)\")\n",
        "\n",
        "def band_extraction(lfp_data,cutoff_low,cutoff_high,sampling_rate=1250,order=3):\n",
        "    '''Filter the broadband LFP signal, allowing only frequencies between the limits [cutoff_low,cutoff_high]\n",
        "    using a FIR bandpass filter with a Hamming window whose length.\n",
        "\n",
        "    INPUT:\n",
        "        - lfp_data: a pandas Series object containing the signal to be filtered (i.e. the LFP);\n",
        "        - cutoff_low: the lowest frequency allowed;\n",
        "        - cutoff_high: the highest frequency allowed;\n",
        "        - sampling_rate: in Hz [default: 1250];\n",
        "        - order: the order of the Butter filter employed [default: 3]\n",
        "\n",
        "    OUTPUT:\n",
        "        - the filtered signal as a 1D numpy array;\n",
        "    '''\n",
        "\n",
        "    from scipy.signal import butter, firwin, lfilter, filtfilt\n",
        "\n",
        "    #Design the filter\n",
        "    nyquist_freq = 0.5*sampling_rate\n",
        "    inf_threshold = cutoff_low/nyquist_freq\n",
        "    sup_threshold = cutoff_high/nyquist_freq\n",
        "\n",
        "    #order is given in cycles; transform it into samples by multiplying by the sampling rate frequency\n",
        "    filter_length = round(order*(2*nyquist_freq)/cutoff_high)\n",
        "\n",
        "    #b,a = butter(order,[inf_threshold,sup_threshold],btype='bandpass')\n",
        "    #a = scipy.signal.firwin(n, cutoff = [0.016, 0.02], window = 'hamming', pass_zero = False)\n",
        "    h = firwin(filter_length,cutoff = [inf_threshold,sup_threshold],window='hamming',pass_zero=False)\n",
        "\n",
        "    #Return the filter applied to the signal\n",
        "    #return filtfilt(h,1,lfp_data) #TEMPORARY ADJUSTMENT, JUST TO TEST (26/09/23)\n",
        "    return filtfilt(h,1,lfp_data,padtype=None)\n",
        "\n",
        "#Calculate 20*log10(x) without printing an error when x=0\n",
        "def dB20(array):\n",
        "    with np.errstate(divide='ignore'):\n",
        "        return 20 * np.log10(array)\n",
        "\n",
        "def filter_response_plot(b,a,cutoffs):\n",
        "  w, h = scipy.signal.freqz(b,a)\n",
        "  h = abs(h) #the frequency-response h is given as a complex number, but the amplitude at each frequency is its absolute value\n",
        "  #w,dB20(h): #y in decibels, log in the frequency plane x\n",
        "  plt.plot(w,dB20(h))\n",
        "  plt.title('Filter frequency response')\n",
        "  plt.ylabel('Amplitude [dB]')\n",
        "  plt.xlabel('Frequency (rad/sampling rate)')\n",
        "\n",
        "  plt.grid(which='both', axis = 'both')\n",
        "  for cutoff_freq in cutoffs:\n",
        "    plt.axvline(cutoff_freq,color='green')\n",
        "  plt.show()"
      ]
    },
    {
      "cell_type": "markdown",
      "metadata": {
        "id": "vmsJlCDYpeWr"
      },
      "source": [
        "# Constants and data sets"
      ]
    },
    {
      "cell_type": "code",
      "execution_count": 5,
      "metadata": {
        "id": "IFT7_05cpd2-"
      },
      "outputs": [],
      "source": [
        "# Best channel for each session (animal, day)\n",
        "session_preferred_channels = {'rat3_day1': 11,\n",
        "                              'rat3_day2': 11,\n",
        "                              'rat4_day1': 18,\n",
        "                              'rat4_day2': 18,\n",
        "                              'rat5_day1': 9,\n",
        "                              'rat5_day2': 9,\n",
        "                              'rat6_day1': 10,\n",
        "                              'rat6_day2': 10}"
      ]
    },
    {
      "cell_type": "markdown",
      "metadata": {
        "id": "NlRogydZpTrZ"
      },
      "source": [
        "# Cross-frequency coupling during the trials\n",
        "\n",
        "Estimated from one channel per rat on all its trials with at least 800 ms.\n",
        "\n",
        "### Figures to generate:\n",
        "Panel 1:\n",
        "- Average comodulogram on early vs. late trials\n",
        "\n",
        "Panel 2:\n",
        "- Panel with many comodulograms from non-consecutive trials (5 panels per row, one row per animal)\n",
        "\n",
        "Panel 3:\n",
        "- MI Curve (as in Tort et al., 2008)"
      ]
    },
    {
      "cell_type": "code",
      "execution_count": null,
      "metadata": {
        "colab": {
          "base_uri": "https://localhost:8080/"
        },
        "id": "XGsNtn56FNpd",
        "outputId": "1e56601e-3238-4e22-a60d-0c552c762eaa"
      },
      "outputs": [
        {
          "output_type": "stream",
          "name": "stdout",
          "text": [
            "/content/drive/MyDrive/backup-mac/ufabc/entire-backup/lfp/all_channels\n",
            "rat:  6 day:  2\n",
            "current session:  /content/drive/MyDrive/backup-mac/ufabc/entire-backup/lfp/all_channels/data/separated_channels/rat6_day2_LFP_all\n",
            "Results folder created.\n",
            "Beginning the in-trial CFC analysis.\n",
            "Session:  rat6_day2 \n",
            "Channel:  10\n",
            "done parsing the LFP into trials\n",
            "380\n",
            "trial_3\n",
            "trial_9\n",
            "trial_10\n",
            "trial_12\n",
            "trial_16\n",
            "trial_18\n",
            "trial_20\n",
            "trial_21\n",
            "trial_23\n",
            "trial_32\n",
            "trial_34\n",
            "trial_37\n",
            "trial_38\n",
            "trial_39\n",
            "trial_44\n",
            "trial_45\n",
            "trial_48\n",
            "trial_49\n",
            "trial_50\n",
            "trial_52\n",
            "trial_57\n",
            "trial_58\n",
            "trial_63\n",
            "trial_65\n",
            "trial_66\n",
            "trial_67\n",
            "trial_68\n",
            "trial_72\n",
            "trial_81\n",
            "trial_84\n",
            "trial_89\n",
            "trial_91\n",
            "trial_111\n",
            "trial_113\n",
            "trial_122\n",
            "trial_123\n",
            "trial_126\n",
            "trial_127\n",
            "trial_134\n",
            "trial_137\n",
            "trial_141\n",
            "trial_145\n",
            "trial_149\n",
            "trial_151\n",
            "trial_153\n",
            "trial_154\n",
            "trial_155\n",
            "trial_161\n",
            "trial_162\n",
            "trial_164\n",
            "trial_167\n",
            "trial_168\n",
            "trial_171\n",
            "trial_172\n",
            "trial_173\n",
            "trial_179\n",
            "trial_181\n",
            "trial_182\n",
            "trial_183\n",
            "trial_187\n",
            "trial_188\n",
            "trial_190\n",
            "trial_192\n",
            "trial_193\n",
            "trial_194\n",
            "trial_195\n",
            "trial_198\n",
            "trial_199\n",
            "trial_207\n",
            "trial_209\n",
            "trial_213\n",
            "trial_214\n",
            "trial_215\n",
            "trial_220\n",
            "trial_226\n",
            "trial_228\n",
            "trial_229\n",
            "trial_230\n",
            "trial_234\n",
            "trial_235\n",
            "trial_239\n",
            "trial_240\n",
            "trial_241\n",
            "trial_244\n",
            "trial_245\n",
            "trial_246\n",
            "trial_248\n",
            "trial_250\n",
            "trial_252\n",
            "trial_253\n",
            "trial_254\n",
            "trial_255\n",
            "trial_258\n",
            "trial_259\n",
            "trial_260\n",
            "trial_262\n",
            "trial_264\n",
            "trial_266\n",
            "trial_268\n",
            "trial_269\n",
            "trial_271\n",
            "trial_273\n",
            "trial_275\n",
            "trial_277\n",
            "trial_278\n",
            "trial_280\n",
            "trial_284\n",
            "trial_285\n",
            "trial_287\n",
            "trial_288\n",
            "trial_289\n",
            "trial_290\n",
            "trial_291\n",
            "trial_293\n",
            "trial_294\n",
            "trial_295\n",
            "trial_297\n",
            "trial_298\n",
            "trial_299\n",
            "trial_300\n",
            "trial_301\n",
            "trial_302\n",
            "trial_305\n",
            "trial_307\n",
            "trial_309\n",
            "trial_310\n",
            "trial_313\n",
            "trial_315\n",
            "trial_317\n",
            "trial_318\n",
            "trial_321\n",
            "trial_322\n",
            "trial_323\n",
            "trial_325\n",
            "trial_326\n",
            "trial_331\n",
            "trial_332\n",
            "trial_333\n",
            "trial_334\n",
            "trial_338\n",
            "trial_339\n",
            "trial_347\n",
            "trial_353\n",
            "trial_356\n",
            "trial_357\n",
            "trial_358\n",
            "trial_360\n",
            "trial_361\n",
            "trial_363\n",
            "trial_368\n",
            "trial_369\n",
            "trial_371\n",
            "trial_372\n",
            "trial_374\n",
            "trial_375\n",
            "trial_376\n",
            "trial_378\n",
            "trial_379\n",
            "trial_380\n",
            "trial_381\n",
            "trial_382\n",
            "trial_383\n",
            "trial_384\n",
            "trial_385\n",
            "trial_386\n",
            "trial_387\n",
            "trial_388\n",
            "trial_389\n",
            "trial_390\n",
            "trial_391\n",
            "trial_393\n",
            "trial_394\n",
            "trial_395\n",
            "trial_396\n",
            "trial_398\n",
            "trial_399\n",
            "trial_400\n",
            "trial_401\n",
            "trial_402\n",
            "trial_403\n"
          ]
        },
        {
          "output_type": "stream",
          "name": "stderr",
          "text": [
            "/usr/local/lib/python3.10/dist-packages/numpy/core/fromnumeric.py:3432: RuntimeWarning: Mean of empty slice.\n",
            "  return _methods._mean(a, axis=axis, dtype=dtype,\n",
            "/usr/local/lib/python3.10/dist-packages/numpy/core/_methods.py:190: RuntimeWarning: invalid value encountered in double_scalars\n",
            "  ret = ret.dtype.type(ret / rcount)\n"
          ]
        },
        {
          "output_type": "stream",
          "name": "stdout",
          "text": [
            "trial_404\n",
            "trial_405\n",
            "trial_406\n",
            "trial_407\n",
            "trial_408\n",
            "trial_409\n",
            "trial_414\n",
            "trial_417\n",
            "trial_419\n",
            "trial_421\n",
            "trial_422\n",
            "trial_425\n",
            "trial_426\n",
            "trial_427\n",
            "trial_428\n",
            "trial_429\n",
            "trial_430\n",
            "trial_431\n",
            "trial_432\n",
            "trial_433\n",
            "trial_434\n",
            "trial_435\n",
            "trial_436\n",
            "trial_437\n",
            "trial_438\n",
            "trial_440\n",
            "trial_441\n",
            "trial_442\n",
            "trial_444\n",
            "trial_445\n",
            "trial_446\n",
            "trial_448\n",
            "trial_449\n",
            "trial_452\n",
            "trial_453\n",
            "trial_456\n",
            "trial_457\n",
            "trial_459\n",
            "trial_460\n",
            "trial_461\n",
            "trial_462\n",
            "trial_463\n",
            "trial_464\n",
            "trial_467\n",
            "trial_468\n",
            "trial_469\n",
            "trial_470\n",
            "trial_474\n",
            "trial_475\n",
            "trial_476\n",
            "trial_477\n",
            "trial_481\n",
            "trial_482\n",
            "trial_485\n",
            "trial_488\n",
            "trial_491\n",
            "trial_492\n",
            "trial_493\n",
            "trial_495\n",
            "trial_496\n",
            "trial_498\n",
            "trial_499\n",
            "trial_500\n",
            "trial_501\n",
            "trial_502\n",
            "trial_503\n",
            "trial_504\n",
            "trial_506\n",
            "trial_507\n",
            "trial_508\n",
            "trial_509\n",
            "trial_510\n",
            "trial_511\n",
            "trial_512\n",
            "trial_513\n",
            "trial_515\n",
            "trial_516\n",
            "trial_517\n",
            "trial_518\n",
            "trial_521\n",
            "trial_522\n",
            "trial_523\n",
            "trial_524\n",
            "trial_525\n",
            "trial_527\n",
            "trial_528\n",
            "trial_529\n",
            "trial_530\n",
            "trial_531\n",
            "trial_532\n",
            "trial_533\n",
            "trial_534\n",
            "trial_535\n",
            "trial_536\n",
            "trial_537\n",
            "trial_538\n",
            "trial_539\n",
            "trial_540\n",
            "trial_541\n",
            "trial_543\n",
            "trial_544\n",
            "trial_545\n",
            "trial_546\n",
            "trial_548\n",
            "trial_549\n",
            "trial_551\n",
            "trial_552\n",
            "trial_554\n",
            "trial_555\n",
            "trial_556\n",
            "trial_557\n",
            "trial_562\n",
            "trial_563\n",
            "trial_564\n",
            "trial_565\n",
            "trial_568\n",
            "trial_570\n",
            "trial_571\n",
            "trial_576\n",
            "trial_577\n",
            "trial_578\n",
            "trial_581\n",
            "trial_584\n",
            "trial_587\n",
            "trial_588\n",
            "trial_589\n",
            "trial_590\n",
            "trial_591\n",
            "trial_592\n",
            "trial_593\n",
            "trial_594\n",
            "trial_596\n",
            "trial_600\n",
            "trial_604\n",
            "trial_605\n",
            "trial_608\n",
            "trial_609\n",
            "trial_610\n",
            "trial_611\n",
            "trial_612\n",
            "trial_613\n",
            "trial_614\n",
            "trial_615\n",
            "trial_616\n",
            "trial_617\n",
            "trial_618\n",
            "trial_619\n",
            "trial_620\n",
            "trial_621\n",
            "trial_622\n",
            "trial_623\n",
            "trial_624\n",
            "trial_625\n",
            "trial_626\n",
            "trial_627\n",
            "trial_629\n",
            "trial_630\n",
            "trial_631\n",
            "trial_632\n",
            "trial_633\n",
            "trial_636\n",
            "trial_637\n",
            "trial_638\n",
            "trial_639\n",
            "trial_641\n",
            "trial_643\n",
            "trial_644\n",
            "trial_645\n",
            "trial_646\n",
            "trial_647\n",
            "trial_648\n",
            "trial_649\n",
            "trial_650\n",
            "trial_651\n",
            "trial_652\n",
            "trial_654\n",
            "trial_655\n",
            "trial_656\n",
            "trial_657\n",
            "trial_658\n",
            "trial_659\n",
            "trial_661\n",
            "trial_664\n",
            "trial_665\n",
            "trial_666\n",
            "trial_668\n",
            "trial_669\n",
            "trial_670\n",
            "trial_672\n",
            "trial_673\n",
            "trial_674\n",
            "trial_676\n",
            "trial_680\n",
            "trial_681\n",
            "trial_683\n",
            "trial_688\n",
            "trial_690\n",
            "trial_693\n",
            "trial_694\n",
            "trial_696\n",
            "done with channel 10 from session rat6_day2\n",
            "all done!\n"
          ]
        }
      ],
      "source": [
        "#this should run at the \"lfp/all_channels\" folder\n",
        "\n",
        "data_path = '/content/drive/MyDrive/backup-mac/ufabc/entire-backup/lfp/all_channels/'\n",
        "os.chdir(data_path)\n",
        "print(os.getcwd())\n",
        "session_data = pd.read_csv('./data/session_data-spikes.csv').copy()\n",
        "\n",
        "import itertools\n",
        "\n",
        "criterion_duration = 1.5 # Segments of at least 1500 ms (i.e. rewarded trials) are included\n",
        "\n",
        "#iterate over all sessions: rats {3,4,5,6} with recordings in days {1,2} each\n",
        "for rat_day_pair in itertools.product(list(range(3,7)),list(range(1,3))):\n",
        "    rat = rat_day_pair[0]\n",
        "    day = rat_day_pair[1]\n",
        "    print('rat: ',rat,'day: ',day)\n",
        "\n",
        "    animal_label = f'rat{rat}_day{day}'\n",
        "\n",
        "    os.chdir(f'./data/separated_channels/{animal_label}_LFP_all')\n",
        "    print('current session: ',os.getcwd())\n",
        "\n",
        "    if not os.path.isdir('./results'):\n",
        "      print('Results folder created.')\n",
        "      os.mkdir('./results')\n",
        "    else:\n",
        "      print('Results folder already existent.')\n",
        "\n",
        "\n",
        "    print('Beginning the in-trial CFC analysis.')\n",
        "\n",
        "    '''THIS HERE HAS BEEN BUGGING FOR NO APPARENT REASON IN THE LAST SESSION. THE FILE EXISTS AND CAN BE LISTED WITH OS.LISTDIR() BUT IT SAYS \"FILE NOT FOUND\".\n",
        "     MY SOLUTION IS SIMPLY TO INPUT THE SAMPLING RATE BY HAND, WHICH IS EASY BECAUSE IT IS THE SAME IN ALL SESSIONS AND IS A SOLE INTEGER NUMBER'''\n",
        "    #with open(\"./metadata.json\", \"r\") as fp:\n",
        "    #    meta_data = json.load(fp) #load the JSON with metadata\n",
        "    #data_sampling_rate = meta_data['sampling_rate'] #from it fetch the sampling rate of the loaded data\n",
        "    data_sampling_rate = 1250\n",
        "\n",
        "    channel = session_preferred_channels[animal_label]\n",
        "    print('Session: ',animal_label,'\\nChannel: ',channel)\n",
        "\n",
        "\n",
        "    # Load the LFP for that channel\n",
        "    lfp,_,region = load_lfp(rat_id = rat,day_id = day,channel_id = channel)\n",
        "\n",
        "    # Convert the inclusion criterion for duration from seconds into a number of points via the sampling rate\n",
        "    points_per_trial = int(criterion_duration*data_sampling_rate)\n",
        "\n",
        "    # Separate the continuous LFP signal into the segments corresponding to each trial\n",
        "    current_trials_dict = split_lfp_trials(session_df = session_data,lfp_df = lfp,rat_id = rat,day_id = day,region_id = region,\n",
        "                                              min_duration= criterion_duration,sampling_rate= data_sampling_rate,\n",
        "                                                slicing= 'first',peri_trial_inclusion=0,per_slice = points_per_trial)\n",
        "\n",
        "    print(len(current_trials_dict))\n",
        "    # Go to the folder where results will be stored\n",
        "    os.chdir('./results')\n",
        "\n",
        "    # Compute the comodulograms for each trial\n",
        "    comodulogram_per_trial(current_trials_dict)\n",
        "\n",
        "    print(f'done with channel {channel} from session {animal_label}')\n",
        "\n",
        "    # Clear variables\n",
        "    del lfp, channel, region, points_per_trial,current_trials_dict\n",
        "\n",
        "    os.chdir('../../../..') # Go back into 'data/separated_channels'\n",
        "print('all done!')"
      ]
    },
    {
      "cell_type": "code",
      "source": [
        "os.chdir('/content/drive/MyDrive/backup-mac/ufabc/entire-backup/lfp/all_channels/data/separated_channels/rat6_day2_LFP_all/results/individual_trial_comodulograms')\n",
        "\n",
        "with open('comodulograms_dict.pkl', 'rb') as f:\n",
        "    loaded_dict = pickle.load(f)"
      ],
      "metadata": {
        "id": "DmWUG9af8sBe"
      },
      "execution_count": null,
      "outputs": []
    },
    {
      "cell_type": "code",
      "source": [
        "loaded_dict.keys()"
      ],
      "metadata": {
        "colab": {
          "base_uri": "https://localhost:8080/"
        },
        "id": "pzUvIwi2iK7e",
        "outputId": "6476fd3e-722c-4dec-b4c9-2ca1d6675ccc"
      },
      "execution_count": null,
      "outputs": [
        {
          "output_type": "execute_result",
          "data": {
            "text/plain": [
              "dict_keys(['trial_3', 'trial_9', 'trial_10', 'trial_12', 'trial_16', 'trial_18', 'trial_20', 'trial_21', 'trial_23', 'trial_32', 'trial_34', 'trial_37', 'trial_38', 'trial_39', 'trial_44', 'trial_45', 'trial_48', 'trial_49', 'trial_50', 'trial_52', 'trial_57', 'trial_58', 'trial_63', 'trial_65', 'trial_66', 'trial_67', 'trial_68', 'trial_72', 'trial_81', 'trial_84', 'trial_89', 'trial_91', 'trial_111', 'trial_113', 'trial_122', 'trial_123', 'trial_126', 'trial_127', 'trial_134', 'trial_137', 'trial_141', 'trial_145', 'trial_149', 'trial_151', 'trial_153', 'trial_154', 'trial_155', 'trial_161', 'trial_162', 'trial_164', 'trial_167', 'trial_168', 'trial_171', 'trial_172', 'trial_173', 'trial_179', 'trial_181', 'trial_182', 'trial_183', 'trial_187', 'trial_188', 'trial_190', 'trial_192', 'trial_193', 'trial_194', 'trial_195', 'trial_198', 'trial_199', 'trial_207', 'trial_209', 'trial_213', 'trial_214', 'trial_215', 'trial_220', 'trial_226', 'trial_228', 'trial_229', 'trial_230', 'trial_234', 'trial_235', 'trial_239', 'trial_240', 'trial_241', 'trial_244', 'trial_245', 'trial_246', 'trial_248', 'trial_250', 'trial_252', 'trial_253', 'trial_254', 'trial_255', 'trial_258', 'trial_259', 'trial_260', 'trial_262', 'trial_264', 'trial_266', 'trial_268', 'trial_269', 'trial_271', 'trial_273', 'trial_275', 'trial_277', 'trial_278', 'trial_280', 'trial_284', 'trial_285', 'trial_287', 'trial_288', 'trial_289', 'trial_290', 'trial_291', 'trial_293', 'trial_294', 'trial_295', 'trial_297', 'trial_298', 'trial_299', 'trial_300', 'trial_301', 'trial_302', 'trial_305', 'trial_307', 'trial_309', 'trial_310', 'trial_313', 'trial_315', 'trial_317', 'trial_318', 'trial_321', 'trial_322', 'trial_323', 'trial_325', 'trial_326', 'trial_331', 'trial_332', 'trial_333', 'trial_334', 'trial_338', 'trial_339', 'trial_347', 'trial_353', 'trial_356', 'trial_357', 'trial_358', 'trial_360', 'trial_361', 'trial_363', 'trial_368', 'trial_369', 'trial_371', 'trial_372', 'trial_374', 'trial_375', 'trial_376', 'trial_378', 'trial_379', 'trial_380', 'trial_381', 'trial_382', 'trial_383', 'trial_384', 'trial_385', 'trial_386', 'trial_387', 'trial_388', 'trial_389', 'trial_390', 'trial_391', 'trial_393', 'trial_394', 'trial_395', 'trial_396', 'trial_398', 'trial_399', 'trial_400', 'trial_401', 'trial_402', 'trial_403', 'trial_404', 'trial_405', 'trial_406', 'trial_407', 'trial_408', 'trial_409', 'trial_414', 'trial_417', 'trial_419', 'trial_421', 'trial_422', 'trial_425', 'trial_426', 'trial_427', 'trial_428', 'trial_429', 'trial_430', 'trial_431', 'trial_432', 'trial_433', 'trial_434', 'trial_435', 'trial_436', 'trial_437', 'trial_438', 'trial_440', 'trial_441', 'trial_442', 'trial_444', 'trial_445', 'trial_446', 'trial_448', 'trial_449', 'trial_452', 'trial_453', 'trial_456', 'trial_457', 'trial_459', 'trial_460', 'trial_461', 'trial_462', 'trial_463', 'trial_464', 'trial_467', 'trial_468', 'trial_469', 'trial_470', 'trial_474', 'trial_475', 'trial_476', 'trial_477', 'trial_481', 'trial_482', 'trial_485', 'trial_488', 'trial_491', 'trial_492', 'trial_493', 'trial_495', 'trial_496', 'trial_498', 'trial_499', 'trial_500', 'trial_501', 'trial_502', 'trial_503', 'trial_504', 'trial_506', 'trial_507', 'trial_508', 'trial_509', 'trial_510', 'trial_511', 'trial_512', 'trial_513', 'trial_515', 'trial_516', 'trial_517', 'trial_518', 'trial_521', 'trial_522', 'trial_523', 'trial_524', 'trial_525', 'trial_527', 'trial_528', 'trial_529', 'trial_530', 'trial_531', 'trial_532', 'trial_533', 'trial_534', 'trial_535', 'trial_536', 'trial_537', 'trial_538', 'trial_539', 'trial_540', 'trial_541', 'trial_543', 'trial_544', 'trial_545', 'trial_546', 'trial_548', 'trial_549', 'trial_551', 'trial_552', 'trial_554', 'trial_555', 'trial_556', 'trial_557', 'trial_562', 'trial_563', 'trial_564', 'trial_565', 'trial_568', 'trial_570', 'trial_571', 'trial_576', 'trial_577', 'trial_578', 'trial_581', 'trial_584', 'trial_587', 'trial_588', 'trial_589', 'trial_590', 'trial_591', 'trial_592', 'trial_593', 'trial_594', 'trial_596', 'trial_600', 'trial_604', 'trial_605', 'trial_608', 'trial_609', 'trial_610', 'trial_611', 'trial_612', 'trial_613', 'trial_614', 'trial_615', 'trial_616', 'trial_617', 'trial_618', 'trial_619', 'trial_620', 'trial_621', 'trial_622', 'trial_623', 'trial_624', 'trial_625', 'trial_626', 'trial_627', 'trial_629', 'trial_630', 'trial_631', 'trial_632', 'trial_633', 'trial_636', 'trial_637', 'trial_638', 'trial_639', 'trial_641', 'trial_643', 'trial_644', 'trial_645', 'trial_646', 'trial_647', 'trial_648', 'trial_649', 'trial_650', 'trial_651', 'trial_652', 'trial_654', 'trial_655', 'trial_656', 'trial_657', 'trial_658', 'trial_659', 'trial_661', 'trial_664', 'trial_665', 'trial_666', 'trial_668', 'trial_669', 'trial_670', 'trial_672', 'trial_673', 'trial_674', 'trial_676', 'trial_680', 'trial_681', 'trial_683', 'trial_688', 'trial_690', 'trial_693', 'trial_694', 'trial_696', 'ind_freqs', 'dep_freqs'])"
            ]
          },
          "metadata": {},
          "execution_count": 10
        }
      ]
    },
    {
      "cell_type": "code",
      "source": [
        "plot_comodulogram(loaded_dict['trial_694'],loaded_dict['ind_freqs'],loaded_dict['dep_freqs'])"
      ],
      "metadata": {
        "colab": {
          "base_uri": "https://localhost:8080/",
          "height": 497
        },
        "id": "ewgvPI27iTx2",
        "outputId": "1c8f1838-0ed8-4478-87ca-18727b4fdbe9"
      },
      "execution_count": null,
      "outputs": [
        {
          "output_type": "display_data",
          "data": {
            "text/plain": [
              "<Figure size 640x480 with 2 Axes>"
            ],
            "image/png": "[encoded data removed]"
          },
          "metadata": {}
        }
      ]
    },
    {
      "cell_type": "code",
      "source": [
        "def max_comod_values_df(trialed_comodulograms_dict,rat_id,day_id):\n",
        "  #keys are strings like \"trial_$\"; keeping only the integer identifier allows for arithmetic operations on the trial column of the resulting dataframe\n",
        "  return pd.DataFrame.from_dict({'trial':[[int(key[6:])]],'max_comod_value':[max(np.flatten(value))] for key,value in loaded_dict.items(),'rewarded':True,'rat':rat_id,'day':day_id})\n",
        "\n",
        "#fazer um negocio pra inserir as trials sem recompensa com valor maximo NaN ou sei la.. algo que nao afete a media movel?"
      ],
      "metadata": {
        "id": "FYyf3g8Gc4cQ"
      },
      "execution_count": null,
      "outputs": []
    },
    {
      "cell_type": "code",
      "source": [],
      "metadata": {
        "id": "_0h0cGnvg5Nk"
      },
      "execution_count": null,
      "outputs": []
    },
    {
      "cell_type": "markdown",
      "metadata": {
        "id": "aMn1ZpzmqCoZ"
      },
      "source": [
        "# testing the MI/comodulogram estimation algorithm"
      ]
    },
    {
      "cell_type": "markdown",
      "metadata": {
        "id": "6VPZna0lqeyx"
      },
      "source": [
        "### Sleep data"
      ]
    },
    {
      "cell_type": "code",
      "execution_count": 33,
      "metadata": {
        "id": "YHYe5O5Iqd1l"
      },
      "outputs": [],
      "source": [
        "data_path = '/content/drive/MyDrive/backup-mac/ufabc/entire-backup/lfp/all_channels/'\n",
        "os.chdir(data_path)\n",
        "\n",
        "data_states = sio.loadmat('./data/state_scoring/rat4_day2/2017-05-07_13-57-27.SleepState.states.mat')\n",
        "\n",
        "data_episodes = sio.loadmat('./data/state_scoring/rat4_day2/2017-05-07_13-57-27.SleepStateEpisodes.states.mat')\n",
        "\n",
        "data_scores = sio.loadmat('./data/state_scoring/rat4_day2/2017-05-07_13-57-27.SleepScoreLFP.LFP.mat')"
      ]
    },
    {
      "cell_type": "code",
      "execution_count": 34,
      "metadata": {
        "colab": {
          "base_uri": "https://localhost:8080/"
        },
        "id": "67rejvmXqmd5",
        "outputId": "29f26894-7222-432a-a55e-2c17849f99dc"
      },
      "outputs": [
        {
          "output_type": "stream",
          "name": "stdout",
          "text": [
            "current session:  /content/drive/MyDrive/backup-mac/ufabc/entire-backup/lfp/all_channels/data/separated_channels/rat4_day2_LFP_all\n"
          ]
        }
      ],
      "source": [
        "#load data from rat 4, day 2:\n",
        "data_path = '/content/drive/MyDrive/backup-mac/ufabc/entire-backup/lfp/all_channels/'\n",
        "os.chdir(data_path)\n",
        "\n",
        "rat = 4\n",
        "day = 2\n",
        "\n",
        "animal_label = f'rat{rat}_day{day}'\n",
        "\n",
        "os.chdir(f'./data/separated_channels/{animal_label}_LFP_all')\n",
        "print('current session: ',os.getcwd())\n",
        "\n",
        "#with open(\"./metadata.json\", \"r\") as fp:\n",
        "#    meta_data = json.load(fp) #load the JSON with metadata\n",
        "#data_sampling_rate = meta_data['sampling_rate'] #from it fetch the sampling rate of the loaded data\n",
        "#data_sampling_rate = 1250\n",
        "\n",
        "lfp,channel,region = load_lfp(rat_id = rat,day_id = day,channel_id = 18)"
      ]
    },
    {
      "cell_type": "code",
      "execution_count": 35,
      "metadata": {
        "id": "bAmV1a6bqpdy"
      },
      "outputs": [],
      "source": [
        "#This encodes the timestamps [begin, end] for each event of a given state\n",
        "#data_states['SleepState'][0][0][0][0]\n",
        "\n",
        "#Timestamps for awake states\n",
        "awake_timestamps = data_states['SleepState'][0][0][0][0][0][0]\n",
        "\n",
        "#Timestamps for pathological states\n",
        "pathological_timestamps = data_states['SleepState'][0][0][0][0][0][1]\n",
        "\n",
        "#Timestamps for NREM states\n",
        "nrem_timestamps = data_states['SleepState'][0][0][0][0][0][2]\n",
        "\n",
        "#Timestamps for REM states\n",
        "rem_timestamps = data_states['SleepState'][0][0][0][0][0][3]\n",
        "\n",
        "#'''caution: I have figured which timestamps belong to which state due to the dtypes assigned at the level of \"data_states['SleepState'][0][0][0][0]\", but it might be a mistake of mine"
      ]
    },
    {
      "cell_type": "code",
      "execution_count": 72,
      "metadata": {
        "colab": {
          "base_uri": "https://localhost:8080/"
        },
        "id": "LP2U3sf0qIZq",
        "outputId": "f7857780-4b37-4028-c89d-13e5846fcff3"
      },
      "outputs": [
        {
          "output_type": "stream",
          "name": "stdout",
          "text": [
            "77 86\n"
          ]
        }
      ],
      "source": [
        "freqs_for_amps = np.arange(30,202,2)\n",
        "freqs_for_phases = np.arange(1,20.25,.25)\n",
        "\n",
        "print(len(freqs_for_phases),len(freqs_for_amps))"
      ]
    },
    {
      "cell_type": "code",
      "execution_count": 37,
      "metadata": {
        "id": "6nJOzGOZqUh8"
      },
      "outputs": [],
      "source": [
        "first_asleep_state = lfp.query(f'timestamps > {nrem_timestamps[0][0]} and timestamps <= {nrem_timestamps[0][1]}')\n",
        "first_awake_state = lfp.query(f'timestamps > {awake_timestamps[0][0]} and timestamps <= {awake_timestamps[0][1]}')\n",
        "first_pathological_state = lfp.query(f'timestamps > {pathological_timestamps[0][0]} and timestamps <= {pathological_timestamps[0][1]}')"
      ]
    },
    {
      "cell_type": "code",
      "execution_count": 38,
      "metadata": {
        "colab": {
          "base_uri": "https://localhost:8080/",
          "height": 549
        },
        "id": "8cn9GHEJq15I",
        "outputId": "529b06c0-354e-40d3-fe9e-0573b1eab3f8"
      },
      "outputs": [
        {
          "output_type": "stream",
          "name": "stdout",
          "text": [
            "2632 3010\n",
            "7280 8335\n"
          ]
        },
        {
          "output_type": "execute_result",
          "data": {
            "text/plain": [
              "Text(0, 0.5, 'LFP')"
            ]
          },
          "metadata": {},
          "execution_count": 38
        },
        {
          "output_type": "display_data",
          "data": {
            "text/plain": [
              "<Figure size 640x480 with 1 Axes>"
            ],
            "image/png": "[encoded data removed]"
          },
          "metadata": {}
        }
      ],
      "source": [
        "print(nrem_timestamps[0][0],nrem_timestamps[0][1])\n",
        "print(nrem_timestamps[1][0],nrem_timestamps[1][1])\n",
        "\n",
        "#vamos escolher o primeiro período de sono:\n",
        "[nrem_timestamps[i][1] - nrem_timestamps[i][0] for i in range(len(nrem_timestamps))]\n",
        "\n",
        "signal = lfp.query(f'timestamps > {nrem_timestamps[0][0]} and timestamps <= {nrem_timestamps[0][1]}').lfp.values\n",
        "plt.suptitle(f'Sleep (from {nrem_timestamps[0][0]} s to {nrem_timestamps[0][1]} s)')\n",
        "plt.title('Rat 4, day 2, channel 18 (0-indexed)')\n",
        "plt.plot(signal,alpha=0.5)\n",
        "plt.xlabel('Time (s)')\n",
        "plt.ylabel('LFP')\n",
        "#plt.xticks(plt.xticks()[0],labels = [int(tick)/1250 + nrem_timestamps[0][0] for tick in plt.xticks()[0]])\n",
        "#plt.xlim(left=-5000,right=480000.0)"
      ]
    },
    {
      "cell_type": "code",
      "execution_count": 43,
      "metadata": {
        "id": "nhdqfOYlrJ_I"
      },
      "outputs": [],
      "source": [
        "comod, ind_freqs, dep_freqs = comodulogram2(signal)"
      ]
    },
    {
      "cell_type": "code",
      "execution_count": 44,
      "metadata": {
        "colab": {
          "base_uri": "https://localhost:8080/",
          "height": 497
        },
        "id": "HIbj9Q--2-jQ",
        "outputId": "7488c5df-9dbd-4c25-a3d4-869ce3e0d835"
      },
      "outputs": [
        {
          "output_type": "display_data",
          "data": {
            "text/plain": [
              "<Figure size 640x480 with 2 Axes>"
            ],
            "image/png": "[encoded data removed]"
          },
          "metadata": {}
        }
      ],
      "source": [
        "plot_comodulogram(comod,ind_freqs,dep_freqs)"
      ]
    },
    {
      "cell_type": "code",
      "execution_count": null,
      "metadata": {
        "colab": {
          "base_uri": "https://localhost:8080/",
          "height": 641
        },
        "id": "B3XxVvPSt7Vx",
        "outputId": "ba813fd2-68dc-491d-bee3-6fe88399a583"
      },
      "outputs": [
        {
          "name": "stdout",
          "output_type": "stream",
          "text": [
            "(90, 77) (77,) (90,)\n"
          ]
        },
        {
          "data": {
            "image/png": "[encoded data removed]",
            "text/plain": [
              "<Figure size 1000x700 with 2 Axes>"
            ]
          },
          "metadata": {},
          "output_type": "display_data"
        }
      ],
      "source": [
        "#dimensions\n",
        "print(np.shape(comod),np.shape(ind_freqs),np.shape(dep_freqs[0:-1]))\n",
        "\n",
        "#contour plot\n",
        "plt.figure(figsize=(10,7))\n",
        "plt.contourf(ind_freqs,dep_freqs[0:-1],comod,30)\n",
        "plt.xlabel('Phase Frequency (Hz)',size=13)\n",
        "plt.ylabel('Amplitude Frequency (Hz)',size=13)\n",
        "plt.colorbar(label=\"Modulation Index\");"
      ]
    },
    {
      "cell_type": "markdown",
      "metadata": {
        "id": "Kx0nC4R1Iugy"
      },
      "source": [
        "# Cross-frequency coupling during NREM sleep\n",
        "\n",
        "Estimated from one channel per rat on all its asleep periods\n",
        "\n",
        "### Figures to generate:\n",
        "Panel 1:\n",
        "- Average comodulogram before training vs. after training\n",
        "\n",
        "Panel 2:\n",
        "- Point plot comparing MI values before/after training (as in Eliezyer's dissertation, fig. 3.2.3.g-h)"
      ]
    },
    {
      "cell_type": "code",
      "source": [
        "def separate_intervals(state_timestamps,session_data,rat_id,day_id):\n",
        "  '''\n",
        "  Separate the intervals of a given state (REM sleep, nREM sleep, awake or micro-seizure) as happening either before or after training\n",
        "  discarding whichever interval happens within the training session\n",
        "\n",
        "  Parameters\n",
        "  ----------\n",
        "  state_timestamps: iterable\n",
        "          The LFP signal whose bands will be probed for coupling\n",
        "  session_data: pandas DataFrame\n",
        "          A DataFrame containing all information regarding the sessions, including the beginning/end timestamps of each one\n",
        "  rat_id: int\n",
        "          The chosen animal\n",
        "  day_id: int\n",
        "          The day in which the session happened\n",
        "\n",
        "  Returns\n",
        "  ----------\n",
        "  state_ocurrences_before_training,state_ocurrences_after_training: list\n",
        "          Selection of states that happen respectively before/after training\n",
        "\n",
        "  '''\n",
        "\n",
        "\n",
        "  state_ocurrences_before_training = []\n",
        "  state_ocurrences_after_training = []\n",
        "\n",
        "  #Query for the desired session and find the first and last timestamp, corresponding to the beginning and end of the training protocol during this session\n",
        "  training_begin = session_data.query(f'rat == {rat_id} and day == {day_id}').timestamp.min()\n",
        "  training_end = session_data.query(f'rat == {rat_id} and day == {day_id}').timestamp.max()\n",
        "  #print(training_begin,training_end)\n",
        "\n",
        "  for sleep_period_index,period_limits in enumerate(state_timestamps):\n",
        "    if period_limits[0] < training_begin:\n",
        "      state_ocurrences_before_training.append(state_timestamps[sleep_period_index])\n",
        "    elif period_limits[0] > training_end:\n",
        "      state_ocurrences_after_training.append(state_timestamps[sleep_period_index])\n",
        "    else:\n",
        "      pass\n",
        "\n",
        "  return state_ocurrences_before_training,state_ocurrences_after_training\n",
        "\n",
        "def split_lfp_states(lfp_df,timestamps_list):\n",
        "\n",
        "    '''separate the lfp df into a dictionary of segments, whose keys are segment identifiers (index in the timestamps list) and\n",
        "    values are dfs corresponding to excerpts of the whole lfp signal that fall between\n",
        "    each state's time boundaries [state begin, state end]'''\n",
        "\n",
        "    states_dict = {}\n",
        "    for state_id,state_limiting_timestamps in enumerate(timestamps_list):\n",
        "        '''upon profiling this function to probe its performance I have concluded it is very slow\n",
        "        the pieces of code that were taking too long were these queries below, so I'll comment them out and implement another querying method (expression matching on Series.values)\n",
        "        nonetheless, I will leave them for the sake of comprehension of what is going on in the following expression, which yields the same but in a fraction of the elapsed time\n",
        "        '''\n",
        "\n",
        "        #extract the timestamps for the beginning and end of trial using the 1st\n",
        "        #spike (begin) and total duration (end)\n",
        "        begin = state_limiting_timestamps[0]\n",
        "        end = state_limiting_timestamps[1]\n",
        "\n",
        "        #fetch the lfp data within these two timepoints and add to the dict as our state\n",
        "        current_lfp = lfp_df[(lfp_df.timestamps.values >= (begin)) & (lfp_df.timestamps.values <= end)].lfp.values\n",
        "\n",
        "        states_dict[state_id] = current_lfp\n",
        "    print('done parsing the LFP into state intervals')\n",
        "\n",
        "    return states_dict\n",
        "\n",
        "def estimate_comodulogram(signal,modulating_freqs,modulated_freqs,num_bins=50,sampling_rate=1250):\n",
        "  '''\n",
        "  Estimate the Modulation Index (MI) for each pair of frequencies (one whose phase is modulating the amplitude of the other) among all specified\n",
        "  and return the matrix with all the MIs (the comodulogram).\n",
        "\n",
        "  Parameters\n",
        "  ----------\n",
        "  signal: (NumPy) array\n",
        "          The LFP signal whose bands will be probed for coupling\n",
        "  modulating_freqs: iterable\n",
        "          The modulating frequencies (Hz) in crescent order (e.g. [1,1.25,1.5,...,20])\n",
        "  modulated_freqs: iterable\n",
        "          The modulated frequencies (Hz) in crescent order (e.g. [20,22,24,...,200])\n",
        "  num_bins: int [default: 50]\n",
        "          Number of bins in which to divide the phase of the modulating frequency (e.g. 360 deg/50 bins = 7.2 deg per bin)\n",
        "  sampling_rate: float [default: 1250]\n",
        "          The sampling rate of the original signal\n",
        "\n",
        "  Returns\n",
        "  ----------\n",
        "  current_comod: (NumPy) array\n",
        "          A 2D matrix comprised of the MI for each pair of frequencies in both the modulating and modulated ranges\n",
        "  '''\n",
        "\n",
        "  current_comod = np.zeros([len(modulated_freqs) - 1, len(modulating_freqs)])\n",
        "\n",
        "  filtered_phases = np.empty([len(modulating_freqs) - 1,len(signal)])\n",
        "\n",
        "  from scipy.signal import hilbert\n",
        "\n",
        "  for phase_index,phase in enumerate(modulating_freqs[0:-1]):\n",
        "    filtered_phases[phase_index,:] = np.angle(hilbert(band_extraction(signal,cutoff_low=modulating_freqs[phase_index],cutoff_high=modulating_freqs[phase_index+1],\n",
        "                                              sampling_rate=sampling_rate)))\n",
        "\n",
        "  phasebins = np.linspace(-np.pi,np.pi,num_bins+1)\n",
        "  phasecenters = phasebins[0:-1] + (phasebins[1] - phasebins[0])\n",
        "\n",
        "\n",
        "  #iterate over signals filtered at higher frequencies (each band for which we extract the amplitude envelope)\n",
        "  for amp_index,current_amp in enumerate(modulated_freqs[:-1]):\n",
        "    #print(f'new amp: [{amp_index}/{len(modulated_freqs)-1}]')\n",
        "    amp_envelope = abs(hilbert(band_extraction(signal,cutoff_low=modulated_freqs[amp_index],cutoff_high=modulated_freqs[amp_index+1],\n",
        "                                                    sampling_rate=sampling_rate)))\n",
        "\n",
        "    '''\n",
        "    to exploit the storage vs. processing conundrum, I have already filtered the signal in each low-frequency band of interest\n",
        "    and put each band's signal in a vector (filtered_phases, 76 bands in total).\n",
        "    once again I have opted for such an approach and below I create a vector called bins_freq,\n",
        "    that will store each frequency bin's (from [-pi,pi]) mean amplitude in a single modulated band (from which we extract the amplitude envelope)\n",
        "    '''\n",
        "\n",
        "    bins_freq = np.empty((num_bins,len(filtered_phases)))\n",
        "\n",
        "    for phase_bin_id in range(len(phasebins)-1):\n",
        "      #print(phase_bin_id)\n",
        "      #print(phasebins[phase_bin_id],phasebins[phase_bin_id+1])\n",
        "\n",
        "      for band_id,band_signal in enumerate(filtered_phases):\n",
        "        phasepoints_in_frequency_bin = np.where((band_signal > phasebins[phase_bin_id]) & (band_signal < phasebins[phase_bin_id+1]))[0]\n",
        "        mean_amplitude_in_frequency_bin = np.mean(amp_envelope[phasepoints_in_frequency_bin])\n",
        "        #print(mean_amplitude_in_frequency_bin)\n",
        "        bins_freq[phase_bin_id,band_id] = mean_amplitude_in_frequency_bin\n",
        "\n",
        "      #print(f'estimated mean amplitude in bin {phase_bin_id} [{phasebins[phase_bin_id]} Hz, {phasebins[phase_bin_id+1]} Hz] in all modulating bands!')\n",
        "      #print(sum(bins_freq[:,band_id]))\n",
        "    #print(f'finished all frequency bins for all modulating bands in this modulated band: [{modulated_freqs[amp_index]} Hz,{modulated_freqs[amp_index+1]} Hz]')\n",
        "    #normalize over each phase bin, yielding what is dubbed p\n",
        "    p = [bins_freq[:,band_id]/sum(bins_freq[:,band_id]) for band_id in range(len(filtered_phases))]\n",
        "\n",
        "    #estimate MI\n",
        "    from scipy.stats import entropy\n",
        "    uniform_dist = np.ones(num_bins)/num_bins\n",
        "\n",
        "    #iterating over all low-frequency filtered bands:\n",
        "    for low_freq_band_index in range(np.shape(p)[0]):\n",
        "      MI = entropy(p[low_freq_band_index],uniform_dist)/np.log(num_bins)\n",
        "      current_comod[amp_index,low_freq_band_index] = MI\n",
        "\n",
        "  print('Finished comodulogram')\n",
        "  return current_comod"
      ],
      "metadata": {
        "id": "RX6QC8o2y2HG"
      },
      "execution_count": 32,
      "outputs": []
    },
    {
      "cell_type": "code",
      "source": [
        "def scored_state_probing(rat_id,day_id,session_data,lfp_channel_id,state_type='NREMstate'):\n",
        "  '''\n",
        "  Find all intervals of a given type in a session, separate them into happening either before or after the training session\n",
        "  and estimate the comodulogram for each of them. Return two matrices, each comprised of the comodulograms in all intervals before/after training.\n",
        "\n",
        "  Parameters\n",
        "  ----------\n",
        "  rat_id: int\n",
        "          The chosen animal\n",
        "  day_id: int\n",
        "          The day in which the session happened\n",
        "  session_data: pandas DataFrame\n",
        "          A DataFrame containing all information regarding the sessions, including the beginning/end timestamps of each one\n",
        "  lfp_channel_id: int\n",
        "          ID of the channel [from 0 up to 31] to load for this animal\n",
        "  state_type: string [default: \"NREMstate\"]\n",
        "          The type of period which to probe. Options are: \"NREMstate\", \"WAKEstate\", \"REMstate\" and \"events_pathologicalstate\"\n",
        "\n",
        "  Returns\n",
        "  ----------\n",
        "  state_comodulograms_before_training,state_comodulograms_after_training: [NumPy] array\n",
        "          A matrix with all comodulograms of states that happen respectively before/after training\n",
        "\n",
        "  '''\n",
        "  print(f'Beginning the estimate of comodulograms of {state_type.removesuffix(\"state\")} states from session:\\n(Rat: {rat_id}, day: {day_id}) using LFP channel {lfp_channel_id} (0-indexed)')\n",
        "\n",
        "  #Query for the desired session and find the first and last timestamp, corresponding to the beginning and end of the training protocol during this session\n",
        "  training_begin = session_data.query(f'rat == {rat_id} and day == {day_id}').timestamp.min()\n",
        "  training_end = session_data.query(f'rat == {rat_id} and day == {day_id}').timestamp.max()\n",
        "\n",
        "  #Load the timestamps for each event (e.g. sleep, pathological states) as a list\n",
        "\n",
        "  #We set up these conditionals just for rat 4, whose folders are differently named from the pattern\n",
        "  if rat_id == 4 and day_id == 1:\n",
        "    day_tag = '2017-05-06_09-58-35'\n",
        "  elif rat_id == 4 and day_id == 2:\n",
        "    day_tag = '2017-05-07_13-57-27'\n",
        "  else:\n",
        "    day_tag = f'Day{day_id}'\n",
        "\n",
        "  state_scores_path = f'/content/drive/MyDrive/MSc/Rat{rat_id}/{day_tag}'\n",
        "\n",
        "  #Load the state scoring timestamps proper\n",
        "  data_states = sio.loadmat(state_scores_path+f'/{day_tag}.SleepState.states.mat')\n",
        "\n",
        "  #Not all sessions have pathological states\n",
        "  if state_type == 'events_pathologicalstate':\n",
        "    try:\n",
        "      event_timestamps = data_states['SleepState']['ints'][0][0][state_type][0][0]\n",
        "    except:\n",
        "      raise('There are pathological (microseizure) states in this session.')\n",
        "  #But all others are guaranteed\n",
        "  else:\n",
        "    event_timestamps = data_states['SleepState']['ints'][0][0][state_type][0][0]\n",
        "\n",
        "  #Separate events into either happening before or after training\n",
        "  events_before_training,events_after_training = separate_intervals(event_timestamps,session_data,rat_id,day_id)\n",
        "\n",
        "  #just print either 'NREM', 'REM', 'WAKE' or 'events_pathological', withouth the 'state' suffix appended to the strings\n",
        "  print(f'There are {len(events_before_training)} '+state_type.removesuffix(\"state\")+' periods before training')\n",
        "  print(f'There are {len(events_after_training)} '+state_type.removesuffix(\"state\")+' periods after training')\n",
        "\n",
        "  #Create two 3D matrices, one for before training and one for after training, whose dimensions are {number of periods, modulating frequencies, modulated frequencies}\n",
        "  #i.e. a matrix with K comodulograms, being MxN each (M being the number of modulating frequencies probed and N the modulated ones)\n",
        "\n",
        "  #These are the frequencies over which we will build the comodulogram; for now I am making them fixed but later they will be incorporated as parameters\n",
        "  freqs_for_amps = np.arange(30,202,2)\n",
        "  freqs_for_phases = np.arange(1,20.25,.25)\n",
        "\n",
        "  def states_comodulograms_matrix(states_timestamps,freqs_for_amps,freqs_for_phases):\n",
        "    '''Build a 3D matrix with dimensions {number of events, number of frequencies probed for being modulated, number of frequencies probed for being modulating of the former}'''\n",
        "    comods_over_states = np.zeros([len(states_timestamps),len(freqs_for_amps) - 1, len(freqs_for_phases)])\n",
        "    return comods_over_states\n",
        "\n",
        "  comods_before_training = states_comodulograms_matrix(events_before_training,freqs_for_amps,freqs_for_phases)\n",
        "  comods_after_training = states_comodulograms_matrix(events_after_training,freqs_for_amps,freqs_for_phases)\n",
        "\n",
        "  print(np.shape(comods_before_training))\n",
        "  print(np.shape(comods_after_training))\n",
        "\n",
        "  #7. Load the LFP corresponding to this session (recordings from its best channel)\n",
        "\n",
        "  animal_label = f'rat{rat_id}_day{day_id}'\n",
        "\n",
        "  #1. Load the spikes' dataframe\n",
        "  os.chdir(f'/content/drive/MyDrive/backup-mac/ufabc/entire-backup/lfp/all_channels//data/separated_channels/{animal_label}_LFP_all')\n",
        "\n",
        "  lfp,channel,region = load_lfp(rat_id = rat_id,day_id = day_id,channel_id = lfp_channel_id)\n",
        "\n",
        "  #Split this (whole) LFP signal into the periods of interest both before and after training\n",
        "  before_training_lfps = split_lfp_states(lfp,events_before_training)\n",
        "  after_training_lfps = split_lfp_states(lfp,events_after_training)\n",
        "\n",
        "  #Estimate the comodulogram for each LFP segment in each of the sections (before/after training) and store them into the matrix created above\n",
        "\n",
        "  for segment_identifier,segment_lfp in before_training_lfps.items():\n",
        "    print(f'Beginning segment {segment_identifier+1} out of {len(before_training_lfps)}')\n",
        "    comods_before_training[segment_identifier,:,:] = estimate_comodulogram(segment_lfp,freqs_for_phases,freqs_for_amps)\n",
        "\n",
        "  np.save(f'{state_type.removesuffix(\"state\")}_comodulograms_before_training_rat{rat_id}-day{day_id}',comods_before_training)\n",
        "  print('Finished all segments before training')\n",
        "\n",
        "  for segment_identifier,segment_lfp in after_training_lfps.items():\n",
        "    print(f'Beginning segment {segment_identifier+1} out of {len(after_training_lfps)}')\n",
        "    comods_after_training[segment_identifier,:,:] = estimate_comodulogram(segment_lfp,freqs_for_phases,freqs_for_amps)\n",
        "\n",
        "  np.save(f'{state_type.removesuffix(\"state\")}_comodulograms_after_training_rat{rat_id}-day{day_id}',comods_after_training)\n",
        "  print('Finished all segments after training')\n",
        "\n",
        "  return comods_before_training,comods_after_training,freqs_for_phases,freqs_for_amps"
      ],
      "metadata": {
        "id": "7NalKYLXzFSH"
      },
      "execution_count": 74,
      "outputs": []
    },
    {
      "cell_type": "code",
      "source": [
        "#1. Load the spikes' dataframe\n",
        "data_path = '/content/drive/MyDrive/backup-mac/ufabc/entire-backup/lfp/all_channels/'\n",
        "os.chdir(data_path)\n",
        "print(os.getcwd())\n",
        "session_data = pd.read_csv('./data/session_data-spikes.csv').copy()\n",
        "\n",
        "#each animal's leaast noisy channel as a dict {animal:channel}\n",
        "ideal_channels = {\n",
        "    'Rat3':11,\n",
        "    'Rat4':18,\n",
        "    'Rat5':9,\n",
        "    'Rat6':10\n",
        "}"
      ],
      "metadata": {
        "colab": {
          "base_uri": "https://localhost:8080/"
        },
        "id": "QTp0UL_szIN_",
        "outputId": "a7889e3d-7605-4c2d-e977-a804b01bd6ad"
      },
      "execution_count": 75,
      "outputs": [
        {
          "output_type": "stream",
          "name": "stdout",
          "text": [
            "/content/drive/MyDrive/backup-mac/ufabc/entire-backup/lfp/all_channels\n"
          ]
        }
      ]
    },
    {
      "cell_type": "code",
      "source": [
        "#2. Select the rat and day (session, that is)\n",
        "rat_id = 3\n",
        "day_id = 2\n",
        "\n",
        "before,after,ind_freqs,dep_freqs = scored_state_probing(rat_id,day_id,session_data,lfp_channel_id=ideal_channels[f'Rat{rat_id}'],state_type='NREMstate')"
      ],
      "metadata": {
        "colab": {
          "base_uri": "https://localhost:8080/"
        },
        "id": "O3pAincwzMqo",
        "outputId": "2ef55037-92e8-419b-cc79-749e112e0350"
      },
      "execution_count": 76,
      "outputs": [
        {
          "output_type": "stream",
          "name": "stdout",
          "text": [
            "Beginning the estimate of comodulograms of NREM states from session:\n",
            "(Rat: 3, day: 2) using LFP channel 11 (0-indexed)\n",
            "There are 5 NREM periods before training\n",
            "There are 23 NREM periods after training\n",
            "(5, 85, 77)\n",
            "(23, 85, 77)\n",
            "done parsing the LFP into state intervals\n",
            "done parsing the LFP into state intervals\n",
            "Beginning segment 1 out of 5\n",
            "Finished comodulogram\n",
            "Beginning segment 2 out of 5\n",
            "Finished comodulogram\n",
            "Beginning segment 3 out of 5\n",
            "Finished comodulogram\n",
            "Beginning segment 4 out of 5\n",
            "Finished comodulogram\n",
            "Beginning segment 5 out of 5\n",
            "Finished comodulogram\n",
            "Finished all segments before training\n",
            "Beginning segment 1 out of 23\n",
            "Finished comodulogram\n",
            "Beginning segment 2 out of 23\n",
            "Finished comodulogram\n",
            "Beginning segment 3 out of 23\n",
            "Finished comodulogram\n",
            "Beginning segment 4 out of 23\n",
            "Finished comodulogram\n",
            "Beginning segment 5 out of 23\n",
            "Finished comodulogram\n",
            "Beginning segment 6 out of 23\n",
            "Finished comodulogram\n",
            "Beginning segment 7 out of 23\n",
            "Finished comodulogram\n",
            "Beginning segment 8 out of 23\n",
            "Finished comodulogram\n",
            "Beginning segment 9 out of 23\n",
            "Finished comodulogram\n",
            "Beginning segment 10 out of 23\n",
            "Finished comodulogram\n",
            "Beginning segment 11 out of 23\n",
            "Finished comodulogram\n",
            "Beginning segment 12 out of 23\n",
            "Finished comodulogram\n",
            "Beginning segment 13 out of 23\n",
            "Finished comodulogram\n",
            "Beginning segment 14 out of 23\n",
            "Finished comodulogram\n",
            "Beginning segment 15 out of 23\n"
          ]
        },
        {
          "output_type": "stream",
          "name": "stderr",
          "text": [
            "/usr/local/lib/python3.10/dist-packages/numpy/core/fromnumeric.py:3432: RuntimeWarning: Mean of empty slice.\n",
            "  return _methods._mean(a, axis=axis, dtype=dtype,\n",
            "/usr/local/lib/python3.10/dist-packages/numpy/core/_methods.py:190: RuntimeWarning: invalid value encountered in double_scalars\n",
            "  ret = ret.dtype.type(ret / rcount)\n"
          ]
        },
        {
          "output_type": "stream",
          "name": "stdout",
          "text": [
            "Finished comodulogram\n",
            "Beginning segment 16 out of 23\n",
            "Finished comodulogram\n",
            "Beginning segment 17 out of 23\n",
            "Finished comodulogram\n",
            "Beginning segment 18 out of 23\n",
            "Finished comodulogram\n",
            "Beginning segment 19 out of 23\n",
            "Finished comodulogram\n",
            "Beginning segment 20 out of 23\n",
            "Finished comodulogram\n",
            "Beginning segment 21 out of 23\n",
            "Finished comodulogram\n",
            "Beginning segment 22 out of 23\n",
            "Finished comodulogram\n",
            "Beginning segment 23 out of 23\n",
            "Finished comodulogram\n",
            "Finished all segments after training\n"
          ]
        }
      ]
    },
    {
      "cell_type": "code",
      "source": [
        "before = np.load('./NREM_comodulograms_before_training_rat3-day1.npy')\n",
        "after = np.load('./NREM_comodulograms_after_training_rat3-day1.npy')"
      ],
      "metadata": {
        "id": "it6SFa8tS1lV"
      },
      "execution_count": 52,
      "outputs": []
    },
    {
      "cell_type": "code",
      "source": [
        "#freqs_for_amps = np.arange(30,202,2)\n",
        "#freqs_for_phases = np.arange(1,20.25,.25)\n",
        "\n",
        "averaged_early = np.mean(before,axis=0)\n",
        "averaged_late = np.mean(after,axis=0)"
      ],
      "metadata": {
        "id": "lgYsbKleTkA4"
      },
      "execution_count": 77,
      "outputs": []
    },
    {
      "cell_type": "code",
      "source": [
        "plot_comodulogram(averaged_early)\n",
        "plt.show()\n",
        "plot_comodulogram(averaged_late)"
      ],
      "metadata": {
        "colab": {
          "base_uri": "https://localhost:8080/",
          "height": 212
        },
        "id": "433DMw5iWV38",
        "outputId": "42d55b1d-267b-4631-ad01-fd9262bdc4bf"
      },
      "execution_count": 78,
      "outputs": [
        {
          "output_type": "error",
          "ename": "TypeError",
          "evalue": "plot_comodulogram() missing 2 required positional arguments: 'ind_freqs' and 'dep_freqs'",
          "traceback": [
            "\u001b[0;31m---------------------------------------------------------------------------\u001b[0m",
            "\u001b[0;31mTypeError\u001b[0m                                 Traceback (most recent call last)",
            "\u001b[0;32m<ipython-input-78-d7bff21cd4c4>\u001b[0m in \u001b[0;36m<cell line: 1>\u001b[0;34m()\u001b[0m\n\u001b[0;32m----> 1\u001b[0;31m \u001b[0mplot_comodulogram\u001b[0m\u001b[0;34m(\u001b[0m\u001b[0maveraged_early\u001b[0m\u001b[0;34m)\u001b[0m\u001b[0;34m\u001b[0m\u001b[0;34m\u001b[0m\u001b[0m\n\u001b[0m\u001b[1;32m      2\u001b[0m \u001b[0mplt\u001b[0m\u001b[0;34m.\u001b[0m\u001b[0mshow\u001b[0m\u001b[0;34m(\u001b[0m\u001b[0;34m)\u001b[0m\u001b[0;34m\u001b[0m\u001b[0;34m\u001b[0m\u001b[0m\n\u001b[1;32m      3\u001b[0m \u001b[0mplot_comodulogram\u001b[0m\u001b[0;34m(\u001b[0m\u001b[0maveraged_late\u001b[0m\u001b[0;34m)\u001b[0m\u001b[0;34m\u001b[0m\u001b[0;34m\u001b[0m\u001b[0m\n",
            "\u001b[0;31mTypeError\u001b[0m: plot_comodulogram() missing 2 required positional arguments: 'ind_freqs' and 'dep_freqs'"
          ]
        }
      ]
    },
    {
      "cell_type": "code",
      "source": [
        "rat1_averaged_comods = {True:averaged_early,False:averaged_late}"
      ],
      "metadata": {
        "id": "qlfjiP7mVAXW"
      },
      "execution_count": 64,
      "outputs": []
    },
    {
      "cell_type": "code",
      "source": [
        "'''I need the average comodulogram over session phases (before/after training) to be in the following format to make my life easier:'''\n",
        "#rat_id = {True:pre_session_average_comodulogram_matrix, False:post_session_average_comodulogram_matrix}"
      ],
      "metadata": {
        "id": "wCSKOOg0waU-"
      },
      "execution_count": null,
      "outputs": []
    },
    {
      "cell_type": "markdown",
      "metadata": {
        "id": "V8BUtXFXMtsr"
      },
      "source": [
        "# Phase reset at trial onset/offset\n",
        "\n",
        "Estimated from one channel per rat on all its asleep periods\n",
        "\n",
        "### Figures to generate:\n",
        "Panel 1:\n",
        "- Phase reset panel at onset/offset (comparing to 500 ms prior)"
      ]
    },
    {
      "cell_type": "markdown",
      "source": [
        "#### Running PyCircStat's Kuiper test in Google Colab\n",
        "\n",
        "There is one function needed to use the Kuiper test as implemented in the PyCircStat toolbox. This test is intended to be a circular statistics' analogue to the Kolmogorov-Smirnov for linear distributions.\n",
        "\n",
        "Unfortunately, in the current implementation the test requires loading a table that is provided under a given direction, namely: \"'/'.join(os.path.realpath(__file__).split('/')[:-2] + ['data/'])\"\n",
        "\n",
        "If one tries to load from that location using a Google Colab notebook it yields a loading error for location not found. The simplest solution I had in mind was to simply copy the source code for the kuiper() function and all its necessary appendages in order to run it locally within this notebook."
      ],
      "metadata": {
        "id": "ZKxibvlsKhLj"
      }
    },
    {
      "cell_type": "code",
      "source": [
        "!pip3 install pycircstat\n",
        "!pip install nose #this is important so we can actually import pycircstats\n",
        "\n",
        "import pycircstat\n",
        "from pycircstat import descriptive, swap2zeroaxis\n",
        "import warnings\n",
        "\n",
        "@swap2zeroaxis(['alpha1', 'alpha2'], [0, 1])\n",
        "def kuiper(alpha1, alpha2, res=100, axis=None):\n",
        "    \"\"\"\n",
        "    The Kuiper two-sample test tests whether the two samples differ\n",
        "    significantly.The difference can be in any property, such as mean\n",
        "    location and dispersion. It is a circular analogue of the\n",
        "    Kolmogorov-Smirnov test.\n",
        "    H0: The two distributions are identical.\n",
        "    HA: The two distributions are different.\n",
        "    :param alpha1: fist sample (in radians)\n",
        "    :param alpha2: second sample (in radians)\n",
        "    :param res:    resolution at which the cdf is evaluated (default 100)\n",
        "    :returns: p-value and test statistic\n",
        "              p-value is the smallest of .10, .05, .02, .01, .005, .002,\n",
        "              .001, for which the test statistic is still higher\n",
        "              than the respective critical value. this is due to\n",
        "              the use of tabulated values. if p>.1, pval is set to 1.\n",
        "    References: [Batschelet1980]_ p. 112\n",
        "    \"\"\"\n",
        "\n",
        "    if axis is not None:\n",
        "        assert alpha1.shape[1:] == alpha2.shape[1:], \"Shapes of alphas not consistent with computation along axis.\"\n",
        "    n, m = alpha1.shape[axis], alpha2.shape[axis]\n",
        "\n",
        "    _, cdf1 = _sample_cdf(alpha1, res, axis=axis)\n",
        "    _, cdf2 = _sample_cdf(alpha2, res, axis=axis)\n",
        "\n",
        "    dplus = np.atleast_1d((cdf1 - cdf2).max(axis=axis))\n",
        "    dplus[dplus < 0] = 0.\n",
        "    dminus = np.atleast_1d((cdf2 - cdf1).max(axis=axis))\n",
        "    dminus[dminus < 0] = 0.\n",
        "\n",
        "    k = n * m * (dplus + dminus)\n",
        "    mi = np.min([m, n])\n",
        "    fac = np.sqrt(n * m * (n + m))\n",
        "    pval = np.asarray([_kuiper_lookup(mi, kk / fac)\n",
        "                       for kk in k.ravel()]).reshape(k.shape)\n",
        "    return pval, k\n",
        "\n",
        "\n",
        "def _kuiper_lookup(n, k):\n",
        "    ktable = load_kuiper_table()\n",
        "\n",
        "    alpha = np.asarray([.10, .05, .02, .01, .005, .002, .001])\n",
        "    nn = ktable[:, 0]\n",
        "\n",
        "    isin = (nn == n)\n",
        "    if np.any(isin):\n",
        "        row = np.where(isin)[0]\n",
        "    else:\n",
        "        row = len(nn) - np.sum(n < nn) - 1\n",
        "\n",
        "        if row == 0:\n",
        "            raise ValueError('N too small.')\n",
        "        else:\n",
        "            warnings.warn(\n",
        "                'N=%d not found in table, using closest N=%d present.' %\n",
        "                (n, nn[row]))\n",
        "\n",
        "    idx = (ktable[row, 1:] < k).squeeze()\n",
        "    if np.any(idx):\n",
        "        return alpha[idx].min()\n",
        "    else:\n",
        "        return 1.\n",
        "\n",
        "\n",
        "@swap2zeroaxis(['alpha'], [1])\n",
        "def _sample_cdf(alpha, resolution=100., axis=None):\n",
        "    \"\"\"\n",
        "    Helper function for circ_kuipertest.\n",
        "    Evaluates CDF of sample in thetas.\n",
        "    :param alpha: sample (in radians)\n",
        "    :param resolution: resolution at which the cdf is evaluated (default 100)\n",
        "    :param axis: axis along which the cdf is computed\n",
        "    :returns: points at which cdf is evaluated, cdf values\n",
        "    \"\"\"\n",
        "\n",
        "    if axis is None:\n",
        "        alpha = alpha.ravel()\n",
        "        axis = 0\n",
        "    bins = np.linspace(0, 2 * np.pi, resolution + 1)\n",
        "    old_shape = alpha.shape\n",
        "    alpha = alpha % (2 * np.pi)\n",
        "\n",
        "    alpha = alpha.reshape((alpha.shape[0], int(np.prod(alpha.shape[1:])))).T\n",
        "    cdf = np.array([np.histogram(a, bins=bins)[0]\n",
        "                    for a in alpha]).cumsum(axis=1) / float(alpha.shape[1])\n",
        "    cdf = cdf.T.reshape((len(bins) - 1,) + old_shape[1:])\n",
        "\n",
        "    return bins[:-1], cdf\n",
        "\n",
        "def load_kuiper_table():\n",
        "  _data_path = '/content/drive/MyDrive/backup-mac/ufabc/entire-backup/lfp/all_channels/data'\n",
        "  return np.load(_data_path + '/kuiper_table.npy')"
      ],
      "metadata": {
        "id": "QjtQ7UTCKgkY"
      },
      "execution_count": null,
      "outputs": []
    },
    {
      "cell_type": "markdown",
      "source": [
        "### Phase reset analysis proper"
      ],
      "metadata": {
        "id": "U36W1oVoKiY6"
      }
    },
    {
      "cell_type": "code",
      "source": [
        "#1. Load the spikes' dataframe\n",
        "data_path = '/content/drive/MyDrive/backup-mac/ufabc/entire-backup/lfp/all_channels/'\n",
        "os.chdir(data_path)\n",
        "print(os.getcwd())\n",
        "session_data = pd.read_csv('./data/session_data-spikes.csv').copy()\n",
        "\n",
        "#each animal's leaast noisy channel as a dict {animal:channel}\n",
        "ideal_channels = {\n",
        "    'Rat3':11,\n",
        "    'Rat4':18,\n",
        "    'Rat5':9,\n",
        "    'Rat6':10\n",
        "}"
      ],
      "metadata": {
        "id": "I1ggUUVbJNLl"
      },
      "execution_count": null,
      "outputs": []
    },
    {
      "cell_type": "code",
      "source": [
        "#2. Select the rat and day (session, that is)\n",
        "#rat_id = 3\n",
        "#day_id = 1\n",
        "\n",
        "#before,after = scored_state_probing(rat_id,day_id,session_data,lfp_channel_id=ideal_channels[f'Rat{rat_id}'],state_type='NREMstate')"
      ],
      "metadata": {
        "id": "apwKxOjqJKlJ"
      },
      "execution_count": null,
      "outputs": []
    },
    {
      "cell_type": "code",
      "source": [
        "def phase_reset_dists(peri_trials_dict,peri_trial = 0.5,window_width=0.1,min_freq=1,bandwidth = 19,sampling_rate=1250,from_the_beginning=True):\n",
        "\n",
        "  '''\n",
        "  estimate the circular mean of the LFP phase in a window following a target instant and in a window at some peri-target vicinity that happens before it\n",
        "  e.g.:\n",
        "        - target = 0 ms (trial beginning), peri-target = -500 ms (500 ms before trial begins)\n",
        "        - target = EOT (end-of-trial), peri-target = -500 ms (500 ms before trial ends)\n",
        "\n",
        "    example: peri_trial = 0.5 s; window_dith = 0.1 s => compare [-500 ms, -400ms] to [0 ms, 100 ms]\n",
        "\n",
        "  input:\n",
        "      - peri_trials_dict [dict]: {key:value} pairs are {trial:LFP} with LFP being the (continuous) signal cropped from durations [-peri_target,trial_duration]\n",
        "                                  (see the split_lfp_trials() function)\n",
        "      - min_freq, bandwidth [float, Hz]: the range in which the LFP will be filtered is from [min_freq,min_freq+bandwidth]\n",
        "      - peri_trial [float, s]: how many seconds the peri-target vicinity is displaced from the target instant\n",
        "      - window_width [float, s]: the timespan after which the signal at either the phases of peri- or target instants will be (circularly) averaged out\n",
        "\n",
        "  output:\n",
        "      - peri_phases,target_phases [dict]: the {key:value} pairs are {trial [type - string]: mean phase over either the peri-target or target instant + window [type - np.array]}\n",
        "  '''\n",
        "\n",
        "  #if there is no SciPy loaded it will prompt a failure, for we use scipy.stats.circmean and scipy.signal.hilbert\n",
        "  assert scipy\n",
        "\n",
        "  # number of points peri-target onset (either trial beginning or end)\n",
        "  peri_points = int(peri_trial*sampling_rate)\n",
        "\n",
        "  # number of points from the target onset and afterwards\n",
        "  points_in_window = int(window_width*sampling_rate)\n",
        "\n",
        "  # the total number of points\n",
        "  num_points = (2*points_in_window) + peri_points\n",
        "\n",
        "  peri_phases = {}\n",
        "  target_phases = {}\n",
        "\n",
        "  for trial in peri_trials_dict.keys():\n",
        "    #fetch the signal corresponding to the period of the whole trial with peri-onset durations included (e.g. - 500 ms)\n",
        "    current_lfp_analytic = scipy.signal.hilbert(band_extraction(peri_trials_dict[trial].lfp,cutoff_low=min_freq,cutoff_high=min_freq+bandwidth,\n",
        "                                               sampling_rate=sampling_rate))\n",
        "    lfp_phase = np.angle(current_lfp_analytic) # lfp phase\n",
        "\n",
        "    if from_the_beginning == True:\n",
        "      #trim the trial from the beginning\n",
        "      lfp_phase = lfp_phase[0:num_points]\n",
        "    else:\n",
        "      #trim the trial from the end, so the first point (index 0) coincides with the instant to be compared with the trial end\n",
        "      lfp_phase = lfp_phase[-num_points:]\n",
        "\n",
        "    #get the mean phase from the beginning of the considered duration (peri-target instant + window)\n",
        "    peri_phases.update({trial: scipy.stats.circmean(lfp_phase[0:points_in_window])})\n",
        "\n",
        "    #get the mean phase from the target duration (all points in the peri_points [e.g. 625 for 500 ms of peri-trial interval at 1250 Hz of sampling rate] + 100ms window)\n",
        "    target_phases.update({trial: scipy.stats.circmean(lfp_phase[peri_points:peri_points+points_in_window])})\n",
        "\n",
        "  return peri_phases,target_phases"
      ],
      "metadata": {
        "id": "nZrrqsK8jrNb"
      },
      "execution_count": null,
      "outputs": []
    },
    {
      "cell_type": "code",
      "source": [
        "def channel_phase_reset(rat,day,channel,from_the_beginning=True,min_duration=0.8,peri_trial = 0.5,window_width=0.1,min_freq=1,bandwidth = 19,sampling_rate=1250,per_slice=1300):\n",
        "\n",
        "  #os.chdir(f'./data/separated_channels/rat{rat}_day{day}_LFP_all')\n",
        "\n",
        "  import json\n",
        "  with open(\"./channel_region\", \"r\") as fp:\n",
        "    channel_region_pairs = json.load(fp) #load the JSON with channel-region pairings\n",
        "\n",
        "\n",
        "  #Estimate phase distributions for both a 100 ms window at both a peri-trial instant and at trial beginning over all channels\n",
        "\n",
        "  #This is the dictionary we will save the results\n",
        "  channel_phasedist_results = {}\n",
        "\n",
        "  lfp,channel,region = load_lfp(rat_id = rat,day_id = day,channel_id = channel[2:])\n",
        "\n",
        "  #split the continuous signal into the segments belonging to each trial (time-consuming, ~1.3s, I should speed it up)\n",
        "  peri_trial_dict = split_lfp_trials(session_data,lfp,rat,day,region,min_duration=min_duration,sampling_rate=sampling_rate,\n",
        "                                     slicing='none',peri_trial_inclusion = peri_trial,per_slice=per_slice)\n",
        "\n",
        "  #Estimate the phase reset distributions (circular mean of phase in each timespan: peri-trial or in-trial windows)\n",
        "  pre_phases, target_phases = phase_reset_dists(peri_trial_dict,peri_trial = 0.5,window_width=0.1,min_freq=1,bandwidth = 19,sampling_rate=1250,from_the_beginning=from_the_beginning)\n",
        "\n",
        "  #Save the values of each as a NumPy array into another dict indexed by the key \"channel\" (e.g. 'ch0'), comprising both results for that channel\n",
        "  peri_phases_dist = np.array(list(pre_phases.values()))\n",
        "  target_phases_dist = np.array(list(target_phases.values()))\n",
        "\n",
        "  return peri_phases_dist,target_phases_dist"
      ],
      "metadata": {
        "id": "3aqtUC8YKVW2"
      },
      "execution_count": null,
      "outputs": []
    },
    {
      "cell_type": "code",
      "source": [
        "def plot_phase_reset_histogram(channel_phasedist_results,peri_interval_size=0.5,window_size=0.1,aligned_to='begin',save_fig=True,file_name=''):\n",
        "  #Plot the results as a panel with 32 polar histograms of mean phase count\n",
        "\n",
        "  #convert to ms\n",
        "  peri_interval_size*=100\n",
        "  window_size*=100\n",
        "\n",
        "  #The results should be stored in a dictionary named channel_phasedist_results\n",
        "  fig, axes = plt.subplots(nrows=8, ncols=4,figsize=(8,20))\n",
        "  fig.subplots_adjust(hspace=0.5)\n",
        "\n",
        "  if aligned_to == 'begin':\n",
        "    labels = ('Peri-trial interval [-500 ms,-400 ms]','Trial beginning [0 ms,100 ms]')\n",
        "    suptitle_text = f'Mean phase over a window of {window_size} ms per trial \\n at a peri-trial instant (-{peri_interval_size} ms) and at trial beginning'\n",
        "  elif aligned_to == 'end':\n",
        "    labels = (f'Mid-trial interval [EOT - {peri_interval_size} ms, EOT - {peri_interval_size+window_size} ms]',f'Trial end [EOT - {window_size} ms, EOT]')\n",
        "    suptitle_text = f'Mean phase over a window of {window_size} ms per trial \\n at a mid-trial instant ({peri_interval_size} ms from trial end) and at trial end'\n",
        "\n",
        "  fig.suptitle(suptitle_text)\n",
        "\n",
        "  channel_counter = 0\n",
        "\n",
        "  num_bins = 18\n",
        "  bins = np.linspace(0,2*np.pi,num_bins+1)\n",
        "  width = 2*np.pi/num_bins\n",
        "\n",
        "  for ax in axes.flatten():\n",
        "    pre_dist,trial_dist = channel_phasedist_results[f'ch{channel_counter}']\n",
        "\n",
        "    channel_region = channel_region_pairs[f'ch{channel_counter}']\n",
        "\n",
        "    if kuiper(pre_dist,trial_dist)[0] <= 0.05:\n",
        "      colors = ['red','blue']\n",
        "    else:\n",
        "      colors = ['#b5b5b5','#525252']\n",
        "\n",
        "    series1_counts,_ = np.histogram(pre_dist,bins)\n",
        "    series2_counts,_ = np.histogram(trial_dist,bins)\n",
        "\n",
        "    #only label the first two plots with significant statistics because otherwise we would have repeated labelling\n",
        "\n",
        "    ax = plt.subplot(8, 4, channel_counter+1, projection='polar')\n",
        "\n",
        "    if channel_counter == 0:\n",
        "      #ax = plt.subplot(8, 4, channel_counter+1, projection='polar')\n",
        "      label1 = ax.plot([], [], color='red',alpha=0.5,label=labels[0])\n",
        "      label2 = ax.plot([], [], color='blue',alpha=0.5,label=labels[1])\n",
        "      label3 = ax.plot([], [], color='#b5b5b5',alpha=0.5,label=labels[0]+'(Non-significant)')\n",
        "      label4 = ax.plot([], [], color='#525252',alpha=0.5,label=labels[0]+'(Non-significant)')\n",
        "    else:\n",
        "      labels = (None,None)\n",
        "    series1_bars = ax.bar(bins[:num_bins], series1_counts, width=width, bottom=0.0,color=colors[0],alpha=0.5)\n",
        "    series2_bars = ax.bar(bins[:num_bins], series2_counts, width=width, bottom=0.0,color=colors[1],alpha=0.5)\n",
        "\n",
        "    plt.title(f'Channel: {channel_counter} \\n Region: {channel_region}')\n",
        "    plt.yticks([])\n",
        "\n",
        "    channel_counter+=1\n",
        "\n",
        "  #fetch the labels for each axis in axes\n",
        "  lines_labels = [ax.get_legend_handles_labels() for ax in fig.axes]\n",
        "  lines, labels = [sum(lol, []) for lol in zip(*lines_labels)]\n",
        "  fig.legend(lines, labels,bbox_to_anchor=(0.75,1.035))\n",
        "\n",
        "  fig.tight_layout()\n",
        "\n",
        "  if save_fig:\n",
        "    plt.savefig(f'./results/{file_name}.png',format='png',bbox_inches='tight')"
      ],
      "metadata": {
        "id": "sVP74EwQKY22"
      },
      "execution_count": null,
      "outputs": []
    },
    {
      "cell_type": "code",
      "source": [
        "######## USE THIS ONE\n",
        "\n",
        "data_path = '/content/drive/MyDrive/backup-mac/ufabc/entire-backup/lfp/all_channels/'\n",
        "os.chdir(data_path)\n",
        "\n",
        "#load auxiliary session data (trial segmenting times for all animals)\n",
        "session_data = pd.read_csv('./data/session_data-spikes.csv').copy()\n",
        "\n",
        "from_the_beginning = True\n",
        "\n",
        "for rat in range(3,7):\n",
        "  for day in range(1,3):\n",
        "    if from_the_beginning:\n",
        "      label = f'rat{rat}_day{day}_mean-phase-comparison_begin-aligned'\n",
        "    else:\n",
        "      label = f'rat{rat}_day{day}_mean-phase-comparison_end-aligned'\n",
        "\n",
        "    print(f'beginning session: {label}')\n",
        "\n",
        "    #go to the LFP folder corresponding to the current session\n",
        "    os.chdir(f'./data/separated_channels/rat{rat}_day{day}_LFP_all')\n",
        "\n",
        "    import json\n",
        "    with open(\"./channel_region\", \"r\") as fp:\n",
        "      channel_region_pairs = json.load(fp) #load the JSON with channel-region pairings\n",
        "\n",
        "    #Estimate phase distributions for both a 100 ms window at both a peri-trial instant and at trial beginning over all channels\n",
        "\n",
        "    #This is the dictionary we will save the results\n",
        "    channel_phasedist_results = {}\n",
        "\n",
        "    #Iterate over channels\n",
        "    #for channel in channel_region_pairs.keys():\n",
        "    for channel in list(channel_region_pairs.keys()):\n",
        "\n",
        "\n",
        "\n",
        "      peri_phases_dist,target_phases_dist = channel_phase_reset(rat,day,channel,from_the_beginning=from_the_beginning)\n",
        "      channel_phasedist_results.update({f'{channel}':[peri_phases_dist,target_phases_dist]})\n",
        "      del peri_phases_dist,target_phases_dist\n",
        "\n",
        "      print(f'finished channel {channel}')\n",
        "    #save the dict corresponding to this session\n",
        "\n",
        "    with open(f\"./results/{label}_results\", \"w\") as regions_file:\n",
        "      #we cannot save np.arrays to JSON files, so we must convert both pre- and target-phases-dist to lists before saving\n",
        "      salvable_results = {item[0]:[item[1][0].tolist(),item[1][1].tolist()] for item in channel_phasedist_results.items()}\n",
        "      json.dump(obj=salvable_results,fp=regions_file)\n",
        "\n",
        "    plot_phase_reset_histogram(channel_phasedist_results,peri_interval_size=0.5,window_size=0.1,aligned_to='begin',save_fig=True,file_name=label+'_fig')\n",
        "\n",
        "    os.chdir('../../..')"
      ],
      "metadata": {
        "id": "K05nxcMBKdRz"
      },
      "execution_count": null,
      "outputs": []
    },
    {
      "cell_type": "markdown",
      "source": [
        "#### from here on i will be altering this cell:"
      ],
      "metadata": {
        "id": "-kv3fAdlRxaY"
      }
    },
    {
      "cell_type": "code",
      "source": [
        "def plot_phase_reset_histogram(channel_phasedist_results,peri_interval_size=0.5,window_size=0.1,aligned_to='begin',save_fig=True,file_name=''):\n",
        "  #Plot the results as a panel with 32 polar histograms of mean phase count\n",
        "\n",
        "  #convert to ms\n",
        "  peri_interval_size*=100\n",
        "  window_size*=100\n",
        "\n",
        "  #The results should be stored in a dictionary named channel_phasedist_results\n",
        "  fig, axes = plt.subplots(nrows=8, ncols=4,figsize=(8,20))\n",
        "  fig.subplots_adjust(hspace=0.5)\n",
        "\n",
        "  if aligned_to == 'begin':\n",
        "    labels = ('Peri-trial interval [-500 ms,-400 ms]','Trial beginning [0 ms,100 ms]')\n",
        "    suptitle_text = f'Mean phase over a window of {window_size} ms per trial \\n at a peri-trial instant (-{peri_interval_size} ms) and at trial beginning'\n",
        "  elif aligned_to == 'end':\n",
        "    labels = (f'Mid-trial interval [EOT - {peri_interval_size} ms, EOT - {peri_interval_size+window_size} ms]',f'Trial end [EOT - {window_size} ms, EOT]')\n",
        "    suptitle_text = f'Mean phase over a window of {window_size} ms per trial \\n at a mid-trial instant ({peri_interval_size} ms from trial end) and at trial end'\n",
        "\n",
        "  fig.suptitle(suptitle_text)\n",
        "\n",
        "  channel_counter = 0\n",
        "\n",
        "  num_bins = 18\n",
        "  bins = np.linspace(0,2*np.pi,num_bins+1)\n",
        "  width = 2*np.pi/num_bins\n",
        "\n",
        "  for ax in axes.flatten():\n",
        "    pre_dist,trial_dist = channel_phasedist_results[f'ch{channel_counter}']\n",
        "\n",
        "    channel_region = channel_region_pairs[f'ch{channel_counter}']\n",
        "\n",
        "    if kuiper(pre_dist,trial_dist)[0] <= 0.05:\n",
        "      colors = ['red','blue']\n",
        "    else:\n",
        "      colors = ['#b5b5b5','#525252']\n",
        "\n",
        "    series1_counts,_ = np.histogram(pre_dist,bins)\n",
        "    series2_counts,_ = np.histogram(trial_dist,bins)\n",
        "\n",
        "    #only label the first two plots with significant statistics because otherwise we would have repeated labelling\n",
        "\n",
        "    ax = plt.subplot(8, 4, channel_counter+1, projection='polar')\n",
        "\n",
        "    if channel_counter == 0:\n",
        "      #ax = plt.subplot(8, 4, channel_counter+1, projection='polar')\n",
        "      label1 = ax.plot([], [], color='red',alpha=0.5,label=labels[0])\n",
        "      label2 = ax.plot([], [], color='blue',alpha=0.5,label=labels[1])\n",
        "      label3 = ax.plot([], [], color='#b5b5b5',alpha=0.5,label=labels[0]+'(Non-significant)')\n",
        "      label4 = ax.plot([], [], color='#525252',alpha=0.5,label=labels[0]+'(Non-significant)')\n",
        "    else:\n",
        "      labels = (None,None)\n",
        "    series1_bars = ax.bar(bins[:num_bins], series1_counts, width=width, bottom=0.0,color=colors[0],alpha=0.5)\n",
        "    series2_bars = ax.bar(bins[:num_bins], series2_counts, width=width, bottom=0.0,color=colors[1],alpha=0.5)\n",
        "\n",
        "    plt.title(f'Channel: {channel_counter} \\n Region: {channel_region}')\n",
        "    plt.yticks([])\n",
        "\n",
        "    channel_counter+=1\n",
        "\n",
        "  #fetch the labels for each axis in axes\n",
        "  lines_labels = [ax.get_legend_handles_labels() for ax in fig.axes]\n",
        "  lines, labels = [sum(lol, []) for lol in zip(*lines_labels)]\n",
        "  fig.legend(lines, labels,bbox_to_anchor=(0.75,1.035))\n",
        "\n",
        "  fig.tight_layout()\n",
        "\n",
        "  if save_fig:\n",
        "    plt.savefig(f'./results/{file_name}.png',format='png',bbox_inches='tight')"
      ],
      "metadata": {
        "id": "ZA9j0XmBZELl"
      },
      "execution_count": null,
      "outputs": []
    },
    {
      "cell_type": "code",
      "source": [
        "######## SHAZAM\n",
        "\n",
        "data_path = '/content/drive/MyDrive/backup-mac/ufabc/entire-backup/lfp/all_channels/'\n",
        "os.chdir(data_path)\n",
        "\n",
        "#load auxiliary session data (trial segmenting times for all animals)\n",
        "session_data = pd.read_csv('./data/session_data-spikes.csv').copy()\n",
        "\n",
        "from_the_beginning = True\n",
        "\n",
        "for rat in range(3,7):\n",
        "  for day in range(1,3):\n",
        "    if from_the_beginning:\n",
        "      label = f'rat{rat}_day{day}_mean-phase-comparison_begin-aligned'\n",
        "    else:\n",
        "      label = f'rat{rat}_day{day}_mean-phase-comparison_end-aligned'\n",
        "\n",
        "    print(f'beginning session: {label}')\n",
        "\n",
        "    #go to the LFP folder corresponding to the current session\n",
        "    os.chdir(f'./data/separated_channels/rat{rat}_day{day}_LFP_all')\n",
        "\n",
        "    import json\n",
        "    with open(\"./channel_region\", \"r\") as fp:\n",
        "      channel_region_pairs = json.load(fp) #load the JSON with channel-region pairings\n",
        "\n",
        "    #Estimate phase distributions for both a 100 ms window at both a peri-trial instant and at trial beginning over all channels\n",
        "\n",
        "    #This is the dictionary we will save the results\n",
        "    channel_phasedist_results = {}\n",
        "\n",
        "    # Use only one channel per animal (the one with best signal-to-noise ratio)\n",
        "    for channel in list(ideal_channels[f'Rat{rat}']):\n",
        "      peri_phases_dist,target_phases_dist = channel_phase_reset(rat,day,channel,from_the_beginning=from_the_beginning)\n",
        "      channel_phasedist_results.update({f'{channel}':[peri_phases_dist,target_phases_dist]})\n",
        "      del peri_phases_dist,target_phases_dist\n",
        "\n",
        "      print(f'finished channel {channel}')\n",
        "    #save the dict corresponding to this session\n",
        "\n",
        "    with open(f\"./results/{label}_results\", \"w\") as regions_file:\n",
        "      #we cannot save np.arrays to JSON files, so we must convert both pre- and target-phases-dist to lists before saving\n",
        "      salvable_results = {item[0]:[item[1][0].tolist(),item[1][1].tolist()] for item in channel_phasedist_results.items()}\n",
        "      json.dump(obj=salvable_results,fp=regions_file)\n",
        "\n",
        "    #plot_phase_reset_histogram(channel_phasedist_results,peri_interval_size=0.5,window_size=0.1,aligned_to='begin',save_fig=True,file_name=label+'_fig')\n",
        "\n",
        "    os.chdir('../../..')"
      ],
      "metadata": {
        "id": "DO9aUofnR1N8"
      },
      "execution_count": null,
      "outputs": []
    },
    {
      "cell_type": "markdown",
      "source": [
        "# mass univariate testing"
      ],
      "metadata": {
        "id": "WbWRLU8r5ksx"
      }
    },
    {
      "cell_type": "code",
      "source": [
        "'''\n",
        "PASSOS PRA AMANHÃ:\n",
        "1. identificar clusters a partir dessa t_scores_matrix (FEITO)\n",
        "2. descobrir se consigo pegar quais pontos de uma matriz pertencem a cada cluster (ideal)  (FEITO)\n",
        "3. somar os valores dentro de cada cluster pra obter um _valor de massa do cluster_ (FEITO)\n",
        "4. descobrir se consigo atribuir o _valor de massa_ a todos seus valores num cluster rotulado (FEITO)\n",
        "4. implementar as permutações (DONE)\n",
        "5. pegar o valor máximo entre as somas de todos clusters rotulados em uma comparação de comodulogramas (DONE)\n",
        "6. fazer 123091283 permutações (ver se eu não consigo fazer o número máximo? acho que consigo sim!) e salvar o valor mais alto de cada uma numa lista (distribuição de t-scores extremos) (DONE)\n",
        "7. p-value de cada cluster = ranking do valor de massa dele (percentil ocupado?) na distribuição de t-scores extremos (DONE)\n",
        "8. todos elementos do cluster são tingidos com o mesmo p-value; demais pontos no gráfico têm p-value = 1 (DONE)\n",
        "'''"
      ],
      "metadata": {
        "colab": {
          "base_uri": "https://localhost:8080/",
          "height": 105
        },
        "id": "znfAAUlllEEv",
        "outputId": "922a2067-7de8-4328-a196-b3686ecca717"
      },
      "execution_count": 6,
      "outputs": [
        {
          "output_type": "execute_result",
          "data": {
            "text/plain": [
              "'\\nPASSOS PRA AMANHÃ:\\n1. identificar clusters a partir dessa t_scores_matrix (FEITO)\\n2. descobrir se consigo pegar quais pontos de uma matriz pertencem a cada cluster (ideal)  (FEITO)\\n3. somar os valores dentro de cada cluster pra obter um _valor de massa do cluster_ (FEITO)\\n4. descobrir se consigo atribuir o _valor de massa_ a todos seus valores num cluster rotulado (FEITO)\\n4. implementar as permutações (DONE)\\n5. pegar o valor máximo entre as somas de todos clusters rotulados em uma comparação de comodulogramas (DONE)\\n6. fazer 123091283 permutações (ver se eu não consigo fazer o número máximo? acho que consigo sim!) e salvar o valor mais alto de cada uma numa lista (distribuição de t-scores extremos) (DONE)\\n7. p-value de cada cluster = ranking do valor de massa dele (percentil ocupado?) na distribuição de t-scores extremos (DONE)\\n8. todos elementos do cluster são tingidos com o mesmo p-value; demais pontos no gráfico têm p-value = 1 (DONE)\\n'"
            ],
            "application/vnd.google.colaboratory.intrinsic+json": {
              "type": "string"
            }
          },
          "metadata": {},
          "execution_count": 6
        }
      ]
    },
    {
      "cell_type": "code",
      "source": [
        "#example comodulograms: early and late in session for a given rat\n",
        "os.chdir('/content/drive/MyDrive/backup-mac/ufabc/entire-backup/lfp/all_channels/data/separated_channels/rat6_day2_LFP_all/results/individual_trial_comodulograms')\n",
        "\n",
        "with open('comodulograms_dict.pkl', 'rb') as f:\n",
        "    example_dict = pickle.load(f)"
      ],
      "metadata": {
        "id": "r1azyGbR5nuP"
      },
      "execution_count": 7,
      "outputs": []
    },
    {
      "cell_type": "code",
      "source": [
        "'''this piece of code is absolutely atrocious but as Boltzmann once put it \"Eleganz sei die Sache der Schuster und Schneider\"; eventually i'll make it better'''\n",
        "\n",
        "def build_early_late_matrices(rats_list,early_late_permutation_statements=(False,False,False,False)):\n",
        "  assert len(rats_list) == len(early_late_permutation_statements)\n",
        "\n",
        "  #select from each rat's dictionary (early == True/late==False) according to the flipping rule (if True, then late-stage comodulogram will be stored in the early matrix and vice-versa for the early-stage)\n",
        "  early = np.dstack([rats[i][key] for i,key in enumerate(early_late_permutation_statements)])\n",
        "  late = np.dstack([rats[i][not key] for i,key in enumerate(early_late_permutation_statements)])\n",
        "\n",
        "  stacked_matrix = np.stack([early,late])\n",
        "  return stacked_matrix\n",
        "\n",
        "rat1 = {True:example_dict['trial_3'], False:example_dict['trial_693']}\n",
        "rat2 = {True:example_dict['trial_9'], False:example_dict['trial_688']}\n",
        "rat3 = {True:example_dict['trial_10'], False:example_dict['trial_696']}\n",
        "rat4 = {True:example_dict['trial_12'], False:example_dict['trial_694']}\n",
        "\n",
        "rats = [rat1,rat2,rat3,rat4]\n",
        "\n",
        "import itertools\n",
        "possible_permutations = list(itertools.product([True, False], repeat=len(rats)))"
      ],
      "metadata": {
        "id": "xUAct9zSMPSO"
      },
      "execution_count": 9,
      "outputs": []
    },
    {
      "cell_type": "code",
      "source": [
        "observed_early_late = build_early_late_matrices(rats)"
      ],
      "metadata": {
        "id": "76s3nd8CMajU"
      },
      "execution_count": 10,
      "outputs": []
    },
    {
      "cell_type": "code",
      "source": [
        "np.shape(observed_early_late)"
      ],
      "metadata": {
        "colab": {
          "base_uri": "https://localhost:8080/"
        },
        "id": "RZ5TMbBMOo6a",
        "outputId": "010a7ea5-9726-4e3b-fb9f-7f72babc34eb"
      },
      "execution_count": 11,
      "outputs": [
        {
          "output_type": "execute_result",
          "data": {
            "text/plain": [
              "(2, 90, 77, 4)"
            ]
          },
          "metadata": {},
          "execution_count": 11
        }
      ]
    },
    {
      "cell_type": "code",
      "source": [
        "# matrix of t-scores for each point in the comodulogram across conditions (early/late); every point in the comodulogram (i.e. a freq. pair) has 4 exemplars (1 from each rat) per condition\n",
        "t_scores_matrix = np.zeros(shape = (np.shape(example_dict['dep_freqs'])[0] - 1,np.shape(example_dict['ind_freqs'])[0]))\n",
        "sns.heatmap(t_scores_matrix)"
      ],
      "metadata": {
        "colab": {
          "base_uri": "https://localhost:8080/",
          "height": 457
        },
        "id": "PebJ0xHaMzIP",
        "outputId": "af38aa5e-6e33-41ae-bb61-dcbf36a5138d"
      },
      "execution_count": 12,
      "outputs": [
        {
          "output_type": "execute_result",
          "data": {
            "text/plain": [
              "<Axes: >"
            ]
          },
          "metadata": {},
          "execution_count": 12
        },
        {
          "output_type": "display_data",
          "data": {
            "text/plain": [
              "<Figure size 640x480 with 2 Axes>"
            ],
            "image/png": "[encoded data removed]"
          },
          "metadata": {}
        }
      ]
    },
    {
      "cell_type": "code",
      "source": [
        "def t_scores_from_conditions_matrix(early_late_matrix):\n",
        "  conditions,dep_freqs,ind_freqs,animals = np.shape(early_late_matrix)\n",
        "\n",
        "  t_matrix = np.zeros(shape = [dep_freqs,ind_freqs])\n",
        "\n",
        "  #for each point in the comodulogram surface compare data from condition 1 (early) to condition 2 (late)\n",
        "  for i in range(dep_freqs):\n",
        "    for j in range(ind_freqs):\n",
        "      t_score = scipy.stats.ttest_rel(early_late_matrix[0,i,j,:],early_late_matrix[1,i,j,:])\n",
        "      if np.isnan(t_score[0]):\n",
        "        continue\n",
        "      else:\n",
        "        if t_score[1] <= 0.05: #if the t-test for that frequency pair has an uncorrected p-score less than or equal to 0.05\n",
        "          t_matrix[i,j] = t_score[0] #then we'll store its value\n",
        "\n",
        "  return t_matrix"
      ],
      "metadata": {
        "id": "yFMitBEiOVfS"
      },
      "execution_count": 13,
      "outputs": []
    },
    {
      "cell_type": "code",
      "source": [
        "t_scores_matrix = t_scores_from_conditions_matrix(observed_early_late)\n",
        "sns.heatmap(t_scores_matrix)"
      ],
      "metadata": {
        "colab": {
          "base_uri": "https://localhost:8080/",
          "height": 457
        },
        "id": "xBwQNYyWQGOG",
        "outputId": "7d131be3-3c00-4a40-9e35-3f69eeb82639"
      },
      "execution_count": 14,
      "outputs": [
        {
          "output_type": "execute_result",
          "data": {
            "text/plain": [
              "<Axes: >"
            ]
          },
          "metadata": {},
          "execution_count": 14
        },
        {
          "output_type": "display_data",
          "data": {
            "text/plain": [
              "<Figure size 640x480 with 2 Axes>"
            ],
            "image/png": "[encoded data removed]"
          },
          "metadata": {}
        }
      ]
    },
    {
      "cell_type": "code",
      "source": [
        "def binarize_t_scores_matrix(tscores_matrix):\n",
        "  # initialize all values to 1; if the absolute value of an element is close to zero (remember the t-scores matrix was initialized with np.zeros()) then assign 0 to it\n",
        "  binarized_matrix = np.ones_like(tscores_matrix)\n",
        "  for (coords,value) in np.ndenumerate(tscores_matrix):\n",
        "    if np.isclose(abs(value),0):\n",
        "      binarized_matrix[coords] = 0\n",
        "  return binarized_matrix"
      ],
      "metadata": {
        "id": "-wpVfYjINIK1"
      },
      "execution_count": 16,
      "outputs": []
    },
    {
      "cell_type": "code",
      "source": [
        "testando_binary = binarize_t_scores_matrix(t_scores_matrix)\n",
        "sns.heatmap(testando_binary)"
      ],
      "metadata": {
        "colab": {
          "base_uri": "https://localhost:8080/",
          "height": 457
        },
        "id": "U9KknsF4NNd9",
        "outputId": "db620587-6ca9-4f15-a0f9-8b980464ac8d"
      },
      "execution_count": 17,
      "outputs": [
        {
          "output_type": "execute_result",
          "data": {
            "text/plain": [
              "<Axes: >"
            ]
          },
          "metadata": {},
          "execution_count": 17
        },
        {
          "output_type": "display_data",
          "data": {
            "text/plain": [
              "<Figure size 640x480 with 2 Axes>"
            ],
            "image/png": "[encoded data removed]"
          },
          "metadata": {}
        }
      ]
    },
    {
      "cell_type": "code",
      "source": [
        "def clusters_coordinates(binarized_matrix):\n",
        "  #identify clusters in a binarized matrix and return a dictionary containing the following key-value pairs:\n",
        "   #{cluster:[coordinates of all its constituent elements in the matrix]}\n",
        "\n",
        "  from skimage import measure\n",
        "\n",
        "  # identify clusters\n",
        "  labeled_clusters = measure.label(binarized_matrix)\n",
        "  # estimate cluster properties\n",
        "  cluster_properties = measure.regionprops(labeled_clusters)\n",
        "\n",
        "  # out of these properties, build a dictionary featuring the coordinates of points in each cluster, hashed by an integer id\n",
        "  cluster_coordinates_dict = {cluster_id:cluster.coords for cluster_id,cluster in enumerate(cluster_properties)}\n",
        "\n",
        "  return cluster_coordinates_dict"
      ],
      "metadata": {
        "id": "_uGKPF0iNWFv"
      },
      "execution_count": 18,
      "outputs": []
    },
    {
      "cell_type": "code",
      "source": [
        "clusters_test = clusters_coordinates(testando_binary)"
      ],
      "metadata": {
        "id": "s-6dFMOaNZko"
      },
      "execution_count": 19,
      "outputs": []
    },
    {
      "cell_type": "code",
      "source": [
        "def mass_value_in_cluster(tscores_matrix,cluster_coordinates):\n",
        "  # sum the t-scores from all points within a cluster\n",
        "  mass_value = 0\n",
        "\n",
        "  for (i,j) in cluster_coordinates:\n",
        "    mass_value += tscores_matrix[i,j] # sum the t-value in each point in the cluster\n",
        "  return mass_value\n",
        "\n",
        "# uncomment for a demonstration\n",
        "mass_value_in_cluster(t_scores_matrix,clusters_test[25])"
      ],
      "metadata": {
        "colab": {
          "base_uri": "https://localhost:8080/"
        },
        "id": "V7bLYgUhNdK6",
        "outputId": "951a6fc7-49c6-40b8-a8e4-e17adf34a235"
      },
      "execution_count": 20,
      "outputs": [
        {
          "output_type": "execute_result",
          "data": {
            "text/plain": [
              "25.920665998154142"
            ]
          },
          "metadata": {},
          "execution_count": 20
        }
      ]
    },
    {
      "cell_type": "code",
      "source": [
        "def set_cluster_points_to_value(tscores_matrix,cluster_coordinates,value):\n",
        "  altered_matrix = tscores_matrix.copy()\n",
        "  # set all points in a cluster to the same value (e.g. the mass value in the cluster, the corrected p-value, etc.)\n",
        "  for (i,j) in cluster_coordinates:\n",
        "    altered_matrix[i,j] = value\n",
        "\n",
        "  return altered_matrix"
      ],
      "metadata": {
        "id": "pzmODHraNkBU"
      },
      "execution_count": 21,
      "outputs": []
    },
    {
      "cell_type": "code",
      "source": [
        "def cluster_tscore_distribution(tscores_matrix):\n",
        "  # distribution of mass values over identified clusters in the binarized (pointwise compared) t-scores matrix\n",
        "  return [mass_value_in_cluster(tscores_matrix,coords) for coords in clusters_coordinates(binarize_t_scores_matrix(tscores_matrix)).values()]"
      ],
      "metadata": {
        "id": "kx9k-bU3Npni"
      },
      "execution_count": 22,
      "outputs": []
    },
    {
      "cell_type": "code",
      "source": [
        "permutated_extrema_distribution = []\n",
        "\n",
        "for realized_permutation in possible_permutations:\n",
        "  # build a possible permutation from the observed comodulograms early/late in session (see build_early_late_matrices() above)\n",
        "  permutated_matrix = build_early_late_matrices(rats_list = rats,early_late_permutation_statements = realized_permutation)\n",
        "\n",
        "  # pointwise t-score this permutated matrix\n",
        "  permutated_t_scores = t_scores_from_conditions_matrix(permutated_matrix)\n",
        "\n",
        "  #find the distribution of mass over clusters in this pointwise t-scored matrix\n",
        "  current_permutation_extreme_cluster_mass = max(cluster_tscore_distribution(permutated_t_scores))\n",
        "\n",
        "  #save it\n",
        "  permutated_extrema_distribution.append(current_permutation_extreme_cluster_mass)\n",
        "\n",
        "permutated_extrema_distribution"
      ],
      "metadata": {
        "colab": {
          "base_uri": "https://localhost:8080/"
        },
        "id": "iJDm8sG6SRRp",
        "outputId": "4e5ee636-306a-45d8-f8d7-3d11506b33cb"
      },
      "execution_count": 23,
      "outputs": [
        {
          "output_type": "execute_result",
          "data": {
            "text/plain": [
              "[486.1127921486575,\n",
              " 255.33681489672276,\n",
              " 260.12760071753274,\n",
              " 38.534439472325644,\n",
              " 97.01603849602067,\n",
              " 67.77433559735286,\n",
              " 144.40586144237946,\n",
              " 120.50766694944767,\n",
              " 531.5374265567876,\n",
              " 63.08766788805185,\n",
              " 130.1933674235367,\n",
              " 279.96516814820495,\n",
              " 83.45618243191318,\n",
              " 203.28758399319324,\n",
              " 159.86019610955515,\n",
              " 95.3966803899711]"
            ]
          },
          "metadata": {},
          "execution_count": 23
        }
      ]
    },
    {
      "cell_type": "code",
      "source": [
        "# initialize a matrix with the same dimensions as the comodulograms but filled with ones; corrected p-values for identified clusters will substitute ones in each cluster's coordinates\n",
        "corrected_tscores_matrix = np.ones_like(t_scores_matrix)\n",
        "\n",
        "for cluster_id,coordinates in clusters_test.items():\n",
        "  cluster_mass = abs(mass_value_in_cluster(t_scores_matrix,coordinates))\n",
        "  #print(cluster_mass)\n",
        "  '''\n",
        "  A cluster's p-value is the proportion of permutations whose maximum t-score is larger than the t-scored observed in this cluster (from the original data)\n",
        "  See: doi:10.1016/j.jneumeth.2007.03.024 (section 2.3, step 5)\n",
        "  '''\n",
        "  cluster_p_value = len(np.argwhere(permutated_extrema_distribution > cluster_mass))/len(permutated_extrema_distribution)\n",
        "  print(cluster_p_value)\n",
        "  corrected_tscores_matrix = set_cluster_points_to_value(corrected_tscores_matrix,coordinates,cluster_p_value) # set all points in this cluster to its corrected p-value"
      ],
      "metadata": {
        "colab": {
          "base_uri": "https://localhost:8080/"
        },
        "id": "buqeWye8c7pd",
        "outputId": "278c2e49-1aed-421b-9d13-5eac4e904485"
      },
      "execution_count": 24,
      "outputs": [
        {
          "output_type": "stream",
          "name": "stdout",
          "text": [
            "1.0\n",
            "1.0\n",
            "1.0\n",
            "0.375\n",
            "0.8125\n",
            "1.0\n",
            "0.9375\n",
            "1.0\n",
            "1.0\n",
            "1.0\n",
            "0.9375\n",
            "1.0\n",
            "0.6875\n",
            "0.875\n",
            "1.0\n",
            "1.0\n",
            "1.0\n",
            "1.0\n",
            "1.0\n",
            "0.0625\n",
            "0.625\n",
            "1.0\n",
            "1.0\n",
            "0.875\n",
            "0.875\n",
            "1.0\n",
            "1.0\n"
          ]
        }
      ]
    },
    {
      "cell_type": "code",
      "source": [
        "sns.heatmap(corrected_tscores_matrix)"
      ],
      "metadata": {
        "colab": {
          "base_uri": "https://localhost:8080/",
          "height": 457
        },
        "id": "OF3vO7ktgbbE",
        "outputId": "39d54651-5080-44f5-b16a-9dbe48725103"
      },
      "execution_count": 26,
      "outputs": [
        {
          "output_type": "execute_result",
          "data": {
            "text/plain": [
              "<Axes: >"
            ]
          },
          "metadata": {},
          "execution_count": 26
        },
        {
          "output_type": "display_data",
          "data": {
            "text/plain": [
              "<Figure size 640x480 with 2 Axes>"
            ],
            "image/png": "[encoded data removed]"
          },
          "metadata": {}
        }
      ]
    },
    {
      "cell_type": "code",
      "source": [
        "'''\n",
        "PASSOS PRA AMANHÃ:\n",
        "1. identificar clusters a partir dessa t_scores_matrix (FEITO)\n",
        "2. descobrir se consigo pegar quais pontos de uma matriz pertencem a cada cluster (ideal)  (FEITO)\n",
        "3. somar os valores dentro de cada cluster pra obter um _valor de massa do cluster_ (FEITO)\n",
        "4. descobrir se consigo atribuir o _valor de massa_ a todos seus valores num cluster rotulado (FEITO)\n",
        "4. implementar as permutações (DONE)\n",
        "5. pegar o valor máximo entre as somas de todos clusters rotulados em uma comparação de comodulogramas\n",
        "6. fazer 123091283 permutações (ver se eu não consigo fazer o número máximo? acho que consigo sim!) e salvar o valor mais alto de cada uma numa lista (distribuição de t-scores extremos)\n",
        "7. p-value de cada cluster = ranking do valor de massa dele (percentil ocupado?) na distribuição de t-scores extremos\n",
        "8. todos elementos do cluster são tingidos com o mesmo p-value; demais pontos no gráfico têm p-value = 1\n",
        "'''"
      ],
      "metadata": {
        "id": "Wu5lr5elN3BA"
      },
      "execution_count": null,
      "outputs": []
    }
  ],
  "metadata": {
    "colab": {
      "provenance": [],
      "authorship_tag": "ABX9TyNRmMkzHGqdHtxpmrf0aiTj",
      "include_colab_link": true
    },
    "kernelspec": {
      "display_name": "Python 3",
      "name": "python3"
    },
    "language_info": {
      "name": "python"
    }
  },
  "nbformat": 4,
  "nbformat_minor": 0
}