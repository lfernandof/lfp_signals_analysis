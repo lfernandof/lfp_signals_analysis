{
  "nbformat": 4,
  "nbformat_minor": 0,
  "metadata": {
    "colab": {
      "provenance": [],
      "authorship_tag": "ABX9TyM8ZmZAMaMYMZjoJI9dVvHq",
      "include_colab_link": true
    },
    "kernelspec": {
      "name": "python3",
      "display_name": "Python 3"
    },
    "language_info": {
      "name": "python"
    }
  },
  "cells": [
    {
      "cell_type": "markdown",
      "metadata": {
        "id": "view-in-github",
        "colab_type": "text"
      },
      "source": [
        "<a href=\"https://colab.research.google.com/github/lfernandof/lfp_signals_analysis/blob/main/state-scored-spikes.ipynb\" target=\"_parent\"><img src=\"https://colab.research.google.com/assets/colab-badge.svg\" alt=\"Open In Colab\"/></a>"
      ]
    },
    {
      "cell_type": "code",
      "execution_count": 120,
      "metadata": {
        "colab": {
          "base_uri": "https://localhost:8080/"
        },
        "id": "c-9-2pSCKicN",
        "outputId": "c4e4a074-1f00-449a-f6b9-41123460702e"
      },
      "outputs": [
        {
          "output_type": "stream",
          "name": "stdout",
          "text": [
            "Drive already mounted at /content/drive; to attempt to forcibly remount, call drive.mount(\"/content/drive\", force_remount=True).\n"
          ]
        }
      ],
      "source": [
        "import pandas as pd\n",
        "import numpy as np\n",
        "import matplotlib.pyplot as plt\n",
        "import scipy.io as sio\n",
        "import os\n",
        "import json\n",
        "import scipy\n",
        "\n",
        "from google.colab import drive\n",
        "drive.mount('/content/drive')"
      ]
    },
    {
      "cell_type": "code",
      "source": [
        "def scored_state_probing(rat_id,day_id,session_data,state_type='NREMstate'):\n",
        "  '''\n",
        "  Find all intervals of a given type in a session and construct DataFrames with all events (spikes) comprising each period, alongside other relevant columns.\n",
        "\n",
        "  Parameters\n",
        "  ----------\n",
        "  rat_id: int\n",
        "          The chosen animal\n",
        "  day_id: int\n",
        "          The day in which the session happened\n",
        "  state_type: string [default: \"NREMstate\"]\n",
        "          The type of period which to probe. Options are: \"NREMstate\", \"WAKEstate\", \"REMstate\" and \"events_pathologicalstate\"\n",
        "\n",
        "  Returns\n",
        "  ----------\n",
        "  session_staging_df: pandas DataFrame\n",
        "          a pandas DataFrame with the following columns:\n",
        "            - timestamp [float]: instant at which a given spike happened (in s)\n",
        "            - region [string]: either 'PFC' or 'STR'\n",
        "            - day [int]: either '1' or '2'\n",
        "            - group [int]: only '2' for now, for we only have pre-trial spiking data from animals in group 2\n",
        "            - rat [int]: each animal's ID\n",
        "            - stage_type [string]: either {'WAKE','nREM','REM' or 'pathological'}\n",
        "            - period_id [int]: period index for a given stage (e.g.: {stage_type = 'NREM',period_id = 0} is the first NREM period for that neuron in that session)\n",
        "            - duration [float]: the length of a given period in s (e.g. {stage_type = 'NREM',period_id = 0, duration = 15} indicates that the first NREM period for that neuron in that session lasts 15 s)\n",
        "\n",
        "  '''\n",
        "  print(f'Beginning the stage segmentation of {state_type.removesuffix(\"state\")} states from session:\\n(Rat: {rat_id}, day: {day_id})')\n",
        "\n",
        "  #Query for the desired session and find the first and last timestamp, corresponding to the beginning and end of the training protocol during this session\n",
        "  training_begin = session_data.query(f'rat == {rat_id} and day == {day_id}').timestamp.min()\n",
        "  training_end = session_data.query(f'rat == {rat_id} and day == {day_id}').timestamp.max()\n",
        "\n",
        "  #Load the timestamps for each event (e.g. sleep, pathological states) as a list\n",
        "\n",
        "  #We set up these conditionals just for rat 4, whose folders are differently named from the pattern\n",
        "  if rat_id == 4 and day_id == 1:\n",
        "    day_tag = '2017-05-06_09-58-35'\n",
        "  elif rat_id == 4 and day_id == 2:\n",
        "    day_tag = '2017-05-07_13-57-27'\n",
        "  else:\n",
        "    day_tag = f'Day{day_id}'\n",
        "\n",
        "  state_scores_path = f'/content/drive/MyDrive/MSc/Rat{rat_id}/{day_tag}'\n",
        "\n",
        "  #Load the state scoring timestamps proper\n",
        "  data_states = sio.loadmat(state_scores_path+f'/{day_tag}.SleepState.states.mat')\n",
        "\n",
        "  #Not all sessions have pathological states\n",
        "  if state_type == 'events_pathologicalstate':\n",
        "    try:\n",
        "      event_timestamps = data_states['SleepState']['ints'][0][0][state_type][0][0]\n",
        "    except:\n",
        "      raise('There are no pathological (microseizure) states in this session.')\n",
        "  #But all others are guaranteed\n",
        "  else:\n",
        "    event_timestamps = data_states['SleepState']['ints'][0][0][state_type][0][0]\n",
        "\n",
        "  # Load the spike corresponding to this session\n",
        "  data_path = f'drive/MyDrive/MSc/Rat{rat_id}/{day_tag}/'\n",
        "  spikefile_tag = 'openephys'\n",
        "  #exceptions to overwrite names because these folders/files are wrongly named and I do not have permission to change it\n",
        "  if rat_id == 4 and day_id == 1:\n",
        "    spikefile_tag = '2017-05-06_09-58-35'\n",
        "  spikes_test = sio.loadmat(data_path+spikefile_tag+'.spikes.cellinfo.mat')\n",
        "\n",
        "  #UID (unit id)\n",
        "  uid = np.squeeze(spikes_test['spikes'][0][0]['UID'])\n",
        "\n",
        "  #times (spike times)\n",
        "  times = np.squeeze(spikes_test['spikes'][0][0]['times'])\n",
        "\n",
        "  #the region each unit belongs to\n",
        "  region = np.squeeze(spikes_test['spikes'][0][0]['region'])\n",
        "\n",
        "  #shankID, cluID, rawWaveform, maxWaveformCh are also in this .mat file, but I will not be using any of these\n",
        "\n",
        "\n",
        "  def create_or_append(dataframe,current_data):\n",
        "    if dataframe is not None:\n",
        "        return pd.concat([dataframe,pd.DataFrame(current_data)])\n",
        "    else:\n",
        "        return pd.DataFrame(current_data)\n",
        "\n",
        "  session_df = None #empty variable; upon first being called a df it will be rewritten by a df; upon next calls in the loop it will be concatenated with newer inputs\n",
        "\n",
        "  #iterate over neurons\n",
        "  for unit_id in np.squeeze(uid)-1: #uid is 1-indexed as per matlab, whereas python used 0-indexing\n",
        "    current_spike_train = np.squeeze(times[unit_id])\n",
        "    current_unit_region = np.squeeze(region)[unit_id][0]\n",
        "\n",
        "    #for each neuron find which of its spikes fall within each period (stage) of a given type (e.g. sleep) and add each spike as a row in a pandas DataFrame\n",
        "    for period_id,period_limits in enumerate(event_timestamps):\n",
        "      period_timestamps = current_spike_train[np.where((current_spike_train > period_limits[0]) * (current_spike_train < period_limits[1]))]\n",
        "      period_df = pd.DataFrame.from_dict({'timestamp':period_timestamps,'region':current_unit_region,'day':day_id,'group':group_id,\n",
        "                                          'neuron':unit_id,'stage':state_type,'stage_id':period_id,'stage_durtion':np.diff(period_limits)[0]})\n",
        "      session_df = create_or_append(session_df,period_df)\n",
        "\n",
        "  print('Done')\n",
        "  return session_df"
      ],
      "metadata": {
        "id": "IR4ACLrJFPul"
      },
      "execution_count": 118,
      "outputs": []
    },
    {
      "cell_type": "code",
      "source": [
        "session_data = pd.read_csv('/content/drive/MyDrive/backup-mac/ufabc/entire-backup/lfp/all_channels//data/session_data-spikes.csv').copy()\n",
        "\n",
        "rat_id = 6\n",
        "day_id = 1\n",
        "test_df = scored_state_probing(rat_id,day_id,session_data,state_type='NREMstate')"
      ],
      "metadata": {
        "colab": {
          "base_uri": "https://localhost:8080/"
        },
        "id": "AR89L7jPxE0p",
        "outputId": "8cc424a4-d39f-44bf-b6ef-b30e56ec4e3c"
      },
      "execution_count": 119,
      "outputs": [
        {
          "output_type": "stream",
          "name": "stdout",
          "text": [
            "Beginning the stage segmentation of NREM states from session:\n",
            "(Rat: 6, day: 1)\n",
            "Done\n"
          ]
        }
      ]
    },
    {
      "cell_type": "markdown",
      "source": [
        "There is one problem left to solve: session _rat 4, day1_ does not have a 'region' identifier in the _.mat_ file. I will have to infer each region from _shankID_, cross-referencing other sessions' files. I will do that tomorrow."
      ],
      "metadata": {
        "id": "jM0CLKwl0jAO"
      }
    }
  ]
}