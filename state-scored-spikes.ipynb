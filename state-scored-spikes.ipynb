{
  "nbformat": 4,
  "nbformat_minor": 0,
  "metadata": {
    "colab": {
      "provenance": [],
      "collapsed_sections": [
        "YKcCvNk9mZx7"
      ],
      "authorship_tag": "ABX9TyPpzvwTFcyWDT/lAZN/aaqF",
      "include_colab_link": true
    },
    "kernelspec": {
      "name": "python3",
      "display_name": "Python 3"
    },
    "language_info": {
      "name": "python"
    }
  },
  "cells": [
    {
      "cell_type": "markdown",
      "metadata": {
        "id": "view-in-github",
        "colab_type": "text"
      },
      "source": [
        "<a href=\"https://colab.research.google.com/github/lfernandof/lfp_signals_analysis/blob/main/state-scored-spikes.ipynb\" target=\"_parent\"><img src=\"https://colab.research.google.com/assets/colab-badge.svg\" alt=\"Open In Colab\"/></a>"
      ]
    },
    {
      "cell_type": "code",
      "execution_count": 1,
      "metadata": {
        "colab": {
          "base_uri": "https://localhost:8080/"
        },
        "id": "c-9-2pSCKicN",
        "outputId": "5be0adcf-3902-4688-f22f-34e1d7881117"
      },
      "outputs": [
        {
          "output_type": "stream",
          "name": "stdout",
          "text": [
            "Mounted at /content/drive\n"
          ]
        }
      ],
      "source": [
        "import pandas as pd\n",
        "import numpy as np\n",
        "import matplotlib.pyplot as plt\n",
        "import scipy.io as sio\n",
        "import os\n",
        "import json\n",
        "import scipy\n",
        "\n",
        "from google.colab import drive\n",
        "drive.mount('/content/drive')"
      ]
    },
    {
      "cell_type": "code",
      "source": [
        "os.listdir('drive/MyDrive/MSc/Rat4/2017-05-07_13-57-27')"
      ],
      "metadata": {
        "colab": {
          "base_uri": "https://localhost:8080/"
        },
        "id": "u_JU5Q08LJsH",
        "outputId": "5e925c1f-cdc1-45e1-e1e9-7009f9e7c618"
      },
      "execution_count": 2,
      "outputs": [
        {
          "output_type": "execute_result",
          "data": {
            "text/plain": [
              "['112_CH18.continuous',\n",
              " 'cluster_quality.tsv',\n",
              " 'openephys (1).CellClass.cellinfo.mat',\n",
              " 'openephys.CellClass.cellinfo.mat',\n",
              " 'openephys.sessionInfo.mat',\n",
              " 'openephys.spikes.cellinfo.mat',\n",
              " 'openephys.spkDRRD.mat',\n",
              " 'frames',\n",
              " 'openephys.xml',\n",
              " 'openephys.spikes.waveforms.mat',\n",
              " 'waveform_stability_v1.mat',\n",
              " 'stability_all_cells_whole_recording_R4_D2.pdf',\n",
              " 'openephys.lfp',\n",
              " '2017-05-07_13-57-27.SleepScoreLFP.LFP.mat',\n",
              " '2017-05-07_13-57-27.SleepState.states.mat',\n",
              " '2017-05-07_13-57-27.SleepStateEpisodes.states.mat',\n",
              " '2017-05-07_13-57-27.xml']"
            ]
          },
          "metadata": {},
          "execution_count": 2
        }
      ]
    },
    {
      "cell_type": "code",
      "source": [
        "data_path = 'drive/MyDrive/MSc/Rat4/2017-05-07_13-57-27'"
      ],
      "metadata": {
        "id": "wg6aAFxpSdA_"
      },
      "execution_count": 3,
      "outputs": []
    },
    {
      "cell_type": "code",
      "source": [
        "spikes_test = sio.loadmat(data_path+'/openephys.spikes.cellinfo.mat')"
      ],
      "metadata": {
        "id": "Sy7B8zA1ShIg"
      },
      "execution_count": 4,
      "outputs": []
    },
    {
      "cell_type": "code",
      "source": [
        "#UID (unit id)\n",
        "uid = spikes_test['spikes'][0][0]['UID']\n",
        "\n",
        "#times (spike times)\n",
        "times = spikes_test['spikes'][0][0]['times']\n",
        "\n",
        "#shankID, cluID, rawWaveform, maxWaveformCh follow, but I will not be using any of these\n",
        "\n",
        "#the region each unit belongs to\n",
        "region = spikes_test['spikes'][0][0]['region']"
      ],
      "metadata": {
        "id": "qji0x5cCSsLQ"
      },
      "execution_count": 42,
      "outputs": []
    },
    {
      "cell_type": "code",
      "source": [
        "#Load the state scoring timestamps proper\n",
        "data_states = sio.loadmat(data_path+'/2017-05-07_13-57-27.SleepState.states.mat')\n",
        "\n",
        "awake_timestamps = data_states['SleepState']['ints'][0][0]['WAKEstate'][0][0]\n",
        "nrem_timestamps = data_states['SleepState']['ints'][0][0]['NREMstate'][0][0]\n",
        "rem_timestamps = data_states['SleepState']['ints'][0][0]['REMstate'][0][0]\n",
        "\n",
        "#Not all sessions have pathological (seizure-like) intervals\n",
        "try:\n",
        "  pathological_timestamps = data_states['SleepState']['ints'][0][0]['events_pathologicalstate'][0][0]\n",
        "except:\n",
        "  pass"
      ],
      "metadata": {
        "id": "4KD1s-c8jMM7"
      },
      "execution_count": 6,
      "outputs": []
    },
    {
      "cell_type": "code",
      "source": [
        "nrem_timestamps[0]"
      ],
      "metadata": {
        "colab": {
          "base_uri": "https://localhost:8080/"
        },
        "id": "UMD70W1FmUm5",
        "outputId": "541bbce5-ee6f-4900-ed21-95edbe4b92bc"
      },
      "execution_count": 7,
      "outputs": [
        {
          "output_type": "execute_result",
          "data": {
            "text/plain": [
              "array([2632, 3010], dtype=uint16)"
            ]
          },
          "metadata": {},
          "execution_count": 7
        }
      ]
    },
    {
      "cell_type": "code",
      "source": [
        "neuron1 = np.squeeze(times[0][4])"
      ],
      "metadata": {
        "id": "nW7rDfmJoCEs"
      },
      "execution_count": 8,
      "outputs": []
    },
    {
      "cell_type": "code",
      "source": [
        "np.argwhere((neuron1 > 2632) * (neuron1 < 3010))"
      ],
      "metadata": {
        "colab": {
          "base_uri": "https://localhost:8080/"
        },
        "id": "qz1fumOyvCIK",
        "outputId": "59229eca-43a8-4bd6-d9f1-a082bf30f330"
      },
      "execution_count": 9,
      "outputs": [
        {
          "output_type": "execute_result",
          "data": {
            "text/plain": [
              "array([[11873],\n",
              "       [11874],\n",
              "       [11875],\n",
              "       ...,\n",
              "       [14449],\n",
              "       [14450],\n",
              "       [14451]])"
            ]
          },
          "metadata": {},
          "execution_count": 9
        }
      ]
    },
    {
      "cell_type": "code",
      "source": [
        "len(neuron1[np.where((neuron1 > nrem_timestamps[0][0]) * (neuron1 < nrem_timestamps[0][1]))])"
      ],
      "metadata": {
        "colab": {
          "base_uri": "https://localhost:8080/"
        },
        "id": "uLvu4_ruzahK",
        "outputId": "03806140-1890-443d-802f-79d79792e83e"
      },
      "execution_count": 11,
      "outputs": [
        {
          "output_type": "execute_result",
          "data": {
            "text/plain": [
              "2579"
            ]
          },
          "metadata": {},
          "execution_count": 11
        }
      ]
    },
    {
      "cell_type": "code",
      "source": [
        "#1. select a session (rat, day, group): DONE when loading the data and doing the state scoring timestamps\n",
        "data_path = 'drive/MyDrive/MSc/Rat4/2017-05-07_13-57-27'\n",
        "spikes_test = sio.loadmat(data_path+'/openephys.spikes.cellinfo.mat')\n",
        "\n",
        "#UID (unit id)\n",
        "uid = np.squeeze(spikes_test['spikes'][0][0]['UID'])\n",
        "\n",
        "#times (spike times)\n",
        "times = np.squeeze(spikes_test['spikes'][0][0]['times'])\n",
        "\n",
        "#shankID, cluID, rawWaveform, maxWaveformCh follow, but I will not be using any of these\n",
        "\n",
        "#the region each unit belongs to\n",
        "region = np.squeeze(spikes_test['spikes'][0][0]['region'])\n",
        "\n",
        "\n",
        "#Load the state scoring timestamps proper\n",
        "data_states = sio.loadmat(data_path+'/2017-05-07_13-57-27.SleepState.states.mat')\n",
        "\n",
        "awake_timestamps = data_states['SleepState']['ints'][0][0]['WAKEstate'][0][0]\n",
        "nrem_timestamps = data_states['SleepState']['ints'][0][0]['NREMstate'][0][0]\n",
        "rem_timestamps = data_states['SleepState']['ints'][0][0]['REMstate'][0][0]\n",
        "\n",
        "#Not all sessions have pathological (seizure-like) intervals\n",
        "try:\n",
        "  pathological_timestamps = data_states['SleepState']['ints'][0][0]['events_pathologicalstate'][0][0]\n",
        "except:\n",
        "  pass\n",
        "\n",
        "#1. For each neuron:\n",
        "#for unit_id in uid-1: #uid is 1-indexed as per matlab, whereas python used 0-indexing\n",
        "#  current_neuron = np.squeeze(times[0][unit_id])\n",
        "\n",
        ""
      ],
      "metadata": {
        "id": "Bih9NmIe9GNb"
      },
      "execution_count": 86,
      "outputs": []
    },
    {
      "cell_type": "code",
      "source": [
        "uid"
      ],
      "metadata": {
        "colab": {
          "base_uri": "https://localhost:8080/"
        },
        "id": "paaKcP2myrGM",
        "outputId": "79e4ae26-593f-4561-897e-850ce04da31d"
      },
      "execution_count": 93,
      "outputs": [
        {
          "output_type": "execute_result",
          "data": {
            "text/plain": [
              "array([ 1,  2,  3,  4,  5,  6,  7,  8,  9, 10, 11, 12, 13, 14, 15, 16, 17,\n",
              "       18, 19, 20, 21, 22, 23, 24, 25, 26, 27, 28, 29, 30, 31, 32, 33, 34,\n",
              "       35, 36, 37, 38, 39, 40, 41, 42, 43, 44], dtype=uint8)"
            ]
          },
          "metadata": {},
          "execution_count": 93
        }
      ]
    },
    {
      "cell_type": "code",
      "source": [
        "spikes_test['spikes'][0][0]['region']"
      ],
      "metadata": {
        "colab": {
          "base_uri": "https://localhost:8080/"
        },
        "id": "KzCGN2j1yL5S",
        "outputId": "451af4d6-e33e-40e4-ed44-799dcfa30ca8"
      },
      "execution_count": 90,
      "outputs": [
        {
          "output_type": "execute_result",
          "data": {
            "text/plain": [
              "array([[array(['STR'], dtype='<U3'), array(['STR'], dtype='<U3'),\n",
              "        array(['PFC'], dtype='<U3'), array(['STR'], dtype='<U3'),\n",
              "        array(['PFC'], dtype='<U3'), array(['STR'], dtype='<U3'),\n",
              "        array(['STR'], dtype='<U3'), array(['PFC'], dtype='<U3'),\n",
              "        array(['STR'], dtype='<U3'), array(['STR'], dtype='<U3'),\n",
              "        array(['PFC'], dtype='<U3'), array(['PFC'], dtype='<U3'),\n",
              "        array(['PFC'], dtype='<U3'), array(['STR'], dtype='<U3'),\n",
              "        array(['PFC'], dtype='<U3'), array(['STR'], dtype='<U3'),\n",
              "        array(['STR'], dtype='<U3'), array(['PFC'], dtype='<U3'),\n",
              "        array(['PFC'], dtype='<U3'), array(['PFC'], dtype='<U3'),\n",
              "        array(['STR'], dtype='<U3'), array(['STR'], dtype='<U3'),\n",
              "        array(['STR'], dtype='<U3'), array(['PFC'], dtype='<U3'),\n",
              "        array(['STR'], dtype='<U3'), array(['PFC'], dtype='<U3'),\n",
              "        array(['PFC'], dtype='<U3'), array(['PFC'], dtype='<U3'),\n",
              "        array(['PFC'], dtype='<U3'), array(['PFC'], dtype='<U3'),\n",
              "        array(['PFC'], dtype='<U3'), array(['STR'], dtype='<U3'),\n",
              "        array(['PFC'], dtype='<U3'), array(['PFC'], dtype='<U3'),\n",
              "        array(['PFC'], dtype='<U3'), array(['PFC'], dtype='<U3'),\n",
              "        array(['PFC'], dtype='<U3'), array(['PFC'], dtype='<U3'),\n",
              "        array(['PFC'], dtype='<U3'), array(['PFC'], dtype='<U3'),\n",
              "        array(['STR'], dtype='<U3'), array(['PFC'], dtype='<U3'),\n",
              "        array(['PFC'], dtype='<U3'), array(['PFC'], dtype='<U3')]],\n",
              "      dtype=object)"
            ]
          },
          "metadata": {},
          "execution_count": 90
        }
      ]
    },
    {
      "cell_type": "code",
      "source": [
        "for unit_id in np.squeeze(uid)-1: #uid is 1-indexed as per matlab, whereas python used 0-indexing\n",
        "  current_spike_train = np.squeeze(times[unit_id])\n",
        "  current_unit_region = np.squeeze(region)[unit_id][0]\n",
        "  break"
      ],
      "metadata": {
        "id": "Y6vOQ4HkBz8n"
      },
      "execution_count": 48,
      "outputs": []
    },
    {
      "cell_type": "code",
      "source": [
        "current_spike_train"
      ],
      "metadata": {
        "colab": {
          "base_uri": "https://localhost:8080/"
        },
        "id": "OieTDyV9lQN0",
        "outputId": "6a342c27-a5c4-499b-eb92-1daf582f5ff9"
      },
      "execution_count": 52,
      "outputs": [
        {
          "output_type": "execute_result",
          "data": {
            "text/plain": [
              "array([2.44200000e-01, 4.11000000e-01, 8.36966667e-01, ...,\n",
              "       1.21058641e+04, 1.21058885e+04, 1.21063646e+04])"
            ]
          },
          "metadata": {},
          "execution_count": 52
        }
      ]
    },
    {
      "cell_type": "code",
      "source": [],
      "metadata": {
        "colab": {
          "base_uri": "https://localhost:8080/"
        },
        "id": "34ok-GOKtiDh",
        "outputId": "c4f416e6-a209-4159-c36a-900bd444dbc6"
      },
      "execution_count": 54,
      "outputs": [
        {
          "output_type": "execute_result",
          "data": {
            "text/plain": [
              "array([2632.82533333, 2632.94546667, 2633.0649    , ..., 3009.19543333,\n",
              "       3009.27086667, 3009.90206667])"
            ]
          },
          "metadata": {},
          "execution_count": 54
        }
      ]
    },
    {
      "cell_type": "code",
      "source": [
        "current_spike_train[np.where((current_spike_train > nrem_timestamps[0][0]) * (current_spike_train < nrem_timestamps[0][1]))]"
      ],
      "metadata": {
        "id": "z3ojxxOdtnLH"
      },
      "execution_count": null,
      "outputs": []
    },
    {
      "cell_type": "code",
      "source": [
        "for period_id,period_limits in enumerate(nrem_timestamps):\n",
        "  print(period_limits[1])\n",
        "  break"
      ],
      "metadata": {
        "colab": {
          "base_uri": "https://localhost:8080/"
        },
        "id": "HrCqHWxbuOXb",
        "outputId": "0203b6c4-3fd6-4b08-8d5a-8820930c64d6"
      },
      "execution_count": 57,
      "outputs": [
        {
          "output_type": "stream",
          "name": "stdout",
          "text": [
            "3010\n"
          ]
        }
      ]
    },
    {
      "cell_type": "code",
      "source": [
        "day_id = 1\n",
        "rat_id = 4\n",
        "group_id = 2\n",
        "test_df = pd.DataFrame.from_dict({'timestamp':current_spike_train,'region':current_unit_region,'day':day_id,'group':group_id,'neuron':unit_id})"
      ],
      "metadata": {
        "id": "zu459KNNBwjL"
      },
      "execution_count": 69,
      "outputs": []
    },
    {
      "cell_type": "code",
      "source": [
        "test_df"
      ],
      "metadata": {
        "colab": {
          "base_uri": "https://localhost:8080/",
          "height": 424
        },
        "id": "tqon8I458_JK",
        "outputId": "7b8fe22d-da91-40d8-cf39-5a2aef36a44b"
      },
      "execution_count": 70,
      "outputs": [
        {
          "output_type": "execute_result",
          "data": {
            "text/plain": [
              "          timestamp region  day  group  neuron\n",
              "0          0.244200    STR    1      2       0\n",
              "1          0.411000    STR    1      2       0\n",
              "2          0.836967    STR    1      2       0\n",
              "3          0.861667    STR    1      2       0\n",
              "4          1.381100    STR    1      2       0\n",
              "...             ...    ...  ...    ...     ...\n",
              "53915  12105.057967    STR    1      2       0\n",
              "53916  12105.472267    STR    1      2       0\n",
              "53917  12105.864133    STR    1      2       0\n",
              "53918  12105.888500    STR    1      2       0\n",
              "53919  12106.364633    STR    1      2       0\n",
              "\n",
              "[53920 rows x 5 columns]"
            ],
            "text/html": [
              "\n",
              "  <div id=\"df-241b5574-39d1-4fd0-950d-3923721ccbb4\" class=\"colab-df-container\">\n",
              "    <div>\n",
              "<style scoped>\n",
              "    .dataframe tbody tr th:only-of-type {\n",
              "        vertical-align: middle;\n",
              "    }\n",
              "\n",
              "    .dataframe tbody tr th {\n",
              "        vertical-align: top;\n",
              "    }\n",
              "\n",
              "    .dataframe thead th {\n",
              "        text-align: right;\n",
              "    }\n",
              "</style>\n",
              "<table border=\"1\" class=\"dataframe\">\n",
              "  <thead>\n",
              "    <tr style=\"text-align: right;\">\n",
              "      <th></th>\n",
              "      <th>timestamp</th>\n",
              "      <th>region</th>\n",
              "      <th>day</th>\n",
              "      <th>group</th>\n",
              "      <th>neuron</th>\n",
              "    </tr>\n",
              "  </thead>\n",
              "  <tbody>\n",
              "    <tr>\n",
              "      <th>0</th>\n",
              "      <td>0.244200</td>\n",
              "      <td>STR</td>\n",
              "      <td>1</td>\n",
              "      <td>2</td>\n",
              "      <td>0</td>\n",
              "    </tr>\n",
              "    <tr>\n",
              "      <th>1</th>\n",
              "      <td>0.411000</td>\n",
              "      <td>STR</td>\n",
              "      <td>1</td>\n",
              "      <td>2</td>\n",
              "      <td>0</td>\n",
              "    </tr>\n",
              "    <tr>\n",
              "      <th>2</th>\n",
              "      <td>0.836967</td>\n",
              "      <td>STR</td>\n",
              "      <td>1</td>\n",
              "      <td>2</td>\n",
              "      <td>0</td>\n",
              "    </tr>\n",
              "    <tr>\n",
              "      <th>3</th>\n",
              "      <td>0.861667</td>\n",
              "      <td>STR</td>\n",
              "      <td>1</td>\n",
              "      <td>2</td>\n",
              "      <td>0</td>\n",
              "    </tr>\n",
              "    <tr>\n",
              "      <th>4</th>\n",
              "      <td>1.381100</td>\n",
              "      <td>STR</td>\n",
              "      <td>1</td>\n",
              "      <td>2</td>\n",
              "      <td>0</td>\n",
              "    </tr>\n",
              "    <tr>\n",
              "      <th>...</th>\n",
              "      <td>...</td>\n",
              "      <td>...</td>\n",
              "      <td>...</td>\n",
              "      <td>...</td>\n",
              "      <td>...</td>\n",
              "    </tr>\n",
              "    <tr>\n",
              "      <th>53915</th>\n",
              "      <td>12105.057967</td>\n",
              "      <td>STR</td>\n",
              "      <td>1</td>\n",
              "      <td>2</td>\n",
              "      <td>0</td>\n",
              "    </tr>\n",
              "    <tr>\n",
              "      <th>53916</th>\n",
              "      <td>12105.472267</td>\n",
              "      <td>STR</td>\n",
              "      <td>1</td>\n",
              "      <td>2</td>\n",
              "      <td>0</td>\n",
              "    </tr>\n",
              "    <tr>\n",
              "      <th>53917</th>\n",
              "      <td>12105.864133</td>\n",
              "      <td>STR</td>\n",
              "      <td>1</td>\n",
              "      <td>2</td>\n",
              "      <td>0</td>\n",
              "    </tr>\n",
              "    <tr>\n",
              "      <th>53918</th>\n",
              "      <td>12105.888500</td>\n",
              "      <td>STR</td>\n",
              "      <td>1</td>\n",
              "      <td>2</td>\n",
              "      <td>0</td>\n",
              "    </tr>\n",
              "    <tr>\n",
              "      <th>53919</th>\n",
              "      <td>12106.364633</td>\n",
              "      <td>STR</td>\n",
              "      <td>1</td>\n",
              "      <td>2</td>\n",
              "      <td>0</td>\n",
              "    </tr>\n",
              "  </tbody>\n",
              "</table>\n",
              "<p>53920 rows × 5 columns</p>\n",
              "</div>\n",
              "    <div class=\"colab-df-buttons\">\n",
              "\n",
              "  <div class=\"colab-df-container\">\n",
              "    <button class=\"colab-df-convert\" onclick=\"convertToInteractive('df-241b5574-39d1-4fd0-950d-3923721ccbb4')\"\n",
              "            title=\"Convert this dataframe to an interactive table.\"\n",
              "            style=\"display:none;\">\n",
              "\n",
              "  <svg xmlns=\"http://www.w3.org/2000/svg\" height=\"24px\" viewBox=\"0 -960 960 960\">\n",
              "    <path d=\"M120-120v-720h720v720H120Zm60-500h600v-160H180v160Zm220 220h160v-160H400v160Zm0 220h160v-160H400v160ZM180-400h160v-160H180v160Zm440 0h160v-160H620v160ZM180-180h160v-160H180v160Zm440 0h160v-160H620v160Z\"/>\n",
              "  </svg>\n",
              "    </button>\n",
              "\n",
              "  <style>\n",
              "    .colab-df-container {\n",
              "      display:flex;\n",
              "      gap: 12px;\n",
              "    }\n",
              "\n",
              "    .colab-df-convert {\n",
              "      background-color: #E8F0FE;\n",
              "      border: none;\n",
              "      border-radius: 50%;\n",
              "      cursor: pointer;\n",
              "      display: none;\n",
              "      fill: #1967D2;\n",
              "      height: 32px;\n",
              "      padding: 0 0 0 0;\n",
              "      width: 32px;\n",
              "    }\n",
              "\n",
              "    .colab-df-convert:hover {\n",
              "      background-color: #E2EBFA;\n",
              "      box-shadow: 0px 1px 2px rgba(60, 64, 67, 0.3), 0px 1px 3px 1px rgba(60, 64, 67, 0.15);\n",
              "      fill: #174EA6;\n",
              "    }\n",
              "\n",
              "    .colab-df-buttons div {\n",
              "      margin-bottom: 4px;\n",
              "    }\n",
              "\n",
              "    [theme=dark] .colab-df-convert {\n",
              "      background-color: #3B4455;\n",
              "      fill: #D2E3FC;\n",
              "    }\n",
              "\n",
              "    [theme=dark] .colab-df-convert:hover {\n",
              "      background-color: #434B5C;\n",
              "      box-shadow: 0px 1px 3px 1px rgba(0, 0, 0, 0.15);\n",
              "      filter: drop-shadow(0px 1px 2px rgba(0, 0, 0, 0.3));\n",
              "      fill: #FFFFFF;\n",
              "    }\n",
              "  </style>\n",
              "\n",
              "    <script>\n",
              "      const buttonEl =\n",
              "        document.querySelector('#df-241b5574-39d1-4fd0-950d-3923721ccbb4 button.colab-df-convert');\n",
              "      buttonEl.style.display =\n",
              "        google.colab.kernel.accessAllowed ? 'block' : 'none';\n",
              "\n",
              "      async function convertToInteractive(key) {\n",
              "        const element = document.querySelector('#df-241b5574-39d1-4fd0-950d-3923721ccbb4');\n",
              "        const dataTable =\n",
              "          await google.colab.kernel.invokeFunction('convertToInteractive',\n",
              "                                                    [key], {});\n",
              "        if (!dataTable) return;\n",
              "\n",
              "        const docLinkHtml = 'Like what you see? Visit the ' +\n",
              "          '<a target=\"_blank\" href=https://colab.research.google.com/notebooks/data_table.ipynb>data table notebook</a>'\n",
              "          + ' to learn more about interactive tables.';\n",
              "        element.innerHTML = '';\n",
              "        dataTable['output_type'] = 'display_data';\n",
              "        await google.colab.output.renderOutput(dataTable, element);\n",
              "        const docLink = document.createElement('div');\n",
              "        docLink.innerHTML = docLinkHtml;\n",
              "        element.appendChild(docLink);\n",
              "      }\n",
              "    </script>\n",
              "  </div>\n",
              "\n",
              "\n",
              "<div id=\"df-b539ca73-4032-427e-821d-61639e96f377\">\n",
              "  <button class=\"colab-df-quickchart\" onclick=\"quickchart('df-b539ca73-4032-427e-821d-61639e96f377')\"\n",
              "            title=\"Suggest charts.\"\n",
              "            style=\"display:none;\">\n",
              "\n",
              "<svg xmlns=\"http://www.w3.org/2000/svg\" height=\"24px\"viewBox=\"0 0 24 24\"\n",
              "     width=\"24px\">\n",
              "    <g>\n",
              "        <path d=\"M19 3H5c-1.1 0-2 .9-2 2v14c0 1.1.9 2 2 2h14c1.1 0 2-.9 2-2V5c0-1.1-.9-2-2-2zM9 17H7v-7h2v7zm4 0h-2V7h2v10zm4 0h-2v-4h2v4z\"/>\n",
              "    </g>\n",
              "</svg>\n",
              "  </button>\n",
              "\n",
              "<style>\n",
              "  .colab-df-quickchart {\n",
              "      --bg-color: #E8F0FE;\n",
              "      --fill-color: #1967D2;\n",
              "      --hover-bg-color: #E2EBFA;\n",
              "      --hover-fill-color: #174EA6;\n",
              "      --disabled-fill-color: #AAA;\n",
              "      --disabled-bg-color: #DDD;\n",
              "  }\n",
              "\n",
              "  [theme=dark] .colab-df-quickchart {\n",
              "      --bg-color: #3B4455;\n",
              "      --fill-color: #D2E3FC;\n",
              "      --hover-bg-color: #434B5C;\n",
              "      --hover-fill-color: #FFFFFF;\n",
              "      --disabled-bg-color: #3B4455;\n",
              "      --disabled-fill-color: #666;\n",
              "  }\n",
              "\n",
              "  .colab-df-quickchart {\n",
              "    background-color: var(--bg-color);\n",
              "    border: none;\n",
              "    border-radius: 50%;\n",
              "    cursor: pointer;\n",
              "    display: none;\n",
              "    fill: var(--fill-color);\n",
              "    height: 32px;\n",
              "    padding: 0;\n",
              "    width: 32px;\n",
              "  }\n",
              "\n",
              "  .colab-df-quickchart:hover {\n",
              "    background-color: var(--hover-bg-color);\n",
              "    box-shadow: 0 1px 2px rgba(60, 64, 67, 0.3), 0 1px 3px 1px rgba(60, 64, 67, 0.15);\n",
              "    fill: var(--button-hover-fill-color);\n",
              "  }\n",
              "\n",
              "  .colab-df-quickchart-complete:disabled,\n",
              "  .colab-df-quickchart-complete:disabled:hover {\n",
              "    background-color: var(--disabled-bg-color);\n",
              "    fill: var(--disabled-fill-color);\n",
              "    box-shadow: none;\n",
              "  }\n",
              "\n",
              "  .colab-df-spinner {\n",
              "    border: 2px solid var(--fill-color);\n",
              "    border-color: transparent;\n",
              "    border-bottom-color: var(--fill-color);\n",
              "    animation:\n",
              "      spin 1s steps(1) infinite;\n",
              "  }\n",
              "\n",
              "  @keyframes spin {\n",
              "    0% {\n",
              "      border-color: transparent;\n",
              "      border-bottom-color: var(--fill-color);\n",
              "      border-left-color: var(--fill-color);\n",
              "    }\n",
              "    20% {\n",
              "      border-color: transparent;\n",
              "      border-left-color: var(--fill-color);\n",
              "      border-top-color: var(--fill-color);\n",
              "    }\n",
              "    30% {\n",
              "      border-color: transparent;\n",
              "      border-left-color: var(--fill-color);\n",
              "      border-top-color: var(--fill-color);\n",
              "      border-right-color: var(--fill-color);\n",
              "    }\n",
              "    40% {\n",
              "      border-color: transparent;\n",
              "      border-right-color: var(--fill-color);\n",
              "      border-top-color: var(--fill-color);\n",
              "    }\n",
              "    60% {\n",
              "      border-color: transparent;\n",
              "      border-right-color: var(--fill-color);\n",
              "    }\n",
              "    80% {\n",
              "      border-color: transparent;\n",
              "      border-right-color: var(--fill-color);\n",
              "      border-bottom-color: var(--fill-color);\n",
              "    }\n",
              "    90% {\n",
              "      border-color: transparent;\n",
              "      border-bottom-color: var(--fill-color);\n",
              "    }\n",
              "  }\n",
              "</style>\n",
              "\n",
              "  <script>\n",
              "    async function quickchart(key) {\n",
              "      const quickchartButtonEl =\n",
              "        document.querySelector('#' + key + ' button');\n",
              "      quickchartButtonEl.disabled = true;  // To prevent multiple clicks.\n",
              "      quickchartButtonEl.classList.add('colab-df-spinner');\n",
              "      try {\n",
              "        const charts = await google.colab.kernel.invokeFunction(\n",
              "            'suggestCharts', [key], {});\n",
              "      } catch (error) {\n",
              "        console.error('Error during call to suggestCharts:', error);\n",
              "      }\n",
              "      quickchartButtonEl.classList.remove('colab-df-spinner');\n",
              "      quickchartButtonEl.classList.add('colab-df-quickchart-complete');\n",
              "    }\n",
              "    (() => {\n",
              "      let quickchartButtonEl =\n",
              "        document.querySelector('#df-b539ca73-4032-427e-821d-61639e96f377 button');\n",
              "      quickchartButtonEl.style.display =\n",
              "        google.colab.kernel.accessAllowed ? 'block' : 'none';\n",
              "    })();\n",
              "  </script>\n",
              "</div>\n",
              "    </div>\n",
              "  </div>\n"
            ]
          },
          "metadata": {},
          "execution_count": 70
        }
      ]
    },
    {
      "cell_type": "code",
      "source": [
        "def create_or_append(dataframe,current_data):\n",
        "    if dataframe is not None:\n",
        "        return pd.concat([dataframe,pd.DataFrame(current_data)])\n",
        "    else:\n",
        "        return pd.DataFrame(current_data)"
      ],
      "metadata": {
        "id": "brphmSy0Bnyw"
      },
      "execution_count": 60,
      "outputs": []
    },
    {
      "cell_type": "code",
      "source": [
        "test_df2 = None\n",
        "\n",
        "test_df2 = create_or_append(test_df2,test_df)"
      ],
      "metadata": {
        "id": "2D--GMiYvU9L"
      },
      "execution_count": 71,
      "outputs": []
    },
    {
      "cell_type": "code",
      "source": [
        "test_df2"
      ],
      "metadata": {
        "colab": {
          "base_uri": "https://localhost:8080/",
          "height": 424
        },
        "id": "b_FVtnDJvzHp",
        "outputId": "f9995f61-1e41-4a87-9963-451cf7cfeb43"
      },
      "execution_count": 72,
      "outputs": [
        {
          "output_type": "execute_result",
          "data": {
            "text/plain": [
              "          timestamp region  day  group  neuron\n",
              "0          0.244200    STR    1      2       0\n",
              "1          0.411000    STR    1      2       0\n",
              "2          0.836967    STR    1      2       0\n",
              "3          0.861667    STR    1      2       0\n",
              "4          1.381100    STR    1      2       0\n",
              "...             ...    ...  ...    ...     ...\n",
              "53915  12105.057967    STR    1      2       0\n",
              "53916  12105.472267    STR    1      2       0\n",
              "53917  12105.864133    STR    1      2       0\n",
              "53918  12105.888500    STR    1      2       0\n",
              "53919  12106.364633    STR    1      2       0\n",
              "\n",
              "[53920 rows x 5 columns]"
            ],
            "text/html": [
              "\n",
              "  <div id=\"df-5534e386-0d24-48fc-a548-ad383fd97d49\" class=\"colab-df-container\">\n",
              "    <div>\n",
              "<style scoped>\n",
              "    .dataframe tbody tr th:only-of-type {\n",
              "        vertical-align: middle;\n",
              "    }\n",
              "\n",
              "    .dataframe tbody tr th {\n",
              "        vertical-align: top;\n",
              "    }\n",
              "\n",
              "    .dataframe thead th {\n",
              "        text-align: right;\n",
              "    }\n",
              "</style>\n",
              "<table border=\"1\" class=\"dataframe\">\n",
              "  <thead>\n",
              "    <tr style=\"text-align: right;\">\n",
              "      <th></th>\n",
              "      <th>timestamp</th>\n",
              "      <th>region</th>\n",
              "      <th>day</th>\n",
              "      <th>group</th>\n",
              "      <th>neuron</th>\n",
              "    </tr>\n",
              "  </thead>\n",
              "  <tbody>\n",
              "    <tr>\n",
              "      <th>0</th>\n",
              "      <td>0.244200</td>\n",
              "      <td>STR</td>\n",
              "      <td>1</td>\n",
              "      <td>2</td>\n",
              "      <td>0</td>\n",
              "    </tr>\n",
              "    <tr>\n",
              "      <th>1</th>\n",
              "      <td>0.411000</td>\n",
              "      <td>STR</td>\n",
              "      <td>1</td>\n",
              "      <td>2</td>\n",
              "      <td>0</td>\n",
              "    </tr>\n",
              "    <tr>\n",
              "      <th>2</th>\n",
              "      <td>0.836967</td>\n",
              "      <td>STR</td>\n",
              "      <td>1</td>\n",
              "      <td>2</td>\n",
              "      <td>0</td>\n",
              "    </tr>\n",
              "    <tr>\n",
              "      <th>3</th>\n",
              "      <td>0.861667</td>\n",
              "      <td>STR</td>\n",
              "      <td>1</td>\n",
              "      <td>2</td>\n",
              "      <td>0</td>\n",
              "    </tr>\n",
              "    <tr>\n",
              "      <th>4</th>\n",
              "      <td>1.381100</td>\n",
              "      <td>STR</td>\n",
              "      <td>1</td>\n",
              "      <td>2</td>\n",
              "      <td>0</td>\n",
              "    </tr>\n",
              "    <tr>\n",
              "      <th>...</th>\n",
              "      <td>...</td>\n",
              "      <td>...</td>\n",
              "      <td>...</td>\n",
              "      <td>...</td>\n",
              "      <td>...</td>\n",
              "    </tr>\n",
              "    <tr>\n",
              "      <th>53915</th>\n",
              "      <td>12105.057967</td>\n",
              "      <td>STR</td>\n",
              "      <td>1</td>\n",
              "      <td>2</td>\n",
              "      <td>0</td>\n",
              "    </tr>\n",
              "    <tr>\n",
              "      <th>53916</th>\n",
              "      <td>12105.472267</td>\n",
              "      <td>STR</td>\n",
              "      <td>1</td>\n",
              "      <td>2</td>\n",
              "      <td>0</td>\n",
              "    </tr>\n",
              "    <tr>\n",
              "      <th>53917</th>\n",
              "      <td>12105.864133</td>\n",
              "      <td>STR</td>\n",
              "      <td>1</td>\n",
              "      <td>2</td>\n",
              "      <td>0</td>\n",
              "    </tr>\n",
              "    <tr>\n",
              "      <th>53918</th>\n",
              "      <td>12105.888500</td>\n",
              "      <td>STR</td>\n",
              "      <td>1</td>\n",
              "      <td>2</td>\n",
              "      <td>0</td>\n",
              "    </tr>\n",
              "    <tr>\n",
              "      <th>53919</th>\n",
              "      <td>12106.364633</td>\n",
              "      <td>STR</td>\n",
              "      <td>1</td>\n",
              "      <td>2</td>\n",
              "      <td>0</td>\n",
              "    </tr>\n",
              "  </tbody>\n",
              "</table>\n",
              "<p>53920 rows × 5 columns</p>\n",
              "</div>\n",
              "    <div class=\"colab-df-buttons\">\n",
              "\n",
              "  <div class=\"colab-df-container\">\n",
              "    <button class=\"colab-df-convert\" onclick=\"convertToInteractive('df-5534e386-0d24-48fc-a548-ad383fd97d49')\"\n",
              "            title=\"Convert this dataframe to an interactive table.\"\n",
              "            style=\"display:none;\">\n",
              "\n",
              "  <svg xmlns=\"http://www.w3.org/2000/svg\" height=\"24px\" viewBox=\"0 -960 960 960\">\n",
              "    <path d=\"M120-120v-720h720v720H120Zm60-500h600v-160H180v160Zm220 220h160v-160H400v160Zm0 220h160v-160H400v160ZM180-400h160v-160H180v160Zm440 0h160v-160H620v160ZM180-180h160v-160H180v160Zm440 0h160v-160H620v160Z\"/>\n",
              "  </svg>\n",
              "    </button>\n",
              "\n",
              "  <style>\n",
              "    .colab-df-container {\n",
              "      display:flex;\n",
              "      gap: 12px;\n",
              "    }\n",
              "\n",
              "    .colab-df-convert {\n",
              "      background-color: #E8F0FE;\n",
              "      border: none;\n",
              "      border-radius: 50%;\n",
              "      cursor: pointer;\n",
              "      display: none;\n",
              "      fill: #1967D2;\n",
              "      height: 32px;\n",
              "      padding: 0 0 0 0;\n",
              "      width: 32px;\n",
              "    }\n",
              "\n",
              "    .colab-df-convert:hover {\n",
              "      background-color: #E2EBFA;\n",
              "      box-shadow: 0px 1px 2px rgba(60, 64, 67, 0.3), 0px 1px 3px 1px rgba(60, 64, 67, 0.15);\n",
              "      fill: #174EA6;\n",
              "    }\n",
              "\n",
              "    .colab-df-buttons div {\n",
              "      margin-bottom: 4px;\n",
              "    }\n",
              "\n",
              "    [theme=dark] .colab-df-convert {\n",
              "      background-color: #3B4455;\n",
              "      fill: #D2E3FC;\n",
              "    }\n",
              "\n",
              "    [theme=dark] .colab-df-convert:hover {\n",
              "      background-color: #434B5C;\n",
              "      box-shadow: 0px 1px 3px 1px rgba(0, 0, 0, 0.15);\n",
              "      filter: drop-shadow(0px 1px 2px rgba(0, 0, 0, 0.3));\n",
              "      fill: #FFFFFF;\n",
              "    }\n",
              "  </style>\n",
              "\n",
              "    <script>\n",
              "      const buttonEl =\n",
              "        document.querySelector('#df-5534e386-0d24-48fc-a548-ad383fd97d49 button.colab-df-convert');\n",
              "      buttonEl.style.display =\n",
              "        google.colab.kernel.accessAllowed ? 'block' : 'none';\n",
              "\n",
              "      async function convertToInteractive(key) {\n",
              "        const element = document.querySelector('#df-5534e386-0d24-48fc-a548-ad383fd97d49');\n",
              "        const dataTable =\n",
              "          await google.colab.kernel.invokeFunction('convertToInteractive',\n",
              "                                                    [key], {});\n",
              "        if (!dataTable) return;\n",
              "\n",
              "        const docLinkHtml = 'Like what you see? Visit the ' +\n",
              "          '<a target=\"_blank\" href=https://colab.research.google.com/notebooks/data_table.ipynb>data table notebook</a>'\n",
              "          + ' to learn more about interactive tables.';\n",
              "        element.innerHTML = '';\n",
              "        dataTable['output_type'] = 'display_data';\n",
              "        await google.colab.output.renderOutput(dataTable, element);\n",
              "        const docLink = document.createElement('div');\n",
              "        docLink.innerHTML = docLinkHtml;\n",
              "        element.appendChild(docLink);\n",
              "      }\n",
              "    </script>\n",
              "  </div>\n",
              "\n",
              "\n",
              "<div id=\"df-c4d87e9c-2d79-4c8c-9ae0-7e9c55db2c8e\">\n",
              "  <button class=\"colab-df-quickchart\" onclick=\"quickchart('df-c4d87e9c-2d79-4c8c-9ae0-7e9c55db2c8e')\"\n",
              "            title=\"Suggest charts.\"\n",
              "            style=\"display:none;\">\n",
              "\n",
              "<svg xmlns=\"http://www.w3.org/2000/svg\" height=\"24px\"viewBox=\"0 0 24 24\"\n",
              "     width=\"24px\">\n",
              "    <g>\n",
              "        <path d=\"M19 3H5c-1.1 0-2 .9-2 2v14c0 1.1.9 2 2 2h14c1.1 0 2-.9 2-2V5c0-1.1-.9-2-2-2zM9 17H7v-7h2v7zm4 0h-2V7h2v10zm4 0h-2v-4h2v4z\"/>\n",
              "    </g>\n",
              "</svg>\n",
              "  </button>\n",
              "\n",
              "<style>\n",
              "  .colab-df-quickchart {\n",
              "      --bg-color: #E8F0FE;\n",
              "      --fill-color: #1967D2;\n",
              "      --hover-bg-color: #E2EBFA;\n",
              "      --hover-fill-color: #174EA6;\n",
              "      --disabled-fill-color: #AAA;\n",
              "      --disabled-bg-color: #DDD;\n",
              "  }\n",
              "\n",
              "  [theme=dark] .colab-df-quickchart {\n",
              "      --bg-color: #3B4455;\n",
              "      --fill-color: #D2E3FC;\n",
              "      --hover-bg-color: #434B5C;\n",
              "      --hover-fill-color: #FFFFFF;\n",
              "      --disabled-bg-color: #3B4455;\n",
              "      --disabled-fill-color: #666;\n",
              "  }\n",
              "\n",
              "  .colab-df-quickchart {\n",
              "    background-color: var(--bg-color);\n",
              "    border: none;\n",
              "    border-radius: 50%;\n",
              "    cursor: pointer;\n",
              "    display: none;\n",
              "    fill: var(--fill-color);\n",
              "    height: 32px;\n",
              "    padding: 0;\n",
              "    width: 32px;\n",
              "  }\n",
              "\n",
              "  .colab-df-quickchart:hover {\n",
              "    background-color: var(--hover-bg-color);\n",
              "    box-shadow: 0 1px 2px rgba(60, 64, 67, 0.3), 0 1px 3px 1px rgba(60, 64, 67, 0.15);\n",
              "    fill: var(--button-hover-fill-color);\n",
              "  }\n",
              "\n",
              "  .colab-df-quickchart-complete:disabled,\n",
              "  .colab-df-quickchart-complete:disabled:hover {\n",
              "    background-color: var(--disabled-bg-color);\n",
              "    fill: var(--disabled-fill-color);\n",
              "    box-shadow: none;\n",
              "  }\n",
              "\n",
              "  .colab-df-spinner {\n",
              "    border: 2px solid var(--fill-color);\n",
              "    border-color: transparent;\n",
              "    border-bottom-color: var(--fill-color);\n",
              "    animation:\n",
              "      spin 1s steps(1) infinite;\n",
              "  }\n",
              "\n",
              "  @keyframes spin {\n",
              "    0% {\n",
              "      border-color: transparent;\n",
              "      border-bottom-color: var(--fill-color);\n",
              "      border-left-color: var(--fill-color);\n",
              "    }\n",
              "    20% {\n",
              "      border-color: transparent;\n",
              "      border-left-color: var(--fill-color);\n",
              "      border-top-color: var(--fill-color);\n",
              "    }\n",
              "    30% {\n",
              "      border-color: transparent;\n",
              "      border-left-color: var(--fill-color);\n",
              "      border-top-color: var(--fill-color);\n",
              "      border-right-color: var(--fill-color);\n",
              "    }\n",
              "    40% {\n",
              "      border-color: transparent;\n",
              "      border-right-color: var(--fill-color);\n",
              "      border-top-color: var(--fill-color);\n",
              "    }\n",
              "    60% {\n",
              "      border-color: transparent;\n",
              "      border-right-color: var(--fill-color);\n",
              "    }\n",
              "    80% {\n",
              "      border-color: transparent;\n",
              "      border-right-color: var(--fill-color);\n",
              "      border-bottom-color: var(--fill-color);\n",
              "    }\n",
              "    90% {\n",
              "      border-color: transparent;\n",
              "      border-bottom-color: var(--fill-color);\n",
              "    }\n",
              "  }\n",
              "</style>\n",
              "\n",
              "  <script>\n",
              "    async function quickchart(key) {\n",
              "      const quickchartButtonEl =\n",
              "        document.querySelector('#' + key + ' button');\n",
              "      quickchartButtonEl.disabled = true;  // To prevent multiple clicks.\n",
              "      quickchartButtonEl.classList.add('colab-df-spinner');\n",
              "      try {\n",
              "        const charts = await google.colab.kernel.invokeFunction(\n",
              "            'suggestCharts', [key], {});\n",
              "      } catch (error) {\n",
              "        console.error('Error during call to suggestCharts:', error);\n",
              "      }\n",
              "      quickchartButtonEl.classList.remove('colab-df-spinner');\n",
              "      quickchartButtonEl.classList.add('colab-df-quickchart-complete');\n",
              "    }\n",
              "    (() => {\n",
              "      let quickchartButtonEl =\n",
              "        document.querySelector('#df-c4d87e9c-2d79-4c8c-9ae0-7e9c55db2c8e button');\n",
              "      quickchartButtonEl.style.display =\n",
              "        google.colab.kernel.accessAllowed ? 'block' : 'none';\n",
              "    })();\n",
              "  </script>\n",
              "</div>\n",
              "    </div>\n",
              "  </div>\n"
            ]
          },
          "metadata": {},
          "execution_count": 72
        }
      ]
    },
    {
      "cell_type": "code",
      "source": [
        "#1. Load the spikes' dataframe\n"
      ],
      "metadata": {
        "id": "Njt37AfO3ji5"
      },
      "execution_count": 76,
      "outputs": []
    },
    {
      "cell_type": "code",
      "source": [
        "session_data"
      ],
      "metadata": {
        "colab": {
          "base_uri": "https://localhost:8080/",
          "height": 424
        },
        "id": "UMBP9GKn3peO",
        "outputId": "81e24643-82e4-4ef1-dc20-fa15c4cffe0f"
      },
      "execution_count": 77,
      "outputs": [
        {
          "output_type": "execute_result",
          "data": {
            "text/plain": [
              "         Unnamed: 0    timestamp  quality region  day  group  rat  neuron  \\\n",
              "0                 0   277.392548      2.0    PFC    1      1    7       0   \n",
              "1                 1   277.088584      2.0    PFC    1      1    7       7   \n",
              "2                 2   276.931543      2.0    PFC    1      1    7      10   \n",
              "3                 3   276.978319      2.0    PFC    1      1    7      10   \n",
              "4                 4   276.979999      2.0    PFC    1      1    7      10   \n",
              "...             ...          ...      ...    ...  ...    ...  ...     ...   \n",
              "1829557       29318  7600.126467      0.0    PFC    2      2    6       7   \n",
              "1829558       29319  7605.773933      0.0    PFC    2      2    6       7   \n",
              "1829559       29320  7611.368667      0.0    PFC    2      2    6       7   \n",
              "1829560       29321  7612.515200      0.0    PFC    2      2    6       7   \n",
              "1829561       29322  7620.016933      0.0    PFC    2      2    6       7   \n",
              "\n",
              "         trial      time  duration  \n",
              "0          6.0  0.110264  0.253338  \n",
              "1          6.0 -0.193700  0.253338  \n",
              "2          6.0 -0.350740  0.253338  \n",
              "3          6.0 -0.303964  0.253338  \n",
              "4          6.0 -0.302285  0.253338  \n",
              "...        ...       ...       ...  \n",
              "1829557  693.0  0.308167  2.417367  \n",
              "1829558  694.0 -0.191033  1.954200  \n",
              "1829559  695.0 -0.291467  0.188067  \n",
              "1829560  696.0  0.575733  2.395200  \n",
              "1829561  698.0  0.168667  0.767033  \n",
              "\n",
              "[1829562 rows x 11 columns]"
            ],
            "text/html": [
              "\n",
              "  <div id=\"df-88819b02-9aba-4870-b255-06cd68f828df\" class=\"colab-df-container\">\n",
              "    <div>\n",
              "<style scoped>\n",
              "    .dataframe tbody tr th:only-of-type {\n",
              "        vertical-align: middle;\n",
              "    }\n",
              "\n",
              "    .dataframe tbody tr th {\n",
              "        vertical-align: top;\n",
              "    }\n",
              "\n",
              "    .dataframe thead th {\n",
              "        text-align: right;\n",
              "    }\n",
              "</style>\n",
              "<table border=\"1\" class=\"dataframe\">\n",
              "  <thead>\n",
              "    <tr style=\"text-align: right;\">\n",
              "      <th></th>\n",
              "      <th>Unnamed: 0</th>\n",
              "      <th>timestamp</th>\n",
              "      <th>quality</th>\n",
              "      <th>region</th>\n",
              "      <th>day</th>\n",
              "      <th>group</th>\n",
              "      <th>rat</th>\n",
              "      <th>neuron</th>\n",
              "      <th>trial</th>\n",
              "      <th>time</th>\n",
              "      <th>duration</th>\n",
              "    </tr>\n",
              "  </thead>\n",
              "  <tbody>\n",
              "    <tr>\n",
              "      <th>0</th>\n",
              "      <td>0</td>\n",
              "      <td>277.392548</td>\n",
              "      <td>2.0</td>\n",
              "      <td>PFC</td>\n",
              "      <td>1</td>\n",
              "      <td>1</td>\n",
              "      <td>7</td>\n",
              "      <td>0</td>\n",
              "      <td>6.0</td>\n",
              "      <td>0.110264</td>\n",
              "      <td>0.253338</td>\n",
              "    </tr>\n",
              "    <tr>\n",
              "      <th>1</th>\n",
              "      <td>1</td>\n",
              "      <td>277.088584</td>\n",
              "      <td>2.0</td>\n",
              "      <td>PFC</td>\n",
              "      <td>1</td>\n",
              "      <td>1</td>\n",
              "      <td>7</td>\n",
              "      <td>7</td>\n",
              "      <td>6.0</td>\n",
              "      <td>-0.193700</td>\n",
              "      <td>0.253338</td>\n",
              "    </tr>\n",
              "    <tr>\n",
              "      <th>2</th>\n",
              "      <td>2</td>\n",
              "      <td>276.931543</td>\n",
              "      <td>2.0</td>\n",
              "      <td>PFC</td>\n",
              "      <td>1</td>\n",
              "      <td>1</td>\n",
              "      <td>7</td>\n",
              "      <td>10</td>\n",
              "      <td>6.0</td>\n",
              "      <td>-0.350740</td>\n",
              "      <td>0.253338</td>\n",
              "    </tr>\n",
              "    <tr>\n",
              "      <th>3</th>\n",
              "      <td>3</td>\n",
              "      <td>276.978319</td>\n",
              "      <td>2.0</td>\n",
              "      <td>PFC</td>\n",
              "      <td>1</td>\n",
              "      <td>1</td>\n",
              "      <td>7</td>\n",
              "      <td>10</td>\n",
              "      <td>6.0</td>\n",
              "      <td>-0.303964</td>\n",
              "      <td>0.253338</td>\n",
              "    </tr>\n",
              "    <tr>\n",
              "      <th>4</th>\n",
              "      <td>4</td>\n",
              "      <td>276.979999</td>\n",
              "      <td>2.0</td>\n",
              "      <td>PFC</td>\n",
              "      <td>1</td>\n",
              "      <td>1</td>\n",
              "      <td>7</td>\n",
              "      <td>10</td>\n",
              "      <td>6.0</td>\n",
              "      <td>-0.302285</td>\n",
              "      <td>0.253338</td>\n",
              "    </tr>\n",
              "    <tr>\n",
              "      <th>...</th>\n",
              "      <td>...</td>\n",
              "      <td>...</td>\n",
              "      <td>...</td>\n",
              "      <td>...</td>\n",
              "      <td>...</td>\n",
              "      <td>...</td>\n",
              "      <td>...</td>\n",
              "      <td>...</td>\n",
              "      <td>...</td>\n",
              "      <td>...</td>\n",
              "      <td>...</td>\n",
              "    </tr>\n",
              "    <tr>\n",
              "      <th>1829557</th>\n",
              "      <td>29318</td>\n",
              "      <td>7600.126467</td>\n",
              "      <td>0.0</td>\n",
              "      <td>PFC</td>\n",
              "      <td>2</td>\n",
              "      <td>2</td>\n",
              "      <td>6</td>\n",
              "      <td>7</td>\n",
              "      <td>693.0</td>\n",
              "      <td>0.308167</td>\n",
              "      <td>2.417367</td>\n",
              "    </tr>\n",
              "    <tr>\n",
              "      <th>1829558</th>\n",
              "      <td>29319</td>\n",
              "      <td>7605.773933</td>\n",
              "      <td>0.0</td>\n",
              "      <td>PFC</td>\n",
              "      <td>2</td>\n",
              "      <td>2</td>\n",
              "      <td>6</td>\n",
              "      <td>7</td>\n",
              "      <td>694.0</td>\n",
              "      <td>-0.191033</td>\n",
              "      <td>1.954200</td>\n",
              "    </tr>\n",
              "    <tr>\n",
              "      <th>1829559</th>\n",
              "      <td>29320</td>\n",
              "      <td>7611.368667</td>\n",
              "      <td>0.0</td>\n",
              "      <td>PFC</td>\n",
              "      <td>2</td>\n",
              "      <td>2</td>\n",
              "      <td>6</td>\n",
              "      <td>7</td>\n",
              "      <td>695.0</td>\n",
              "      <td>-0.291467</td>\n",
              "      <td>0.188067</td>\n",
              "    </tr>\n",
              "    <tr>\n",
              "      <th>1829560</th>\n",
              "      <td>29321</td>\n",
              "      <td>7612.515200</td>\n",
              "      <td>0.0</td>\n",
              "      <td>PFC</td>\n",
              "      <td>2</td>\n",
              "      <td>2</td>\n",
              "      <td>6</td>\n",
              "      <td>7</td>\n",
              "      <td>696.0</td>\n",
              "      <td>0.575733</td>\n",
              "      <td>2.395200</td>\n",
              "    </tr>\n",
              "    <tr>\n",
              "      <th>1829561</th>\n",
              "      <td>29322</td>\n",
              "      <td>7620.016933</td>\n",
              "      <td>0.0</td>\n",
              "      <td>PFC</td>\n",
              "      <td>2</td>\n",
              "      <td>2</td>\n",
              "      <td>6</td>\n",
              "      <td>7</td>\n",
              "      <td>698.0</td>\n",
              "      <td>0.168667</td>\n",
              "      <td>0.767033</td>\n",
              "    </tr>\n",
              "  </tbody>\n",
              "</table>\n",
              "<p>1829562 rows × 11 columns</p>\n",
              "</div>\n",
              "    <div class=\"colab-df-buttons\">\n",
              "\n",
              "  <div class=\"colab-df-container\">\n",
              "    <button class=\"colab-df-convert\" onclick=\"convertToInteractive('df-88819b02-9aba-4870-b255-06cd68f828df')\"\n",
              "            title=\"Convert this dataframe to an interactive table.\"\n",
              "            style=\"display:none;\">\n",
              "\n",
              "  <svg xmlns=\"http://www.w3.org/2000/svg\" height=\"24px\" viewBox=\"0 -960 960 960\">\n",
              "    <path d=\"M120-120v-720h720v720H120Zm60-500h600v-160H180v160Zm220 220h160v-160H400v160Zm0 220h160v-160H400v160ZM180-400h160v-160H180v160Zm440 0h160v-160H620v160ZM180-180h160v-160H180v160Zm440 0h160v-160H620v160Z\"/>\n",
              "  </svg>\n",
              "    </button>\n",
              "\n",
              "  <style>\n",
              "    .colab-df-container {\n",
              "      display:flex;\n",
              "      gap: 12px;\n",
              "    }\n",
              "\n",
              "    .colab-df-convert {\n",
              "      background-color: #E8F0FE;\n",
              "      border: none;\n",
              "      border-radius: 50%;\n",
              "      cursor: pointer;\n",
              "      display: none;\n",
              "      fill: #1967D2;\n",
              "      height: 32px;\n",
              "      padding: 0 0 0 0;\n",
              "      width: 32px;\n",
              "    }\n",
              "\n",
              "    .colab-df-convert:hover {\n",
              "      background-color: #E2EBFA;\n",
              "      box-shadow: 0px 1px 2px rgba(60, 64, 67, 0.3), 0px 1px 3px 1px rgba(60, 64, 67, 0.15);\n",
              "      fill: #174EA6;\n",
              "    }\n",
              "\n",
              "    .colab-df-buttons div {\n",
              "      margin-bottom: 4px;\n",
              "    }\n",
              "\n",
              "    [theme=dark] .colab-df-convert {\n",
              "      background-color: #3B4455;\n",
              "      fill: #D2E3FC;\n",
              "    }\n",
              "\n",
              "    [theme=dark] .colab-df-convert:hover {\n",
              "      background-color: #434B5C;\n",
              "      box-shadow: 0px 1px 3px 1px rgba(0, 0, 0, 0.15);\n",
              "      filter: drop-shadow(0px 1px 2px rgba(0, 0, 0, 0.3));\n",
              "      fill: #FFFFFF;\n",
              "    }\n",
              "  </style>\n",
              "\n",
              "    <script>\n",
              "      const buttonEl =\n",
              "        document.querySelector('#df-88819b02-9aba-4870-b255-06cd68f828df button.colab-df-convert');\n",
              "      buttonEl.style.display =\n",
              "        google.colab.kernel.accessAllowed ? 'block' : 'none';\n",
              "\n",
              "      async function convertToInteractive(key) {\n",
              "        const element = document.querySelector('#df-88819b02-9aba-4870-b255-06cd68f828df');\n",
              "        const dataTable =\n",
              "          await google.colab.kernel.invokeFunction('convertToInteractive',\n",
              "                                                    [key], {});\n",
              "        if (!dataTable) return;\n",
              "\n",
              "        const docLinkHtml = 'Like what you see? Visit the ' +\n",
              "          '<a target=\"_blank\" href=https://colab.research.google.com/notebooks/data_table.ipynb>data table notebook</a>'\n",
              "          + ' to learn more about interactive tables.';\n",
              "        element.innerHTML = '';\n",
              "        dataTable['output_type'] = 'display_data';\n",
              "        await google.colab.output.renderOutput(dataTable, element);\n",
              "        const docLink = document.createElement('div');\n",
              "        docLink.innerHTML = docLinkHtml;\n",
              "        element.appendChild(docLink);\n",
              "      }\n",
              "    </script>\n",
              "  </div>\n",
              "\n",
              "\n",
              "<div id=\"df-9120fc0a-55a3-4076-89ed-2ded06d058f3\">\n",
              "  <button class=\"colab-df-quickchart\" onclick=\"quickchart('df-9120fc0a-55a3-4076-89ed-2ded06d058f3')\"\n",
              "            title=\"Suggest charts.\"\n",
              "            style=\"display:none;\">\n",
              "\n",
              "<svg xmlns=\"http://www.w3.org/2000/svg\" height=\"24px\"viewBox=\"0 0 24 24\"\n",
              "     width=\"24px\">\n",
              "    <g>\n",
              "        <path d=\"M19 3H5c-1.1 0-2 .9-2 2v14c0 1.1.9 2 2 2h14c1.1 0 2-.9 2-2V5c0-1.1-.9-2-2-2zM9 17H7v-7h2v7zm4 0h-2V7h2v10zm4 0h-2v-4h2v4z\"/>\n",
              "    </g>\n",
              "</svg>\n",
              "  </button>\n",
              "\n",
              "<style>\n",
              "  .colab-df-quickchart {\n",
              "      --bg-color: #E8F0FE;\n",
              "      --fill-color: #1967D2;\n",
              "      --hover-bg-color: #E2EBFA;\n",
              "      --hover-fill-color: #174EA6;\n",
              "      --disabled-fill-color: #AAA;\n",
              "      --disabled-bg-color: #DDD;\n",
              "  }\n",
              "\n",
              "  [theme=dark] .colab-df-quickchart {\n",
              "      --bg-color: #3B4455;\n",
              "      --fill-color: #D2E3FC;\n",
              "      --hover-bg-color: #434B5C;\n",
              "      --hover-fill-color: #FFFFFF;\n",
              "      --disabled-bg-color: #3B4455;\n",
              "      --disabled-fill-color: #666;\n",
              "  }\n",
              "\n",
              "  .colab-df-quickchart {\n",
              "    background-color: var(--bg-color);\n",
              "    border: none;\n",
              "    border-radius: 50%;\n",
              "    cursor: pointer;\n",
              "    display: none;\n",
              "    fill: var(--fill-color);\n",
              "    height: 32px;\n",
              "    padding: 0;\n",
              "    width: 32px;\n",
              "  }\n",
              "\n",
              "  .colab-df-quickchart:hover {\n",
              "    background-color: var(--hover-bg-color);\n",
              "    box-shadow: 0 1px 2px rgba(60, 64, 67, 0.3), 0 1px 3px 1px rgba(60, 64, 67, 0.15);\n",
              "    fill: var(--button-hover-fill-color);\n",
              "  }\n",
              "\n",
              "  .colab-df-quickchart-complete:disabled,\n",
              "  .colab-df-quickchart-complete:disabled:hover {\n",
              "    background-color: var(--disabled-bg-color);\n",
              "    fill: var(--disabled-fill-color);\n",
              "    box-shadow: none;\n",
              "  }\n",
              "\n",
              "  .colab-df-spinner {\n",
              "    border: 2px solid var(--fill-color);\n",
              "    border-color: transparent;\n",
              "    border-bottom-color: var(--fill-color);\n",
              "    animation:\n",
              "      spin 1s steps(1) infinite;\n",
              "  }\n",
              "\n",
              "  @keyframes spin {\n",
              "    0% {\n",
              "      border-color: transparent;\n",
              "      border-bottom-color: var(--fill-color);\n",
              "      border-left-color: var(--fill-color);\n",
              "    }\n",
              "    20% {\n",
              "      border-color: transparent;\n",
              "      border-left-color: var(--fill-color);\n",
              "      border-top-color: var(--fill-color);\n",
              "    }\n",
              "    30% {\n",
              "      border-color: transparent;\n",
              "      border-left-color: var(--fill-color);\n",
              "      border-top-color: var(--fill-color);\n",
              "      border-right-color: var(--fill-color);\n",
              "    }\n",
              "    40% {\n",
              "      border-color: transparent;\n",
              "      border-right-color: var(--fill-color);\n",
              "      border-top-color: var(--fill-color);\n",
              "    }\n",
              "    60% {\n",
              "      border-color: transparent;\n",
              "      border-right-color: var(--fill-color);\n",
              "    }\n",
              "    80% {\n",
              "      border-color: transparent;\n",
              "      border-right-color: var(--fill-color);\n",
              "      border-bottom-color: var(--fill-color);\n",
              "    }\n",
              "    90% {\n",
              "      border-color: transparent;\n",
              "      border-bottom-color: var(--fill-color);\n",
              "    }\n",
              "  }\n",
              "</style>\n",
              "\n",
              "  <script>\n",
              "    async function quickchart(key) {\n",
              "      const quickchartButtonEl =\n",
              "        document.querySelector('#' + key + ' button');\n",
              "      quickchartButtonEl.disabled = true;  // To prevent multiple clicks.\n",
              "      quickchartButtonEl.classList.add('colab-df-spinner');\n",
              "      try {\n",
              "        const charts = await google.colab.kernel.invokeFunction(\n",
              "            'suggestCharts', [key], {});\n",
              "      } catch (error) {\n",
              "        console.error('Error during call to suggestCharts:', error);\n",
              "      }\n",
              "      quickchartButtonEl.classList.remove('colab-df-spinner');\n",
              "      quickchartButtonEl.classList.add('colab-df-quickchart-complete');\n",
              "    }\n",
              "    (() => {\n",
              "      let quickchartButtonEl =\n",
              "        document.querySelector('#df-9120fc0a-55a3-4076-89ed-2ded06d058f3 button');\n",
              "      quickchartButtonEl.style.display =\n",
              "        google.colab.kernel.accessAllowed ? 'block' : 'none';\n",
              "    })();\n",
              "  </script>\n",
              "</div>\n",
              "    </div>\n",
              "  </div>\n"
            ]
          },
          "metadata": {},
          "execution_count": 77
        }
      ]
    },
    {
      "cell_type": "code",
      "source": [
        "def scored_state_probing(rat_id,day_id,session_data,state_type='NREMstate'):\n",
        "  '''\n",
        "  Find all intervals of a given type in a session and construct DataFrames with all events (spikes) comprising each period, alongside other relevant columns.\n",
        "\n",
        "  Parameters\n",
        "  ----------\n",
        "  rat_id: int\n",
        "          The chosen animal\n",
        "  day_id: int\n",
        "          The day in which the session happened\n",
        "  state_type: string [default: \"NREMstate\"]\n",
        "          The type of period which to probe. Options are: \"NREMstate\", \"WAKEstate\", \"REMstate\" and \"events_pathologicalstate\"\n",
        "\n",
        "  Returns\n",
        "  ----------\n",
        "  session_staging_df: pandas DataFrame\n",
        "          a pandas DataFrame with the following columns:\n",
        "            - timestamp [float]: instant at which a given spike happened (in s)\n",
        "            - region [string]: either 'PFC' or 'STR'\n",
        "            - day [int]: either '1' or '2'\n",
        "            - group [int]: only '2' for now, for we only have pre-trial spiking data from animals in group 2\n",
        "            - rat [int]: each animal's ID\n",
        "            - stage_type [string]: either {'WAKE','nREM','REM' or 'pathological'}\n",
        "            - period_id [int]: period index for a given stage (e.g.: {stage_type = 'NREM',period_id = 0} is the first NREM period for that neuron in that session)\n",
        "            - duration [float]: the length of a given period in s (e.g. {stage_type = 'NREM',period_id = 0, duration = 15} indicates that the first NREM period for that neuron in that session lasts 15 s)\n",
        "\n",
        "  '''\n",
        "  print(f'Beginning the stage segmentation of {state_type.removesuffix(\"state\")} states from session:\\n(Rat: {rat_id}, day: {day_id})')\n",
        "\n",
        "  #Query for the desired session and find the first and last timestamp, corresponding to the beginning and end of the training protocol during this session\n",
        "  training_begin = session_data.query(f'rat == {rat_id} and day == {day_id}').timestamp.min()\n",
        "  training_end = session_data.query(f'rat == {rat_id} and day == {day_id}').timestamp.max()\n",
        "\n",
        "  #Load the timestamps for each event (e.g. sleep, pathological states) as a list\n",
        "\n",
        "  #We set up these conditionals just for rat 4, whose folders are differently named from the pattern\n",
        "  if rat_id == 4 and day_id == 1:\n",
        "    day_tag = '2017-05-06_09-58-35'\n",
        "  elif rat_id == 4 and day_id == 2:\n",
        "    day_tag = '2017-05-07_13-57-27'\n",
        "  else:\n",
        "    day_tag = f'Day{day_id}'\n",
        "\n",
        "  state_scores_path = f'/content/drive/MyDrive/MSc/Rat{rat_id}/{day_tag}'\n",
        "\n",
        "  #Load the state scoring timestamps proper\n",
        "  data_states = sio.loadmat(state_scores_path+f'/{day_tag}.SleepState.states.mat')\n",
        "\n",
        "  #Not all sessions have pathological states\n",
        "  if state_type == 'events_pathologicalstate':\n",
        "    try:\n",
        "      event_timestamps = data_states['SleepState']['ints'][0][0][state_type][0][0]\n",
        "    except:\n",
        "      raise('There are no pathological (microseizure) states in this session.')\n",
        "  #But all others are guaranteed\n",
        "  else:\n",
        "    event_timestamps = data_states['SleepState']['ints'][0][0][state_type][0][0]\n",
        "\n",
        "  # Load the spike corresponding to this session\n",
        "  data_path = f'drive/MyDrive/MSc/Rat{rat_id}/{day_tag}/'\n",
        "  spikefile_tag = 'openephys'\n",
        "  #exceptions to overwrite names because these folders/files are wrongly named and I do not have permission to change it\n",
        "  if rat_id == 4 and day_id == 1:\n",
        "    spikefile_tag = '2017-05-06_09-58-35'\n",
        "  spikes_test = sio.loadmat(data_path+spikefile_tag+'.spikes.cellinfo.mat')\n",
        "\n",
        "  #UID (unit id)\n",
        "  uid = np.squeeze(spikes_test['spikes'][0][0]['UID'])\n",
        "\n",
        "  #times (spike times)\n",
        "  times = np.squeeze(spikes_test['spikes'][0][0]['times'])\n",
        "\n",
        "  #the region each unit belongs to\n",
        "  region = np.squeeze(spikes_test['spikes'][0][0]['region'])\n",
        "\n",
        "  #shankID, cluID, rawWaveform, maxWaveformCh are also in this .mat file, but I will not be using any of these\n",
        "\n",
        "\n",
        "  def create_or_append(dataframe,current_data):\n",
        "    if dataframe is not None:\n",
        "        return pd.concat([dataframe,pd.DataFrame(current_data)])\n",
        "    else:\n",
        "        return pd.DataFrame(current_data)\n",
        "\n",
        "  session_df = None #empty variable; upon first being called a df it will be rewritten by a df; upon next calls in the loop it will be concatenated with newer inputs\n",
        "\n",
        "  #iterate over neurons\n",
        "  for unit_id in np.squeeze(uid)-1: #uid is 1-indexed as per matlab, whereas python used 0-indexing\n",
        "    current_spike_train = np.squeeze(times[unit_id])\n",
        "    current_unit_region = np.squeeze(region)[unit_id][0]\n",
        "\n",
        "    #for each neuron find which of its spikes fall within each period (stage) of a given type (e.g. sleep) and add each spike as a row in a pandas DataFrame\n",
        "    for period_id,period_limits in enumerate(event_timestamps):\n",
        "      period_timestamps = current_spike_train[np.where((current_spike_train > period_limits[0]) * (current_spike_train < period_limits[1]))]\n",
        "      period_df = pd.DataFrame.from_dict({'timestamp':period_timestamps,'region':current_unit_region,'day':day_id,'group':group_id,\n",
        "                                          'neuron':unit_id,'stage':state_type,'stage_id':period_id,'stage_durtion':np.diff(period_limits)[0]})\n",
        "      session_df = create_or_append(session_df,period_df)\n",
        "\n",
        "  print('Done')\n",
        "  return session_df"
      ],
      "metadata": {
        "id": "IR4ACLrJFPul"
      },
      "execution_count": 118,
      "outputs": []
    },
    {
      "cell_type": "code",
      "source": [
        "session_data = pd.read_csv('/content/drive/MyDrive/backup-mac/ufabc/entire-backup/lfp/all_channels//data/session_data-spikes.csv').copy()\n",
        "\n",
        "rat_id = 6\n",
        "day_id = 1\n",
        "test_df = scored_state_probing(rat_id,day_id,session_data,state_type='NREMstate')"
      ],
      "metadata": {
        "colab": {
          "base_uri": "https://localhost:8080/"
        },
        "id": "AR89L7jPxE0p",
        "outputId": "8cc424a4-d39f-44bf-b6ef-b30e56ec4e3c"
      },
      "execution_count": 119,
      "outputs": [
        {
          "output_type": "stream",
          "name": "stdout",
          "text": [
            "Beginning the stage segmentation of NREM states from session:\n",
            "(Rat: 6, day: 1)\n",
            "Done\n"
          ]
        }
      ]
    },
    {
      "cell_type": "markdown",
      "source": [
        "There is one problem left to solve: session _rat 4, day1_ does not have a 'region' identifier in the _.mat_ file. I will have to infer each region from _shankID_, cross-referencing other sessions' files. I will do that tomorrow."
      ],
      "metadata": {
        "id": "jM0CLKwl0jAO"
      }
    },
    {
      "cell_type": "markdown",
      "source": [
        "# ignore for now"
      ],
      "metadata": {
        "id": "YKcCvNk9mZx7"
      }
    },
    {
      "cell_type": "code",
      "source": [
        "os.listdir('drive/MyDrive/MSc/Rat4/2017-05-07_13-57-27')"
      ],
      "metadata": {
        "colab": {
          "base_uri": "https://localhost:8080/"
        },
        "id": "jaZ1Laid1dPA",
        "outputId": "7a05cf68-2726-4859-dd0a-4cf84465435a"
      },
      "execution_count": null,
      "outputs": [
        {
          "output_type": "execute_result",
          "data": {
            "text/plain": [
              "['112_CH18.continuous',\n",
              " 'cluster_quality.tsv',\n",
              " 'openephys (1).CellClass.cellinfo.mat',\n",
              " 'openephys.CellClass.cellinfo.mat',\n",
              " 'openephys.sessionInfo.mat',\n",
              " 'openephys.spikes.cellinfo.mat',\n",
              " 'openephys.spkDRRD.mat',\n",
              " 'frames',\n",
              " 'openephys.xml',\n",
              " 'openephys.spikes.waveforms.mat',\n",
              " 'waveform_stability_v1.mat',\n",
              " 'stability_all_cells_whole_recording_R4_D2.pdf',\n",
              " 'openephys.lfp',\n",
              " '2017-05-07_13-57-27.SleepScoreLFP.LFP.mat',\n",
              " '2017-05-07_13-57-27.SleepState.states.mat',\n",
              " '2017-05-07_13-57-27.SleepStateEpisodes.states.mat',\n",
              " '2017-05-07_13-57-27.xml']"
            ]
          },
          "metadata": {},
          "execution_count": 7
        }
      ]
    },
    {
      "cell_type": "code",
      "source": [
        "data_path = '/content/drive/MyDrive/backup-mac/ufabc/entire-backup/lfp/all_channels/'\n",
        "os.chdir(data_path)\n",
        "\n",
        "data_states = sio.loadmat('./data/state_scoring/rat4_day2/2017-05-07_13-57-27.SleepState.states.mat')\n",
        "\n",
        "data_episodes = sio.loadmat('./data/state_scoring/rat4_day2/2017-05-07_13-57-27.SleepStateEpisodes.states.mat')\n",
        "\n",
        "data_scores = sio.loadmat('./data/state_scoring/rat4_day2/2017-05-07_13-57-27.SleepScoreLFP.LFP.mat')"
      ],
      "metadata": {
        "id": "fIv1w2AqKpue"
      },
      "execution_count": 7,
      "outputs": []
    },
    {
      "cell_type": "markdown",
      "source": [
        "1. get the asleep periods' durations (or # of spikes?) into a list\n",
        "2. ensemble over asleep periods?"
      ],
      "metadata": {
        "id": "Ijvr6UgSE0fE"
      }
    },
    {
      "cell_type": "code",
      "source": [
        "#This encodes the timestamps [begin, end] for each event of a given state\n",
        "#data_states['SleepState'][0][0][0][0]\n",
        "\n",
        "#Timestamps for awake states\n",
        "awake_timestamps = data_states['SleepState'][0][0][0][0][0][0]\n",
        "\n",
        "#Timestamps for pathological states\n",
        "pathological_timestamps = data_states['SleepState'][0][0][0][0][0][1]\n",
        "\n",
        "#Timestamps for NREM states\n",
        "nrem_timestamps = data_states['SleepState'][0][0][0][0][0][2]\n",
        "\n",
        "#Timestamps for REM states\n",
        "rem_timestamps = data_states['SleepState'][0][0][0][0][0][3]\n",
        "\n",
        "#'''caution: I have figured which timestamps belong to which state due to the dtypes assigned at the level of \"data_states['SleepState'][0][0][0][0]\", but it might be a mistake of mine"
      ],
      "metadata": {
        "id": "Vkg0WZdbEu1Y"
      },
      "execution_count": null,
      "outputs": []
    },
    {
      "cell_type": "code",
      "source": [
        "times[0][0] #primeiro neuronio"
      ],
      "metadata": {
        "colab": {
          "base_uri": "https://localhost:8080/"
        },
        "id": "oCMWGc-LcGiF",
        "outputId": "83266ca8-9806-44b2-c9f1-5952ce7c2e9a"
      },
      "execution_count": null,
      "outputs": [
        {
          "output_type": "execute_result",
          "data": {
            "text/plain": [
              "array([[2.44200000e-01],\n",
              "       [4.11000000e-01],\n",
              "       [8.36966667e-01],\n",
              "       ...,\n",
              "       [1.21058641e+04],\n",
              "       [1.21058885e+04],\n",
              "       [1.21063646e+04]])"
            ]
          },
          "metadata": {},
          "execution_count": 10
        }
      ]
    },
    {
      "cell_type": "code",
      "source": [],
      "metadata": {
        "colab": {
          "base_uri": "https://localhost:8080/"
        },
        "id": "cehMYmEecMQa",
        "outputId": "ff3037be-6c87-4f9d-cf01-df0903e0cde1"
      },
      "execution_count": null,
      "outputs": [
        {
          "output_type": "execute_result",
          "data": {
            "text/plain": [
              "(array([], dtype=int64),)"
            ]
          },
          "metadata": {},
          "execution_count": 27
        }
      ]
    },
    {
      "cell_type": "code",
      "source": [
        "nrem_timestamps[0][0] < test < nrem_timestamps[0][1]"
      ],
      "metadata": {
        "colab": {
          "base_uri": "https://localhost:8080/"
        },
        "id": "NZ47EjLDb7Mj",
        "outputId": "43d2e627-e9e1-4ccb-ed84-533312b59334"
      },
      "execution_count": null,
      "outputs": [
        {
          "output_type": "execute_result",
          "data": {
            "text/plain": [
              "True"
            ]
          },
          "metadata": {},
          "execution_count": 18
        }
      ]
    },
    {
      "cell_type": "code",
      "source": [
        "rat_id = 4\n",
        "day_id = 1\n",
        "\n",
        "#4. Load the timestamps for each event (e.g. sleep, pathological states) as a list\n",
        "\n",
        "###we set up these conditionals just for rat 4, whose folders are differently named from the pattern\n",
        "if rat_id == 4 and day_id == 1:\n",
        "  day_tag = '2017-05-06_09-58-35'\n",
        "elif rat_id == 4 and day_id == 2:\n",
        "  day_tag = '2017-05-07_13-57-27'\n",
        "else:\n",
        "  day_tag = f'Day{day_id}'\n",
        "\n",
        "state_scores_path = f'/content/drive/MyDrive/MSc/Rat{rat_id}/{day_tag}'\n",
        "\n",
        "#Load the state scoring timestamps proper\n",
        "data_states = sio.loadmat(state_scores_path+f'/{day_tag}.SleepState.states.mat')\n",
        "\n",
        "awake_timestamps = data_states['SleepState']['ints'][0][0]['WAKEstate'][0][0]\n",
        "nrem_timestamps = data_states['SleepState']['ints'][0][0]['NREMstate'][0][0]\n",
        "rem_timestamps = data_states['SleepState']['ints'][0][0]['REMstate'][0][0]\n",
        "\n",
        "#Not all sessions have pathological (seizure-like) intervals\n",
        "try:\n",
        "  pathological_timestamps = data_states['SleepState']['ints'][0][0]['events_pathologicalstate'][0][0]\n",
        "except:\n",
        "  pass"
      ],
      "metadata": {
        "id": "KN8B6fiF9owR"
      },
      "execution_count": 2,
      "outputs": []
    },
    {
      "cell_type": "code",
      "source": [
        "spikes_test = sio.loadmat(state_scores_path+f'/{day_tag}.openephys.spikes.cellinfo.mat')"
      ],
      "metadata": {
        "colab": {
          "base_uri": "https://localhost:8080/",
          "height": 444
        },
        "id": "H-ywV3UopOah",
        "outputId": "213b7029-0efd-45cc-b883-c8c573dfc751"
      },
      "execution_count": 11,
      "outputs": [
        {
          "output_type": "error",
          "ename": "FileNotFoundError",
          "evalue": "ignored",
          "traceback": [
            "\u001b[0;31m---------------------------------------------------------------------------\u001b[0m",
            "\u001b[0;31mFileNotFoundError\u001b[0m                         Traceback (most recent call last)",
            "\u001b[0;32m/usr/local/lib/python3.10/dist-packages/scipy/io/matlab/_mio.py\u001b[0m in \u001b[0;36m_open_file\u001b[0;34m(file_like, appendmat, mode)\u001b[0m\n\u001b[1;32m     38\u001b[0m     \u001b[0;32mtry\u001b[0m\u001b[0;34m:\u001b[0m\u001b[0;34m\u001b[0m\u001b[0;34m\u001b[0m\u001b[0m\n\u001b[0;32m---> 39\u001b[0;31m         \u001b[0;32mreturn\u001b[0m \u001b[0mopen\u001b[0m\u001b[0;34m(\u001b[0m\u001b[0mfile_like\u001b[0m\u001b[0;34m,\u001b[0m \u001b[0mmode\u001b[0m\u001b[0;34m)\u001b[0m\u001b[0;34m,\u001b[0m \u001b[0;32mTrue\u001b[0m\u001b[0;34m\u001b[0m\u001b[0;34m\u001b[0m\u001b[0m\n\u001b[0m\u001b[1;32m     40\u001b[0m     \u001b[0;32mexcept\u001b[0m \u001b[0mOSError\u001b[0m \u001b[0;32mas\u001b[0m \u001b[0me\u001b[0m\u001b[0;34m:\u001b[0m\u001b[0;34m\u001b[0m\u001b[0;34m\u001b[0m\u001b[0m\n",
            "\u001b[0;31mFileNotFoundError\u001b[0m: [Errno 2] No such file or directory: '/content/drive/MyDrive/MSc/Rat4/2017-05-06_09-58-35/2017-05-06_09-58-35.openephys.spikes.cellinfo.mat'",
            "\nDuring handling of the above exception, another exception occurred:\n",
            "\u001b[0;31mFileNotFoundError\u001b[0m                         Traceback (most recent call last)",
            "\u001b[0;32m<ipython-input-11-9511be4a10a7>\u001b[0m in \u001b[0;36m<cell line: 1>\u001b[0;34m()\u001b[0m\n\u001b[0;32m----> 1\u001b[0;31m \u001b[0mspikes_test\u001b[0m \u001b[0;34m=\u001b[0m \u001b[0msio\u001b[0m\u001b[0;34m.\u001b[0m\u001b[0mloadmat\u001b[0m\u001b[0;34m(\u001b[0m\u001b[0mstate_scores_path\u001b[0m\u001b[0;34m+\u001b[0m\u001b[0;34mf'/{day_tag}.openephys.spikes.cellinfo.mat'\u001b[0m\u001b[0;34m)\u001b[0m\u001b[0;34m\u001b[0m\u001b[0;34m\u001b[0m\u001b[0m\n\u001b[0m",
            "\u001b[0;32m/usr/local/lib/python3.10/dist-packages/scipy/io/matlab/_mio.py\u001b[0m in \u001b[0;36mloadmat\u001b[0;34m(file_name, mdict, appendmat, **kwargs)\u001b[0m\n\u001b[1;32m    223\u001b[0m     \"\"\"\n\u001b[1;32m    224\u001b[0m     \u001b[0mvariable_names\u001b[0m \u001b[0;34m=\u001b[0m \u001b[0mkwargs\u001b[0m\u001b[0;34m.\u001b[0m\u001b[0mpop\u001b[0m\u001b[0;34m(\u001b[0m\u001b[0;34m'variable_names'\u001b[0m\u001b[0;34m,\u001b[0m \u001b[0;32mNone\u001b[0m\u001b[0;34m)\u001b[0m\u001b[0;34m\u001b[0m\u001b[0;34m\u001b[0m\u001b[0m\n\u001b[0;32m--> 225\u001b[0;31m     \u001b[0;32mwith\u001b[0m \u001b[0m_open_file_context\u001b[0m\u001b[0;34m(\u001b[0m\u001b[0mfile_name\u001b[0m\u001b[0;34m,\u001b[0m \u001b[0mappendmat\u001b[0m\u001b[0;34m)\u001b[0m \u001b[0;32mas\u001b[0m \u001b[0mf\u001b[0m\u001b[0;34m:\u001b[0m\u001b[0;34m\u001b[0m\u001b[0;34m\u001b[0m\u001b[0m\n\u001b[0m\u001b[1;32m    226\u001b[0m         \u001b[0mMR\u001b[0m\u001b[0;34m,\u001b[0m \u001b[0m_\u001b[0m \u001b[0;34m=\u001b[0m \u001b[0mmat_reader_factory\u001b[0m\u001b[0;34m(\u001b[0m\u001b[0mf\u001b[0m\u001b[0;34m,\u001b[0m \u001b[0;34m**\u001b[0m\u001b[0mkwargs\u001b[0m\u001b[0;34m)\u001b[0m\u001b[0;34m\u001b[0m\u001b[0;34m\u001b[0m\u001b[0m\n\u001b[1;32m    227\u001b[0m         \u001b[0mmatfile_dict\u001b[0m \u001b[0;34m=\u001b[0m \u001b[0mMR\u001b[0m\u001b[0;34m.\u001b[0m\u001b[0mget_variables\u001b[0m\u001b[0;34m(\u001b[0m\u001b[0mvariable_names\u001b[0m\u001b[0;34m)\u001b[0m\u001b[0;34m\u001b[0m\u001b[0;34m\u001b[0m\u001b[0m\n",
            "\u001b[0;32m/usr/lib/python3.10/contextlib.py\u001b[0m in \u001b[0;36m__enter__\u001b[0;34m(self)\u001b[0m\n\u001b[1;32m    133\u001b[0m         \u001b[0;32mdel\u001b[0m \u001b[0mself\u001b[0m\u001b[0;34m.\u001b[0m\u001b[0margs\u001b[0m\u001b[0;34m,\u001b[0m \u001b[0mself\u001b[0m\u001b[0;34m.\u001b[0m\u001b[0mkwds\u001b[0m\u001b[0;34m,\u001b[0m \u001b[0mself\u001b[0m\u001b[0;34m.\u001b[0m\u001b[0mfunc\u001b[0m\u001b[0;34m\u001b[0m\u001b[0;34m\u001b[0m\u001b[0m\n\u001b[1;32m    134\u001b[0m         \u001b[0;32mtry\u001b[0m\u001b[0;34m:\u001b[0m\u001b[0;34m\u001b[0m\u001b[0;34m\u001b[0m\u001b[0m\n\u001b[0;32m--> 135\u001b[0;31m             \u001b[0;32mreturn\u001b[0m \u001b[0mnext\u001b[0m\u001b[0;34m(\u001b[0m\u001b[0mself\u001b[0m\u001b[0;34m.\u001b[0m\u001b[0mgen\u001b[0m\u001b[0;34m)\u001b[0m\u001b[0;34m\u001b[0m\u001b[0;34m\u001b[0m\u001b[0m\n\u001b[0m\u001b[1;32m    136\u001b[0m         \u001b[0;32mexcept\u001b[0m \u001b[0mStopIteration\u001b[0m\u001b[0;34m:\u001b[0m\u001b[0;34m\u001b[0m\u001b[0;34m\u001b[0m\u001b[0m\n\u001b[1;32m    137\u001b[0m             \u001b[0;32mraise\u001b[0m \u001b[0mRuntimeError\u001b[0m\u001b[0;34m(\u001b[0m\u001b[0;34m\"generator didn't yield\"\u001b[0m\u001b[0;34m)\u001b[0m \u001b[0;32mfrom\u001b[0m \u001b[0;32mNone\u001b[0m\u001b[0;34m\u001b[0m\u001b[0;34m\u001b[0m\u001b[0m\n",
            "\u001b[0;32m/usr/local/lib/python3.10/dist-packages/scipy/io/matlab/_mio.py\u001b[0m in \u001b[0;36m_open_file_context\u001b[0;34m(file_like, appendmat, mode)\u001b[0m\n\u001b[1;32m     15\u001b[0m \u001b[0;34m@\u001b[0m\u001b[0mcontextmanager\u001b[0m\u001b[0;34m\u001b[0m\u001b[0;34m\u001b[0m\u001b[0m\n\u001b[1;32m     16\u001b[0m \u001b[0;32mdef\u001b[0m \u001b[0m_open_file_context\u001b[0m\u001b[0;34m(\u001b[0m\u001b[0mfile_like\u001b[0m\u001b[0;34m,\u001b[0m \u001b[0mappendmat\u001b[0m\u001b[0;34m,\u001b[0m \u001b[0mmode\u001b[0m\u001b[0;34m=\u001b[0m\u001b[0;34m'rb'\u001b[0m\u001b[0;34m)\u001b[0m\u001b[0;34m:\u001b[0m\u001b[0;34m\u001b[0m\u001b[0;34m\u001b[0m\u001b[0m\n\u001b[0;32m---> 17\u001b[0;31m     \u001b[0mf\u001b[0m\u001b[0;34m,\u001b[0m \u001b[0mopened\u001b[0m \u001b[0;34m=\u001b[0m \u001b[0m_open_file\u001b[0m\u001b[0;34m(\u001b[0m\u001b[0mfile_like\u001b[0m\u001b[0;34m,\u001b[0m \u001b[0mappendmat\u001b[0m\u001b[0;34m,\u001b[0m \u001b[0mmode\u001b[0m\u001b[0;34m)\u001b[0m\u001b[0;34m\u001b[0m\u001b[0;34m\u001b[0m\u001b[0m\n\u001b[0m\u001b[1;32m     18\u001b[0m     \u001b[0;32mtry\u001b[0m\u001b[0;34m:\u001b[0m\u001b[0;34m\u001b[0m\u001b[0;34m\u001b[0m\u001b[0m\n\u001b[1;32m     19\u001b[0m         \u001b[0;32myield\u001b[0m \u001b[0mf\u001b[0m\u001b[0;34m\u001b[0m\u001b[0;34m\u001b[0m\u001b[0m\n",
            "\u001b[0;32m/usr/local/lib/python3.10/dist-packages/scipy/io/matlab/_mio.py\u001b[0m in \u001b[0;36m_open_file\u001b[0;34m(file_like, appendmat, mode)\u001b[0m\n\u001b[1;32m     43\u001b[0m             \u001b[0;32mif\u001b[0m \u001b[0mappendmat\u001b[0m \u001b[0;32mand\u001b[0m \u001b[0;32mnot\u001b[0m \u001b[0mfile_like\u001b[0m\u001b[0;34m.\u001b[0m\u001b[0mendswith\u001b[0m\u001b[0;34m(\u001b[0m\u001b[0;34m'.mat'\u001b[0m\u001b[0;34m)\u001b[0m\u001b[0;34m:\u001b[0m\u001b[0;34m\u001b[0m\u001b[0;34m\u001b[0m\u001b[0m\n\u001b[1;32m     44\u001b[0m                 \u001b[0mfile_like\u001b[0m \u001b[0;34m+=\u001b[0m \u001b[0;34m'.mat'\u001b[0m\u001b[0;34m\u001b[0m\u001b[0;34m\u001b[0m\u001b[0m\n\u001b[0;32m---> 45\u001b[0;31m             \u001b[0;32mreturn\u001b[0m \u001b[0mopen\u001b[0m\u001b[0;34m(\u001b[0m\u001b[0mfile_like\u001b[0m\u001b[0;34m,\u001b[0m \u001b[0mmode\u001b[0m\u001b[0;34m)\u001b[0m\u001b[0;34m,\u001b[0m \u001b[0;32mTrue\u001b[0m\u001b[0;34m\u001b[0m\u001b[0;34m\u001b[0m\u001b[0m\n\u001b[0m\u001b[1;32m     46\u001b[0m         \u001b[0;32melse\u001b[0m\u001b[0;34m:\u001b[0m\u001b[0;34m\u001b[0m\u001b[0;34m\u001b[0m\u001b[0m\n\u001b[1;32m     47\u001b[0m             raise OSError(\n",
            "\u001b[0;31mFileNotFoundError\u001b[0m: [Errno 2] No such file or directory: '/content/drive/MyDrive/MSc/Rat4/2017-05-06_09-58-35/2017-05-06_09-58-35.openephys.spikes.cellinfo.mat'"
          ]
        }
      ]
    },
    {
      "cell_type": "code",
      "source": [
        "os.listdir(state_scores_path)"
      ],
      "metadata": {
        "colab": {
          "base_uri": "https://localhost:8080/"
        },
        "id": "3tZIH8fKp24V",
        "outputId": "1a298ba8-a8a7-44ab-9d1b-1e036b62d620"
      },
      "execution_count": 10,
      "outputs": [
        {
          "output_type": "execute_result",
          "data": {
            "text/plain": [
              "['settings.xml',\n",
              " '112_CH12.continuous',\n",
              " '112_CH2.continuous',\n",
              " '112_CH22.continuous',\n",
              " '112_CH31.continuous',\n",
              " '112_CH25.continuous',\n",
              " '112_CH3.continuous',\n",
              " '112_CH27.continuous',\n",
              " '112_CH21.continuous',\n",
              " '112_CH24.continuous',\n",
              " '112_CH32.continuous',\n",
              " '112_CH16.continuous',\n",
              " '112_CH14.continuous',\n",
              " '112_CH10.continuous',\n",
              " '112_CH19.continuous',\n",
              " '112_CH30.continuous',\n",
              " '112_CH4.continuous',\n",
              " '112_CH9.continuous',\n",
              " '112_CH5.continuous',\n",
              " '112_CH26.continuous',\n",
              " '112_CH15.continuous',\n",
              " '112_CH11.continuous',\n",
              " '112_CH28.continuous',\n",
              " '112_CH1.continuous',\n",
              " '112_CH20.continuous',\n",
              " '112_CH7.continuous',\n",
              " '112_CH18.continuous',\n",
              " '112_CH23.continuous',\n",
              " '112_AUX1.continuous',\n",
              " '112_CH8.continuous',\n",
              " '112_CH29.continuous',\n",
              " '112_CH13.continuous',\n",
              " 'Continuous_Data.openephys',\n",
              " 'messages.events',\n",
              " '112_AUX2.continuous',\n",
              " '112_CH17.continuous',\n",
              " '112_AUX3.continuous',\n",
              " '112_CH6.continuous',\n",
              " 'cluster_quality.tsv',\n",
              " 'frames',\n",
              " 'Kilosort2_2021-06-24_230901',\n",
              " '2017-05-06_09-58-35.spikes.cellinfo.mat',\n",
              " '2017-05-06_09-58-35.xml',\n",
              " '2017-05-06_09-58-35.nrs',\n",
              " 'labels.npy',\n",
              " 'nosepoke_timestamps.npy',\n",
              " 'cluster_ID_shank (1).npy',\n",
              " 'cluster_ID_shank.npy',\n",
              " 'sending_python_format.m',\n",
              " '2017-05-06_09-58-35.spikes.waveforms.mat',\n",
              " 'stability_all_cells_whole_recording_R4_D1.pdf',\n",
              " '2017-05-06_09-58-35.phy2_labels.mat',\n",
              " '2017-05-06_09-58-35.sessionInfo.mat',\n",
              " 'Behavior.mat',\n",
              " 'chanMap.mat',\n",
              " 'waveform_stability_v1.mat',\n",
              " '2017-05-06_09-58-35.lfp',\n",
              " '2017-05-06_09-58-35.SleepScoreLFP.LFP.mat',\n",
              " '2017-05-06_09-58-35.SleepState.states.mat',\n",
              " '2017-05-06_09-58-35.SleepStateEpisodes.states.mat']"
            ]
          },
          "metadata": {},
          "execution_count": 10
        }
      ]
    }
  ]
}